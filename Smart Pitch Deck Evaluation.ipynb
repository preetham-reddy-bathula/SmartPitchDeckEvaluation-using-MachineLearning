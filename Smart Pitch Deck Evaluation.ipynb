{
 "cells": [
  {
   "cell_type": "code",
   "execution_count": 76,
   "metadata": {
    "id": "TWzPZuDjcZyr"
   },
   "outputs": [],
   "source": [
    "import pandas as pd\n",
    "import io\n",
    "import os"
   ]
  },
  {
   "cell_type": "code",
   "execution_count": 77,
   "metadata": {
    "id": "AVmavri-ceWS"
   },
   "outputs": [],
   "source": [
    "file_path = 'your_file_path_here'  # Replace with the path to your CSV file\n",
    "df = pd.read_csv(file_path)"
   ]
  },
  {
   "cell_type": "code",
   "execution_count": 78,
   "metadata": {
    "colab": {
     "base_uri": "https://localhost:8080/"
    },
    "id": "XsaA-PnvclXs",
    "outputId": "aacd53f1-3d7f-4ec6-cbbb-a13286bb0386"
   },
   "outputs": [
    {
     "name": "stdout",
     "output_type": "stream",
     "text": [
      "<class 'pandas.core.frame.DataFrame'>\n",
      "RangeIndex: 55 entries, 0 to 54\n",
      "Data columns (total 12 columns):\n",
      " #   Column                                                             Non-Null Count  Dtype  \n",
      "---  ------                                                             --------------  -----  \n",
      " 0   Name                                                               55 non-null     object \n",
      " 1   Project Name                                                       55 non-null     object \n",
      " 2   Project Link                                                       55 non-null     object \n",
      " 3   Identification of the problem + Understanding gravity of problem   54 non-null     float64\n",
      " 4   Sizing of the problem                                              55 non-null     int64  \n",
      " 5   Clarity on product idea/ who they are                              55 non-null     int64  \n",
      " 6   Understanding of competitors and landscape                         55 non-null     int64  \n",
      " 7   GTM Strategy (how will they reach out to consumers)                55 non-null     int64  \n",
      " 8   Business Model (how will they earn money)                          55 non-null     int64  \n",
      " 9   Team                                                               55 non-null     int64  \n",
      " 10  Product Differentiator                                             55 non-null     int64  \n",
      " 11  TOTAL                                                              55 non-null     float64\n",
      "dtypes: float64(2), int64(7), object(3)\n",
      "memory usage: 5.3+ KB\n"
     ]
    }
   ],
   "source": [
    "df.info()"
   ]
  },
  {
   "cell_type": "code",
   "execution_count": 79,
   "metadata": {
    "colab": {
     "base_uri": "https://localhost:8080/"
    },
    "id": "ElL4xJDpUXQ4",
    "outputId": "4ad5c7be-3447-4200-a8ad-244732d24d32"
   },
   "outputs": [
    {
     "name": "stdout",
     "output_type": "stream",
     "text": [
      "(55, 12)\n"
     ]
    }
   ],
   "source": [
    "print(df.shape)"
   ]
  },
  {
   "cell_type": "code",
   "execution_count": 80,
   "metadata": {
    "id": "QGH2vEN1cmwi"
   },
   "outputs": [],
   "source": [
    "# Function to clean and prepare names for matching\n",
    "def clean_name(name):\n",
    "    return name.strip().lower()  "
   ]
  },
  {
   "cell_type": "code",
   "execution_count": 81,
   "metadata": {
    "colab": {
     "base_uri": "https://localhost:8080/"
    },
    "id": "GGJyb72U-DW6",
    "outputId": "7713b338-04c8-47f9-a0ef-458af1a688ed"
   },
   "outputs": [
    {
     "name": "stdout",
     "output_type": "stream",
     "text": [
      "Requirement already satisfied: thefuzz in /usr/local/lib/python3.10/dist-packages (0.20.0)\n",
      "Requirement already satisfied: python-pptx in /usr/local/lib/python3.10/dist-packages (0.6.23)\n",
      "Requirement already satisfied: pymuPDF in /usr/local/lib/python3.10/dist-packages (1.23.6)\n",
      "Requirement already satisfied: frontend in /usr/local/lib/python3.10/dist-packages (0.0.3)\n",
      "Requirement already satisfied: python-docx in /usr/local/lib/python3.10/dist-packages (1.1.0)\n",
      "Requirement already satisfied: rapidfuzz<4.0.0,>=3.0.0 in /usr/local/lib/python3.10/dist-packages (from thefuzz) (3.5.2)\n",
      "Requirement already satisfied: lxml>=3.1.0 in /usr/local/lib/python3.10/dist-packages (from python-pptx) (4.9.3)\n",
      "Requirement already satisfied: Pillow>=3.3.2 in /usr/local/lib/python3.10/dist-packages (from python-pptx) (9.4.0)\n",
      "Requirement already satisfied: XlsxWriter>=0.5.7 in /usr/local/lib/python3.10/dist-packages (from python-pptx) (3.1.9)\n",
      "Requirement already satisfied: PyMuPDFb==1.23.6 in /usr/local/lib/python3.10/dist-packages (from pymuPDF) (1.23.6)\n",
      "Requirement already satisfied: starlette>=0.12.0 in /usr/local/lib/python3.10/dist-packages (from frontend) (0.32.0.post1)\n",
      "Requirement already satisfied: uvicorn>=0.7.1 in /usr/local/lib/python3.10/dist-packages (from frontend) (0.24.0.post1)\n",
      "Requirement already satisfied: itsdangerous>=1.1.0 in /usr/local/lib/python3.10/dist-packages (from frontend) (2.1.2)\n",
      "Requirement already satisfied: aiofiles in /usr/local/lib/python3.10/dist-packages (from frontend) (23.2.1)\n",
      "Requirement already satisfied: typing-extensions in /usr/local/lib/python3.10/dist-packages (from python-docx) (4.5.0)\n",
      "Requirement already satisfied: anyio<5,>=3.4.0 in /usr/local/lib/python3.10/dist-packages (from starlette>=0.12.0->frontend) (3.7.1)\n",
      "Requirement already satisfied: click>=7.0 in /usr/local/lib/python3.10/dist-packages (from uvicorn>=0.7.1->frontend) (8.1.7)\n",
      "Requirement already satisfied: h11>=0.8 in /usr/local/lib/python3.10/dist-packages (from uvicorn>=0.7.1->frontend) (0.14.0)\n",
      "Requirement already satisfied: idna>=2.8 in /usr/local/lib/python3.10/dist-packages (from anyio<5,>=3.4.0->starlette>=0.12.0->frontend) (3.4)\n",
      "Requirement already satisfied: sniffio>=1.1 in /usr/local/lib/python3.10/dist-packages (from anyio<5,>=3.4.0->starlette>=0.12.0->frontend) (1.3.0)\n",
      "Requirement already satisfied: exceptiongroup in /usr/local/lib/python3.10/dist-packages (from anyio<5,>=3.4.0->starlette>=0.12.0->frontend) (1.1.3)\n"
     ]
    }
   ],
   "source": [
    "!pip install thefuzz python-pptx pymuPDF frontend python-docx"
   ]
  },
  {
   "cell_type": "code",
   "execution_count": 82,
   "metadata": {
    "id": "Kt3O9vrwc_Rk"
   },
   "outputs": [],
   "source": [
    "from thefuzz import process\n",
    "from pptx import Presentation\n",
    "import fitz #py 3.8 fitz error\n",
    "from PIL import Image\n",
    "from docx import Document"
   ]
  },
  {
   "cell_type": "code",
   "execution_count": 83,
   "metadata": {
    "id": "kYOJEAPdc4T6"
   },
   "outputs": [],
   "source": [
    "# Flatten and clean names from the spreadsheet for matching\n",
    "spreadsheet_names = [clean_name(name) for entry in df['Name'] for name in entry.split('\\n')]\n",
    "\n",
    "# Fuzzy matching function\n",
    "def fuzzy_match(file, names):\n",
    "    highest = process.extractOne(file, names)\n",
    "    return highest if highest[1] > 80 else None"
   ]
  },
  {
   "cell_type": "code",
   "execution_count": 84,
   "metadata": {
    "id": "Mx145DexdEg1"
   },
   "outputs": [],
   "source": [
    "# Directory where the files are stored\n",
    "files_dir = '/content/drive/MyDrive/Files'\n",
    "\n",
    "# Mapping and text extraction process\n",
    "file_mapping = []\n",
    "unmatched_files = []\n",
    "all_files = [file for file in os.listdir(files_dir)]\n",
    "name_file_mapping = []\n",
    "\n",
    "for file in all_files:\n",
    "    # Match files with names from the spreadsheet\n",
    "    match = fuzzy_match(clean_name(file), spreadsheet_names)\n",
    "    if match:\n",
    "        # Search for the full name in the dataframe where match[0] is a substring of the 'Name'\n",
    "        matched_entry = df[df['Name'].str.contains(match[0], case=False, na=False)]\n",
    "\n",
    "        # If a matching entry is found in the dataframe\n",
    "        if not matched_entry.empty:\n",
    "            for _, row in matched_entry.iterrows():\n",
    "                name_file_mapping.append({\n",
    "                    'Name': row['Name'],\n",
    "                    'file_name': file\n",
    "                })\n",
    "        file_mapping.append({'file_name': file, 'matched_name': match[0]})\n",
    "    else:\n",
    "        unmatched_files.append(file)\n",
    "\n"
   ]
  },
  {
   "cell_type": "code",
   "execution_count": 87,
   "metadata": {
    "colab": {
     "base_uri": "https://localhost:8080/"
    },
    "id": "ZBRXscuPdNiz",
    "outputId": "d81a444c-7286-470c-8df3-826597273b84"
   },
   "outputs": [
    {
     "data": {
      "text/plain": [
       "52"
      ]
     },
     "execution_count": 87,
     "metadata": {},
     "output_type": "execute_result"
    }
   ],
   "source": [
    "len(file_mapping)"
   ]
  },
  {
   "cell_type": "code",
   "execution_count": null,
   "metadata": {
    "colab": {
     "base_uri": "https://localhost:8080/"
    },
    "id": "ZYnD75s9dVUS",
    "outputId": "d5e0c8a3-5a82-474b-aa0d-4243fcefd53e"
   },
   "outputs": [],
   "source": [
    "unmatched_files"
   ]
  },
  {
   "cell_type": "code",
   "execution_count": 89,
   "metadata": {
    "id": "ImFZ2kajdfZx"
   },
   "outputs": [],
   "source": [
    "#Update any missed manual matches\n",
    "manual_matches = { # unmatched entries }\n",
    "\n",
    "# Update the file_mapping with manual matches\n",
    "for file, matched_name in manual_matches.items():\n",
    "    file_mapping.append({'file_name': file, 'matched_name': clean_name(matched_name)})\n",
    "    name_file_mapping.append({'Name': matched_name,'file_name': file})\n",
    "\n",
    "# Now, convert the file mapping list to a DataFrame\n",
    "file_mapping_df = pd.DataFrame(name_file_mapping)"
   ]
  },
  {
   "cell_type": "code",
   "execution_count": null,
   "metadata": {
    "colab": {
     "base_uri": "https://localhost:8080/",
     "height": 1000
    },
    "id": "T8gmWAniePhm",
    "outputId": "33c29160-03f2-4c87-80ae-64bda330ba73"
   },
   "outputs": [],
   "source": [
    "file_mapping_df"
   ]
  },
  {
   "cell_type": "code",
   "execution_count": 91,
   "metadata": {
    "id": "J9X3OHf2Dikz"
   },
   "outputs": [],
   "source": [
    "file_mapping_df=file_mapping_df.drop(37)"
   ]
  },
  {
   "cell_type": "code",
   "execution_count": null,
   "metadata": {
    "colab": {
     "base_uri": "https://localhost:8080/",
     "height": 1000
    },
    "id": "gAlrKiKkUVSB",
    "outputId": "f0a683c0-8bef-4faa-b46a-8c4fab212273"
   },
   "outputs": [],
   "source": [
    "#file_mapping_df=file_mapping_df.drop([30,56,57,58])\n",
    "\n",
    "file_mapping_df"
   ]
  },
  {
   "cell_type": "code",
   "execution_count": 93,
   "metadata": {
    "colab": {
     "base_uri": "https://localhost:8080/"
    },
    "id": "GEb-GcbbUmRy",
    "outputId": "141e97da-58ec-4e04-fafd-dfc4471675ef"
   },
   "outputs": [
    {
     "data": {
      "text/plain": [
       "55"
      ]
     },
     "execution_count": 93,
     "metadata": {},
     "output_type": "execute_result"
    }
   ],
   "source": [
    "len(file_mapping_df)"
   ]
  },
  {
   "cell_type": "code",
   "execution_count": 94,
   "metadata": {
    "id": "_GynvTWseT9l"
   },
   "outputs": [],
   "source": [
    "# Function to extract text from PPTX files\n",
    "def extract_text_from_pptx(presentation_path):\n",
    "    prs = Presentation(presentation_path)\n",
    "    text = []\n",
    "    for slide in prs.slides:\n",
    "        for shape in slide.shapes:\n",
    "            if hasattr(shape, \"text\"):\n",
    "                text.append(shape.text.strip())\n",
    "    return \"\\n\".join(text)\n",
    "\n",
    "\n",
    "def extract_text_from_docx(docx_path):\n",
    "    doc = Document(docx_path)\n",
    "    full_text = []\n",
    "    for para in doc.paragraphs:\n",
    "        full_text.append(para.text)\n",
    "    return '\\n'.join(full_text)\n",
    "\n",
    "\n",
    "# Function to extract text from PDF files, including OCR if needed\n",
    "def extract_text_from_pdf(pdf_path):\n",
    "    pdf_document = fitz.open(pdf_path)\n",
    "    text = \"\"\n",
    "    for page in pdf_document:\n",
    "        # Extract text\n",
    "        text += page.get_text()\n",
    "    pdf_document.close()\n",
    "    return text"
   ]
  },
  {
   "cell_type": "code",
   "execution_count": 95,
   "metadata": {
    "id": "Hj799nm5edl-"
   },
   "outputs": [],
   "source": [
    "extracted_texts = {}\n",
    "for mapping in file_mapping:\n",
    "    file_name = mapping['file_name']\n",
    "    full_path = os.path.join(files_dir, file_name)\n",
    "    if full_path.lower().endswith('.pdf'):\n",
    "        extracted_text = extract_text_from_pdf(full_path)\n",
    "    elif full_path.lower().endswith('.pptx'):\n",
    "        extracted_text = extract_text_from_pptx(full_path)\n",
    "    else:\n",
    "        continue  # Skip files that are not PDF or PPTX\n",
    "    extracted_texts[file_name] = extracted_text"
   ]
  },
  {
   "cell_type": "code",
   "execution_count": 96,
   "metadata": {
    "colab": {
     "base_uri": "https://localhost:8080/"
    },
    "id": "VL2wW_WvkMCJ",
    "outputId": "50852490-b8b0-4aff-8751-85e02bc27874"
   },
   "outputs": [
    {
     "data": {
      "text/plain": [
       "55"
      ]
     },
     "execution_count": 96,
     "metadata": {},
     "output_type": "execute_result"
    }
   ],
   "source": [
    "len(extracted_texts)"
   ]
  },
  {
   "cell_type": "code",
   "execution_count": 97,
   "metadata": {
    "id": "96FDLj8whq03"
   },
   "outputs": [],
   "source": [
    "import re\n",
    "import nltk\n",
    "from nltk.corpus import stopwords\n",
    "from nltk.tokenize import word_tokenize\n",
    "from nltk.stem import WordNetLemmatizer\n",
    "from sklearn.feature_extraction.text import TfidfVectorizer"
   ]
  },
  {
   "cell_type": "code",
   "execution_count": 98,
   "metadata": {
    "colab": {
     "base_uri": "https://localhost:8080/"
    },
    "id": "Yx3WPSQ9lVgB",
    "outputId": "b8066bf9-a3c0-48ea-d098-468cabc16549"
   },
   "outputs": [
    {
     "name": "stderr",
     "output_type": "stream",
     "text": [
      "[nltk_data] Downloading package punkt to /root/nltk_data...\n",
      "[nltk_data]   Package punkt is already up-to-date!\n",
      "[nltk_data] Downloading package stopwords to /root/nltk_data...\n",
      "[nltk_data]   Package stopwords is already up-to-date!\n",
      "[nltk_data] Downloading package wordnet to /root/nltk_data...\n",
      "[nltk_data]   Package wordnet is already up-to-date!\n"
     ]
    }
   ],
   "source": [
    "# Download necessary NLTK resources\n",
    "nltk.download('punkt')\n",
    "nltk.download('stopwords')\n",
    "nltk.download('wordnet')\n",
    "\n",
    "# Initialize the lemmatizer\n",
    "lemmatizer = WordNetLemmatizer()\n",
    "\n",
    "# Function to preprocess text\n",
    "def preprocess_text(text):\n",
    "    text = text.lower()\n",
    "    # Remove punctuation\n",
    "    text = re.sub(r'[^\\w\\s]', '', text)\n",
    "    # Tokenize text\n",
    "    tokens = word_tokenize(text)\n",
    "    # Remove stop words and lemmatize\n",
    "    tokens = [lemmatizer.lemmatize(word) for word in tokens if word not in stopwords.words('english')]\n",
    "    # Re-join tokens into a string\n",
    "    text = ' '.join(tokens)\n",
    "    return text\n",
    "\n",
    "# Preprocess all texts and store in a new dictionary\n",
    "preprocessed_texts = {file_name: preprocess_text(text) for file_name, text in extracted_texts.items()}\n"
   ]
  },
  {
   "cell_type": "code",
   "execution_count": 100,
   "metadata": {
    "id": "y7taj9Sqla4E"
   },
   "outputs": [],
   "source": [
    "# Vectorization (example with TF-IDF)\n",
    "tfidf_vectorizer = TfidfVectorizer(max_features=100) \n",
    "tfidf_matrix = tfidf_vectorizer.fit_transform(preprocessed_texts.values())"
   ]
  },
  {
   "cell_type": "code",
   "execution_count": 101,
   "metadata": {
    "id": "KI-oS615HRZ-"
   },
   "outputs": [],
   "source": [
    "preprocessed_texts_df = pd.DataFrame.from_dict(extracted_texts, orient='index', columns=['preprocessed_text'])\n",
    "preprocessed_texts_df['file_name'] = preprocessed_texts_df.index.astype(str)"
   ]
  },
  {
   "cell_type": "code",
   "execution_count": 102,
   "metadata": {
    "id": "jSTqL9x0MtAh"
   },
   "outputs": [],
   "source": [
    "preprocessed_texts_with_files_df = pd.merge(file_mapping_df, preprocessed_texts_df, on='file_name')"
   ]
  },
  {
   "cell_type": "code",
   "execution_count": null,
   "metadata": {
    "colab": {
     "base_uri": "https://localhost:8080/",
     "height": 1000
    },
    "id": "m52E6C5jWIcQ",
    "outputId": "5504597e-bf61-4e3a-aea9-4affadae675e"
   },
   "outputs": [],
   "source": [
    "preprocessed_texts_with_files_df"
   ]
  },
  {
   "cell_type": "code",
   "execution_count": 104,
   "metadata": {
    "colab": {
     "base_uri": "https://localhost:8080/"
    },
    "id": "X20eTCypU7As",
    "outputId": "7a62e9ac-2b59-4378-9c55-7f73a256c891"
   },
   "outputs": [
    {
     "data": {
      "text/plain": [
       "55"
      ]
     },
     "execution_count": 104,
     "metadata": {},
     "output_type": "execute_result"
    }
   ],
   "source": [
    "len(preprocessed_texts_with_files_df)"
   ]
  },
  {
   "cell_type": "code",
   "execution_count": 105,
   "metadata": {
    "id": "De14NOBJM31o"
   },
   "outputs": [],
   "source": [
    "labeled_data_df = pd.read_csv('file_path')\n",
    "merged_df = pd.merge(labeled_data_df, preprocessed_texts_with_files_df, on='Name')"
   ]
  },
  {
   "cell_type": "code",
   "execution_count": null,
   "metadata": {
    "colab": {
     "base_uri": "https://localhost:8080/",
     "height": 1000
    },
    "id": "--QaVjpJUu-j",
    "outputId": "d1f147b4-75fd-4194-bfee-a40f5518864b"
   },
   "outputs": [],
   "source": [
    "merged_df.head(55)"
   ]
  },
  {
   "cell_type": "code",
   "execution_count": 107,
   "metadata": {
    "colab": {
     "base_uri": "https://localhost:8080/"
    },
    "id": "KXF0qsPXZY4L",
    "outputId": "6b0175b3-5700-48f1-f25c-161c6d61d152"
   },
   "outputs": [
    {
     "name": "stdout",
     "output_type": "stream",
     "text": [
      "Index(['Name', 'Project Name ', 'Project Link',\n",
      "       'Identification of the problem + Understanding gravity of problem ',\n",
      "       'Sizing of the problem', 'Clarity on product idea/ who they are ',\n",
      "       'Understanding of competitors and landscape ',\n",
      "       'GTM Strategy (how will they reach out to consumers)',\n",
      "       'Business Model (how will they earn money)', 'Team',\n",
      "       'Product Differentiator ', 'TOTAL', 'file_name', 'preprocessed_text'],\n",
      "      dtype='object')\n"
     ]
    }
   ],
   "source": [
    "print(merged_df.columns)"
   ]
  },
  {
   "cell_type": "code",
   "execution_count": null,
   "metadata": {
    "colab": {
     "base_uri": "https://localhost:8080/"
    },
    "id": "Hp_O9IKuVe1A",
    "outputId": "b8663d21-53fa-4a68-f7e3-e29649e9a5f3"
   },
   "outputs": [],
   "source": [
    "# Perform an outer join to see which entries are not matching\n",
    "merged_outer_df = pd.merge(file_mapping_df, labeled_data_df, on='Name', how='outer', indicator=True)\n",
    "\n",
    "# Check for rows that didn't match in either direction\n",
    "missing_entries = merged_outer_df[merged_outer_df['_merge'] != 'both']\n",
    "print(missing_entries)"
   ]
  },
  {
   "cell_type": "code",
   "execution_count": null,
   "metadata": {
    "colab": {
     "base_uri": "https://localhost:8080/"
    },
    "id": "JfXCMqj9iD4u",
    "outputId": "013a7973-1e1b-4feb-cdf3-127a24572419"
   },
   "outputs": [],
   "source": [
    "# Retrieve the preprocessed text value for the specified name\n",
    "preprocessed_text_value = preprocessed_texts_with_files_df.loc[preprocessed_texts_with_files_df['Name'].str.contains(\"Subham Krishna Borah|Aneesh Deshpande|Naela Rafique|Sandeep Sharma\", regex=True, na=False), 'preprocessed_text'].values\n",
    "preprocessed_text_value"
   ]
  },
  {
   "cell_type": "code",
   "execution_count": 111,
   "metadata": {
    "colab": {
     "base_uri": "https://localhost:8080/"
    },
    "id": "t7NnAlAji-8h",
    "outputId": "8cece2ca-16b0-487b-ffb7-3b8677288245"
   },
   "outputs": [
    {
     "data": {
      "text/plain": [
       "(55, 14)"
      ]
     },
     "execution_count": 111,
     "metadata": {},
     "output_type": "execute_result"
    }
   ],
   "source": [
    "merged_df.shape"
   ]
  },
  {
   "cell_type": "code",
   "execution_count": 112,
   "metadata": {
    "id": "Qbm3v11la_2R"
   },
   "outputs": [],
   "source": [
    "num_train_samples = 40\n",
    "num_test_samples = 15\n",
    "\n",
    "# Check if we have enough data\n",
    "if num_train_samples + num_test_samples > len(df):\n",
    "    raise ValueError(\"Not enough data to split into training and testing sets as specified.\")\n",
    "\n",
    "# Split the data into training and testing sets\n",
    "X = merged_df['preprocessed_text']\n",
    "y = merged_df[['Identification of the problem + Understanding gravity of problem ', 'Sizing of the problem',\n",
    "               'Clarity on product idea/ who they are ', 'Understanding of competitors and landscape ',\n",
    "               'GTM Strategy (how will they reach out to consumers)', 'Business Model (how will they earn money)',\n",
    "               'Team', 'Product Differentiator ']]\n"
   ]
  },
  {
   "cell_type": "code",
   "execution_count": 113,
   "metadata": {
    "id": "upD0W-eMpvBk"
   },
   "outputs": [],
   "source": [
    "from sklearn.model_selection import train_test_split\n",
    "from sklearn.preprocessing import LabelEncoder\n",
    "from sklearn.feature_extraction.text import TfidfVectorizer\n",
    "from tensorflow.keras.utils import to_categorical\n",
    "from tensorflow.keras.models import Model\n",
    "from tensorflow.keras.layers import Input, Dense, Dropout\n",
    "from tensorflow.keras.optimizers import Adam\n",
    "import numpy as np"
   ]
  },
  {
   "cell_type": "code",
   "execution_count": 114,
   "metadata": {
    "id": "jiedQCWrQcz3"
   },
   "outputs": [],
   "source": [
    "# Encode the labels for each score column\n",
    "encoders = {}\n",
    "y_encoded = pd.DataFrame()\n",
    "for col in y.columns:\n",
    "    le = LabelEncoder()\n",
    "    y_encoded[col] = le.fit_transform(y[col])\n",
    "    encoders[col] = le  "
   ]
  },
  {
   "cell_type": "code",
   "execution_count": 115,
   "metadata": {
    "id": "wVPA-ZuyRhH9"
   },
   "outputs": [],
   "source": [
    "y_one_hot = {col: to_categorical(y_encoded[col], num_classes=y_encoded[col].nunique()) for col in y_encoded.columns}"
   ]
  },
  {
   "cell_type": "code",
   "execution_count": 116,
   "metadata": {
    "id": "5PAbKfSQSM8V"
   },
   "outputs": [],
   "source": [
    "X_train, X_test, y_train_encoded, y_test_encoded = train_test_split(\n",
    "    X, y_encoded, test_size=num_test_samples, train_size=num_train_samples, random_state=42\n",
    ")\n",
    "\n",
    "y_train_one_hot = {col: y_one_hot[col][y_train_encoded.index] for col in y_encoded.columns}\n",
    "y_test_one_hot = {col: y_one_hot[col][y_test_encoded.index] for col in y_encoded.columns}"
   ]
  },
  {
   "cell_type": "code",
   "execution_count": 117,
   "metadata": {
    "id": "oI9aDwU9jEql"
   },
   "outputs": [],
   "source": [
    "tfidf_vectorizer = TfidfVectorizer(max_features=97)  \n",
    "tfidf_vectorizer.fit(X_train)\n",
    "X_train_tfidf = tfidf_vectorizer.transform(X_train)\n",
    "X_test_tfidf = tfidf_vectorizer.transform(X_test)"
   ]
  },
  {
   "cell_type": "code",
   "execution_count": 118,
   "metadata": {
    "id": "n9ME8nLijNgY"
   },
   "outputs": [],
   "source": [
    "input_layer = Input(shape=(X_train_tfidf.shape[1],))\n",
    "dense_layer_1 = Dense(512, activation='relu')(input_layer)\n",
    "dropout_1 = Dropout(0.5)(dense_layer_1)\n",
    "dense_layer_2 = Dense(256, activation='relu')(dropout_1)\n",
    "dropout_2 = Dropout(0.5)(dense_layer_2)\n"
   ]
  },
  {
   "cell_type": "code",
   "execution_count": 119,
   "metadata": {
    "id": "Oi9dBROzjPpr"
   },
   "outputs": [],
   "source": [
    "# Output layers: one per score column\n",
    "output_layers = []\n",
    "for col in y_train_one_hot:\n",
    "    num_classes = y_train_one_hot[col].shape[1]\n",
    "    output_layer = Dense(num_classes, activation='softmax', name=col.replace(' ', '_').replace('+', 'plus').replace('/', '_').replace('(', '').replace(')', ''))(dropout_2)\n",
    "    output_layers.append(output_layer)"
   ]
  },
  {
   "cell_type": "code",
   "execution_count": 120,
   "metadata": {
    "id": "zgiOO2bGkVoT"
   },
   "outputs": [],
   "source": [
    "\n",
    "model = Model(inputs=input_layer, outputs=output_layers)"
   ]
  },
  {
   "cell_type": "code",
   "execution_count": 121,
   "metadata": {
    "id": "WvKsEzPDkXT4"
   },
   "outputs": [],
   "source": [
    "\n",
    "model.compile(optimizer='adam', loss='categorical_crossentropy', metrics=['accuracy'], )"
   ]
  },
  {
   "cell_type": "code",
   "execution_count": 122,
   "metadata": {
    "colab": {
     "base_uri": "https://localhost:8080/"
    },
    "id": "g2XoDnLmjSyb",
    "outputId": "be59a5d0-0b35-45ce-ed2d-8730905dc29c"
   },
   "outputs": [
    {
     "name": "stdout",
     "output_type": "stream",
     "text": [
      "Epoch 1/250\n",
      "4/4 [==============================] - 6s 20ms/step - loss: 8.9486 - Identification_of_the_problem_plus_Understanding_gravity_of_problem__loss: 1.3514 - Sizing_of_the_problem_loss: 1.1218 - Clarity_on_product_idea__who_they_are__loss: 1.0980 - Understanding_of_competitors_and_landscape__loss: 1.0190 - GTM_Strategy_how_will_they_reach_out_to_consumers_loss: 1.1113 - Business_Model_how_will_they_earn_money_loss: 1.0926 - Team_loss: 1.0469 - Product_Differentiator__loss: 1.1076 - Identification_of_the_problem_plus_Understanding_gravity_of_problem__accuracy: 0.4750 - Sizing_of_the_problem_accuracy: 0.2500 - Clarity_on_product_idea__who_they_are__accuracy: 0.3000 - Understanding_of_competitors_and_landscape__accuracy: 0.7000 - GTM_Strategy_how_will_they_reach_out_to_consumers_accuracy: 0.2000 - Business_Model_how_will_they_earn_money_accuracy: 0.3000 - Team_accuracy: 0.5750 - Product_Differentiator__accuracy: 0.3500\n",
      "Epoch 2/250\n",
      "4/4 [==============================] - 0s 18ms/step - loss: 8.5810 - Identification_of_the_problem_plus_Understanding_gravity_of_problem__loss: 1.2827 - Sizing_of_the_problem_loss: 1.0854 - Clarity_on_product_idea__who_they_are__loss: 1.0349 - Understanding_of_competitors_and_landscape__loss: 0.9408 - GTM_Strategy_how_will_they_reach_out_to_consumers_loss: 1.1035 - Business_Model_how_will_they_earn_money_loss: 1.0805 - Team_loss: 0.9758 - Product_Differentiator__loss: 1.0774 - Identification_of_the_problem_plus_Understanding_gravity_of_problem__accuracy: 0.4500 - Sizing_of_the_problem_accuracy: 0.4250 - Clarity_on_product_idea__who_they_are__accuracy: 0.5750 - Understanding_of_competitors_and_landscape__accuracy: 0.7500 - GTM_Strategy_how_will_they_reach_out_to_consumers_accuracy: 0.3000 - Business_Model_how_will_they_earn_money_accuracy: 0.3750 - Team_accuracy: 0.7000 - Product_Differentiator__accuracy: 0.4250\n",
      "Epoch 3/250\n",
      "4/4 [==============================] - 0s 19ms/step - loss: 8.1508 - Identification_of_the_problem_plus_Understanding_gravity_of_problem__loss: 1.1822 - Sizing_of_the_problem_loss: 1.0867 - Clarity_on_product_idea__who_they_are__loss: 1.0090 - Understanding_of_competitors_and_landscape__loss: 0.8269 - GTM_Strategy_how_will_they_reach_out_to_consumers_loss: 1.0662 - Business_Model_how_will_they_earn_money_loss: 1.0669 - Team_loss: 0.8966 - Product_Differentiator__loss: 1.0163 - Identification_of_the_problem_plus_Understanding_gravity_of_problem__accuracy: 0.5250 - Sizing_of_the_problem_accuracy: 0.4750 - Clarity_on_product_idea__who_they_are__accuracy: 0.4750 - Understanding_of_competitors_and_landscape__accuracy: 0.7500 - GTM_Strategy_how_will_they_reach_out_to_consumers_accuracy: 0.3500 - Business_Model_how_will_they_earn_money_accuracy: 0.3250 - Team_accuracy: 0.7750 - Product_Differentiator__accuracy: 0.5000\n",
      "Epoch 4/250\n",
      "4/4 [==============================] - 0s 30ms/step - loss: 7.7017 - Identification_of_the_problem_plus_Understanding_gravity_of_problem__loss: 1.0927 - Sizing_of_the_problem_loss: 1.0073 - Clarity_on_product_idea__who_they_are__loss: 0.9385 - Understanding_of_competitors_and_landscape__loss: 0.7390 - GTM_Strategy_how_will_they_reach_out_to_consumers_loss: 1.0537 - Business_Model_how_will_they_earn_money_loss: 1.0562 - Team_loss: 0.8215 - Product_Differentiator__loss: 0.9929 - Identification_of_the_problem_plus_Understanding_gravity_of_problem__accuracy: 0.4750 - Sizing_of_the_problem_accuracy: 0.5250 - Clarity_on_product_idea__who_they_are__accuracy: 0.5250 - Understanding_of_competitors_and_landscape__accuracy: 0.7500 - GTM_Strategy_how_will_they_reach_out_to_consumers_accuracy: 0.4250 - Business_Model_how_will_they_earn_money_accuracy: 0.4750 - Team_accuracy: 0.7750 - Product_Differentiator__accuracy: 0.5000\n",
      "Epoch 5/250\n",
      "4/4 [==============================] - 0s 34ms/step - loss: 7.4407 - Identification_of_the_problem_plus_Understanding_gravity_of_problem__loss: 1.0362 - Sizing_of_the_problem_loss: 1.0133 - Clarity_on_product_idea__who_they_are__loss: 0.9290 - Understanding_of_competitors_and_landscape__loss: 0.7182 - GTM_Strategy_how_will_they_reach_out_to_consumers_loss: 1.0309 - Business_Model_how_will_they_earn_money_loss: 1.0174 - Team_loss: 0.7461 - Product_Differentiator__loss: 0.9495 - Identification_of_the_problem_plus_Understanding_gravity_of_problem__accuracy: 0.5500 - Sizing_of_the_problem_accuracy: 0.5250 - Clarity_on_product_idea__who_they_are__accuracy: 0.5500 - Understanding_of_competitors_and_landscape__accuracy: 0.7500 - GTM_Strategy_how_will_they_reach_out_to_consumers_accuracy: 0.5250 - Business_Model_how_will_they_earn_money_accuracy: 0.4750 - Team_accuracy: 0.7750 - Product_Differentiator__accuracy: 0.4750\n",
      "Epoch 6/250\n",
      "4/4 [==============================] - 0s 34ms/step - loss: 7.2921 - Identification_of_the_problem_plus_Understanding_gravity_of_problem__loss: 0.9585 - Sizing_of_the_problem_loss: 1.0004 - Clarity_on_product_idea__who_they_are__loss: 0.8698 - Understanding_of_competitors_and_landscape__loss: 0.7463 - GTM_Strategy_how_will_they_reach_out_to_consumers_loss: 1.0370 - Business_Model_how_will_they_earn_money_loss: 1.0120 - Team_loss: 0.6911 - Product_Differentiator__loss: 0.9771 - Identification_of_the_problem_plus_Understanding_gravity_of_problem__accuracy: 0.5500 - Sizing_of_the_problem_accuracy: 0.5500 - Clarity_on_product_idea__who_they_are__accuracy: 0.5500 - Understanding_of_competitors_and_landscape__accuracy: 0.7500 - GTM_Strategy_how_will_they_reach_out_to_consumers_accuracy: 0.4500 - Business_Model_how_will_they_earn_money_accuracy: 0.5250 - Team_accuracy: 0.7750 - Product_Differentiator__accuracy: 0.5000\n",
      "Epoch 7/250\n",
      "4/4 [==============================] - 0s 38ms/step - loss: 7.0036 - Identification_of_the_problem_plus_Understanding_gravity_of_problem__loss: 0.9025 - Sizing_of_the_problem_loss: 0.9796 - Clarity_on_product_idea__who_they_are__loss: 0.8284 - Understanding_of_competitors_and_landscape__loss: 0.6569 - GTM_Strategy_how_will_they_reach_out_to_consumers_loss: 0.9927 - Business_Model_how_will_they_earn_money_loss: 0.9995 - Team_loss: 0.6854 - Product_Differentiator__loss: 0.9586 - Identification_of_the_problem_plus_Understanding_gravity_of_problem__accuracy: 0.6000 - Sizing_of_the_problem_accuracy: 0.5500 - Clarity_on_product_idea__who_they_are__accuracy: 0.6500 - Understanding_of_competitors_and_landscape__accuracy: 0.7500 - GTM_Strategy_how_will_they_reach_out_to_consumers_accuracy: 0.5750 - Business_Model_how_will_they_earn_money_accuracy: 0.5250 - Team_accuracy: 0.7750 - Product_Differentiator__accuracy: 0.4750\n",
      "Epoch 8/250\n",
      "4/4 [==============================] - 0s 40ms/step - loss: 7.1882 - Identification_of_the_problem_plus_Understanding_gravity_of_problem__loss: 0.8620 - Sizing_of_the_problem_loss: 1.0843 - Clarity_on_product_idea__who_they_are__loss: 0.8948 - Understanding_of_competitors_and_landscape__loss: 0.7384 - GTM_Strategy_how_will_they_reach_out_to_consumers_loss: 0.9527 - Business_Model_how_will_they_earn_money_loss: 1.0469 - Team_loss: 0.6624 - Product_Differentiator__loss: 0.9467 - Identification_of_the_problem_plus_Understanding_gravity_of_problem__accuracy: 0.6000 - Sizing_of_the_problem_accuracy: 0.5000 - Clarity_on_product_idea__who_they_are__accuracy: 0.5000 - Understanding_of_competitors_and_landscape__accuracy: 0.7500 - GTM_Strategy_how_will_they_reach_out_to_consumers_accuracy: 0.6250 - Business_Model_how_will_they_earn_money_accuracy: 0.4250 - Team_accuracy: 0.7750 - Product_Differentiator__accuracy: 0.4750\n",
      "Epoch 9/250\n",
      "4/4 [==============================] - 0s 36ms/step - loss: 6.8903 - Identification_of_the_problem_plus_Understanding_gravity_of_problem__loss: 0.8817 - Sizing_of_the_problem_loss: 0.9358 - Clarity_on_product_idea__who_they_are__loss: 0.8379 - Understanding_of_competitors_and_landscape__loss: 0.6382 - GTM_Strategy_how_will_they_reach_out_to_consumers_loss: 0.9778 - Business_Model_how_will_they_earn_money_loss: 1.0440 - Team_loss: 0.6674 - Product_Differentiator__loss: 0.9076 - Identification_of_the_problem_plus_Understanding_gravity_of_problem__accuracy: 0.4500 - Sizing_of_the_problem_accuracy: 0.5750 - Clarity_on_product_idea__who_they_are__accuracy: 0.6000 - Understanding_of_competitors_and_landscape__accuracy: 0.7500 - GTM_Strategy_how_will_they_reach_out_to_consumers_accuracy: 0.5500 - Business_Model_how_will_they_earn_money_accuracy: 0.4500 - Team_accuracy: 0.7750 - Product_Differentiator__accuracy: 0.5750\n",
      "Epoch 10/250\n",
      "4/4 [==============================] - 0s 38ms/step - loss: 6.8123 - Identification_of_the_problem_plus_Understanding_gravity_of_problem__loss: 0.8940 - Sizing_of_the_problem_loss: 0.9362 - Clarity_on_product_idea__who_they_are__loss: 0.8180 - Understanding_of_competitors_and_landscape__loss: 0.6595 - GTM_Strategy_how_will_they_reach_out_to_consumers_loss: 0.9544 - Business_Model_how_will_they_earn_money_loss: 0.9778 - Team_loss: 0.6529 - Product_Differentiator__loss: 0.9196 - Identification_of_the_problem_plus_Understanding_gravity_of_problem__accuracy: 0.6500 - Sizing_of_the_problem_accuracy: 0.5500 - Clarity_on_product_idea__who_they_are__accuracy: 0.5750 - Understanding_of_competitors_and_landscape__accuracy: 0.7500 - GTM_Strategy_how_will_they_reach_out_to_consumers_accuracy: 0.5500 - Business_Model_how_will_they_earn_money_accuracy: 0.5250 - Team_accuracy: 0.7750 - Product_Differentiator__accuracy: 0.4750\n",
      "Epoch 11/250\n",
      "4/4 [==============================] - 0s 39ms/step - loss: 6.5024 - Identification_of_the_problem_plus_Understanding_gravity_of_problem__loss: 0.8214 - Sizing_of_the_problem_loss: 0.8924 - Clarity_on_product_idea__who_they_are__loss: 0.7763 - Understanding_of_competitors_and_landscape__loss: 0.6296 - GTM_Strategy_how_will_they_reach_out_to_consumers_loss: 0.9252 - Business_Model_how_will_they_earn_money_loss: 0.9632 - Team_loss: 0.6321 - Product_Differentiator__loss: 0.8623 - Identification_of_the_problem_plus_Understanding_gravity_of_problem__accuracy: 0.6750 - Sizing_of_the_problem_accuracy: 0.5750 - Clarity_on_product_idea__who_they_are__accuracy: 0.7000 - Understanding_of_competitors_and_landscape__accuracy: 0.7500 - GTM_Strategy_how_will_they_reach_out_to_consumers_accuracy: 0.5500 - Business_Model_how_will_they_earn_money_accuracy: 0.5250 - Team_accuracy: 0.7750 - Product_Differentiator__accuracy: 0.6000\n",
      "Epoch 12/250\n",
      "4/4 [==============================] - 0s 40ms/step - loss: 6.7254 - Identification_of_the_problem_plus_Understanding_gravity_of_problem__loss: 0.8425 - Sizing_of_the_problem_loss: 0.9521 - Clarity_on_product_idea__who_they_are__loss: 0.8407 - Understanding_of_competitors_and_landscape__loss: 0.6216 - GTM_Strategy_how_will_they_reach_out_to_consumers_loss: 0.9496 - Business_Model_how_will_they_earn_money_loss: 0.9750 - Team_loss: 0.6657 - Product_Differentiator__loss: 0.8783 - Identification_of_the_problem_plus_Understanding_gravity_of_problem__accuracy: 0.5750 - Sizing_of_the_problem_accuracy: 0.5750 - Clarity_on_product_idea__who_they_are__accuracy: 0.6000 - Understanding_of_competitors_and_landscape__accuracy: 0.7500 - GTM_Strategy_how_will_they_reach_out_to_consumers_accuracy: 0.5500 - Business_Model_how_will_they_earn_money_accuracy: 0.5500 - Team_accuracy: 0.7750 - Product_Differentiator__accuracy: 0.6500\n",
      "Epoch 13/250\n",
      "4/4 [==============================] - 0s 36ms/step - loss: 6.4452 - Identification_of_the_problem_plus_Understanding_gravity_of_problem__loss: 0.7792 - Sizing_of_the_problem_loss: 0.9261 - Clarity_on_product_idea__who_they_are__loss: 0.8096 - Understanding_of_competitors_and_landscape__loss: 0.6114 - GTM_Strategy_how_will_they_reach_out_to_consumers_loss: 0.9457 - Business_Model_how_will_they_earn_money_loss: 0.8827 - Team_loss: 0.6156 - Product_Differentiator__loss: 0.8750 - Identification_of_the_problem_plus_Understanding_gravity_of_problem__accuracy: 0.6500 - Sizing_of_the_problem_accuracy: 0.5750 - Clarity_on_product_idea__who_they_are__accuracy: 0.7250 - Understanding_of_competitors_and_landscape__accuracy: 0.7500 - GTM_Strategy_how_will_they_reach_out_to_consumers_accuracy: 0.4750 - Business_Model_how_will_they_earn_money_accuracy: 0.6250 - Team_accuracy: 0.7750 - Product_Differentiator__accuracy: 0.6750\n",
      "Epoch 14/250\n",
      "4/4 [==============================] - 0s 68ms/step - loss: 6.3713 - Identification_of_the_problem_plus_Understanding_gravity_of_problem__loss: 0.7975 - Sizing_of_the_problem_loss: 0.9273 - Clarity_on_product_idea__who_they_are__loss: 0.8294 - Understanding_of_competitors_and_landscape__loss: 0.5869 - GTM_Strategy_how_will_they_reach_out_to_consumers_loss: 0.9371 - Business_Model_how_will_they_earn_money_loss: 0.8947 - Team_loss: 0.6192 - Product_Differentiator__loss: 0.7792 - Identification_of_the_problem_plus_Understanding_gravity_of_problem__accuracy: 0.5750 - Sizing_of_the_problem_accuracy: 0.5750 - Clarity_on_product_idea__who_they_are__accuracy: 0.6750 - Understanding_of_competitors_and_landscape__accuracy: 0.7500 - GTM_Strategy_how_will_they_reach_out_to_consumers_accuracy: 0.6000 - Business_Model_how_will_they_earn_money_accuracy: 0.7000 - Team_accuracy: 0.7750 - Product_Differentiator__accuracy: 0.7500\n",
      "Epoch 15/250\n",
      "4/4 [==============================] - 0s 26ms/step - loss: 6.2736 - Identification_of_the_problem_plus_Understanding_gravity_of_problem__loss: 0.7884 - Sizing_of_the_problem_loss: 0.8166 - Clarity_on_product_idea__who_they_are__loss: 0.8212 - Understanding_of_competitors_and_landscape__loss: 0.6004 - GTM_Strategy_how_will_they_reach_out_to_consumers_loss: 0.8796 - Business_Model_how_will_they_earn_money_loss: 0.8409 - Team_loss: 0.6263 - Product_Differentiator__loss: 0.9001 - Identification_of_the_problem_plus_Understanding_gravity_of_problem__accuracy: 0.8000 - Sizing_of_the_problem_accuracy: 0.6500 - Clarity_on_product_idea__who_they_are__accuracy: 0.7250 - Understanding_of_competitors_and_landscape__accuracy: 0.7500 - GTM_Strategy_how_will_they_reach_out_to_consumers_accuracy: 0.6000 - Business_Model_how_will_they_earn_money_accuracy: 0.6250 - Team_accuracy: 0.7750 - Product_Differentiator__accuracy: 0.5500\n",
      "Epoch 16/250\n",
      "4/4 [==============================] - 0s 56ms/step - loss: 5.9303 - Identification_of_the_problem_plus_Understanding_gravity_of_problem__loss: 0.7420 - Sizing_of_the_problem_loss: 0.8284 - Clarity_on_product_idea__who_they_are__loss: 0.7666 - Understanding_of_competitors_and_landscape__loss: 0.5660 - GTM_Strategy_how_will_they_reach_out_to_consumers_loss: 0.8361 - Business_Model_how_will_they_earn_money_loss: 0.8629 - Team_loss: 0.5782 - Product_Differentiator__loss: 0.7500 - Identification_of_the_problem_plus_Understanding_gravity_of_problem__accuracy: 0.7500 - Sizing_of_the_problem_accuracy: 0.6500 - Clarity_on_product_idea__who_they_are__accuracy: 0.6750 - Understanding_of_competitors_and_landscape__accuracy: 0.7500 - GTM_Strategy_how_will_they_reach_out_to_consumers_accuracy: 0.7000 - Business_Model_how_will_they_earn_money_accuracy: 0.6250 - Team_accuracy: 0.7750 - Product_Differentiator__accuracy: 0.7250\n",
      "Epoch 17/250\n",
      "4/4 [==============================] - 0s 34ms/step - loss: 5.9646 - Identification_of_the_problem_plus_Understanding_gravity_of_problem__loss: 0.7431 - Sizing_of_the_problem_loss: 0.8297 - Clarity_on_product_idea__who_they_are__loss: 0.7222 - Understanding_of_competitors_and_landscape__loss: 0.5629 - GTM_Strategy_how_will_they_reach_out_to_consumers_loss: 0.8678 - Business_Model_how_will_they_earn_money_loss: 0.8184 - Team_loss: 0.6447 - Product_Differentiator__loss: 0.7759 - Identification_of_the_problem_plus_Understanding_gravity_of_problem__accuracy: 0.7500 - Sizing_of_the_problem_accuracy: 0.5750 - Clarity_on_product_idea__who_they_are__accuracy: 0.7750 - Understanding_of_competitors_and_landscape__accuracy: 0.7750 - GTM_Strategy_how_will_they_reach_out_to_consumers_accuracy: 0.7000 - Business_Model_how_will_they_earn_money_accuracy: 0.7250 - Team_accuracy: 0.7750 - Product_Differentiator__accuracy: 0.7750\n",
      "Epoch 18/250\n",
      "4/4 [==============================] - 0s 32ms/step - loss: 5.6032 - Identification_of_the_problem_plus_Understanding_gravity_of_problem__loss: 0.6783 - Sizing_of_the_problem_loss: 0.7461 - Clarity_on_product_idea__who_they_are__loss: 0.7316 - Understanding_of_competitors_and_landscape__loss: 0.5281 - GTM_Strategy_how_will_they_reach_out_to_consumers_loss: 0.7952 - Business_Model_how_will_they_earn_money_loss: 0.7945 - Team_loss: 0.5850 - Product_Differentiator__loss: 0.7445 - Identification_of_the_problem_plus_Understanding_gravity_of_problem__accuracy: 0.8250 - Sizing_of_the_problem_accuracy: 0.6500 - Clarity_on_product_idea__who_they_are__accuracy: 0.6500 - Understanding_of_competitors_and_landscape__accuracy: 0.7500 - GTM_Strategy_how_will_they_reach_out_to_consumers_accuracy: 0.7500 - Business_Model_how_will_they_earn_money_accuracy: 0.6750 - Team_accuracy: 0.7750 - Product_Differentiator__accuracy: 0.6250\n",
      "Epoch 19/250\n",
      "4/4 [==============================] - 0s 57ms/step - loss: 5.4450 - Identification_of_the_problem_plus_Understanding_gravity_of_problem__loss: 0.7202 - Sizing_of_the_problem_loss: 0.7469 - Clarity_on_product_idea__who_they_are__loss: 0.6449 - Understanding_of_competitors_and_landscape__loss: 0.5526 - GTM_Strategy_how_will_they_reach_out_to_consumers_loss: 0.8289 - Business_Model_how_will_they_earn_money_loss: 0.7315 - Team_loss: 0.5339 - Product_Differentiator__loss: 0.6862 - Identification_of_the_problem_plus_Understanding_gravity_of_problem__accuracy: 0.7000 - Sizing_of_the_problem_accuracy: 0.7250 - Clarity_on_product_idea__who_they_are__accuracy: 0.8000 - Understanding_of_competitors_and_landscape__accuracy: 0.7500 - GTM_Strategy_how_will_they_reach_out_to_consumers_accuracy: 0.6500 - Business_Model_how_will_they_earn_money_accuracy: 0.7000 - Team_accuracy: 0.7750 - Product_Differentiator__accuracy: 0.7250\n",
      "Epoch 20/250\n",
      "4/4 [==============================] - 0s 40ms/step - loss: 5.2124 - Identification_of_the_problem_plus_Understanding_gravity_of_problem__loss: 0.6143 - Sizing_of_the_problem_loss: 0.7278 - Clarity_on_product_idea__who_they_are__loss: 0.6765 - Understanding_of_competitors_and_landscape__loss: 0.4559 - GTM_Strategy_how_will_they_reach_out_to_consumers_loss: 0.7434 - Business_Model_how_will_they_earn_money_loss: 0.7421 - Team_loss: 0.5808 - Product_Differentiator__loss: 0.6715 - Identification_of_the_problem_plus_Understanding_gravity_of_problem__accuracy: 0.8000 - Sizing_of_the_problem_accuracy: 0.7000 - Clarity_on_product_idea__who_they_are__accuracy: 0.7750 - Understanding_of_competitors_and_landscape__accuracy: 0.7750 - GTM_Strategy_how_will_they_reach_out_to_consumers_accuracy: 0.6500 - Business_Model_how_will_they_earn_money_accuracy: 0.8000 - Team_accuracy: 0.7750 - Product_Differentiator__accuracy: 0.7750\n",
      "Epoch 21/250\n",
      "4/4 [==============================] - 0s 40ms/step - loss: 5.2332 - Identification_of_the_problem_plus_Understanding_gravity_of_problem__loss: 0.6085 - Sizing_of_the_problem_loss: 0.7107 - Clarity_on_product_idea__who_they_are__loss: 0.6179 - Understanding_of_competitors_and_landscape__loss: 0.4695 - GTM_Strategy_how_will_they_reach_out_to_consumers_loss: 0.7958 - Business_Model_how_will_they_earn_money_loss: 0.7772 - Team_loss: 0.5624 - Product_Differentiator__loss: 0.6911 - Identification_of_the_problem_plus_Understanding_gravity_of_problem__accuracy: 0.8750 - Sizing_of_the_problem_accuracy: 0.7000 - Clarity_on_product_idea__who_they_are__accuracy: 0.7500 - Understanding_of_competitors_and_landscape__accuracy: 0.7500 - GTM_Strategy_how_will_they_reach_out_to_consumers_accuracy: 0.6750 - Business_Model_how_will_they_earn_money_accuracy: 0.6750 - Team_accuracy: 0.7750 - Product_Differentiator__accuracy: 0.7000\n",
      "Epoch 22/250\n",
      "4/4 [==============================] - 0s 39ms/step - loss: 4.8051 - Identification_of_the_problem_plus_Understanding_gravity_of_problem__loss: 0.5436 - Sizing_of_the_problem_loss: 0.6681 - Clarity_on_product_idea__who_they_are__loss: 0.5542 - Understanding_of_competitors_and_landscape__loss: 0.4592 - GTM_Strategy_how_will_they_reach_out_to_consumers_loss: 0.7686 - Business_Model_how_will_they_earn_money_loss: 0.6491 - Team_loss: 0.5044 - Product_Differentiator__loss: 0.6579 - Identification_of_the_problem_plus_Understanding_gravity_of_problem__accuracy: 0.8000 - Sizing_of_the_problem_accuracy: 0.7500 - Clarity_on_product_idea__who_they_are__accuracy: 0.8000 - Understanding_of_competitors_and_landscape__accuracy: 0.7750 - GTM_Strategy_how_will_they_reach_out_to_consumers_accuracy: 0.6500 - Business_Model_how_will_they_earn_money_accuracy: 0.8000 - Team_accuracy: 0.7750 - Product_Differentiator__accuracy: 0.7250\n",
      "Epoch 23/250\n",
      "4/4 [==============================] - 0s 92ms/step - loss: 4.7993 - Identification_of_the_problem_plus_Understanding_gravity_of_problem__loss: 0.5774 - Sizing_of_the_problem_loss: 0.6244 - Clarity_on_product_idea__who_they_are__loss: 0.5620 - Understanding_of_competitors_and_landscape__loss: 0.4270 - GTM_Strategy_how_will_they_reach_out_to_consumers_loss: 0.7198 - Business_Model_how_will_they_earn_money_loss: 0.7136 - Team_loss: 0.5370 - Product_Differentiator__loss: 0.6382 - Identification_of_the_problem_plus_Understanding_gravity_of_problem__accuracy: 0.8750 - Sizing_of_the_problem_accuracy: 0.8250 - Clarity_on_product_idea__who_they_are__accuracy: 0.8000 - Understanding_of_competitors_and_landscape__accuracy: 0.8000 - GTM_Strategy_how_will_they_reach_out_to_consumers_accuracy: 0.6750 - Business_Model_how_will_they_earn_money_accuracy: 0.8000 - Team_accuracy: 0.7750 - Product_Differentiator__accuracy: 0.7750\n",
      "Epoch 24/250\n",
      "4/4 [==============================] - 0s 56ms/step - loss: 4.5380 - Identification_of_the_problem_plus_Understanding_gravity_of_problem__loss: 0.5720 - Sizing_of_the_problem_loss: 0.6032 - Clarity_on_product_idea__who_they_are__loss: 0.5310 - Understanding_of_competitors_and_landscape__loss: 0.4017 - GTM_Strategy_how_will_they_reach_out_to_consumers_loss: 0.6481 - Business_Model_how_will_they_earn_money_loss: 0.6428 - Team_loss: 0.4828 - Product_Differentiator__loss: 0.6564 - Identification_of_the_problem_plus_Understanding_gravity_of_problem__accuracy: 0.8000 - Sizing_of_the_problem_accuracy: 0.7250 - Clarity_on_product_idea__who_they_are__accuracy: 0.8250 - Understanding_of_competitors_and_landscape__accuracy: 0.8750 - GTM_Strategy_how_will_they_reach_out_to_consumers_accuracy: 0.7750 - Business_Model_how_will_they_earn_money_accuracy: 0.8000 - Team_accuracy: 0.7750 - Product_Differentiator__accuracy: 0.7250\n",
      "Epoch 25/250\n",
      "4/4 [==============================] - 0s 46ms/step - loss: 4.3202 - Identification_of_the_problem_plus_Understanding_gravity_of_problem__loss: 0.5101 - Sizing_of_the_problem_loss: 0.6029 - Clarity_on_product_idea__who_they_are__loss: 0.4882 - Understanding_of_competitors_and_landscape__loss: 0.3943 - GTM_Strategy_how_will_they_reach_out_to_consumers_loss: 0.6505 - Business_Model_how_will_they_earn_money_loss: 0.6200 - Team_loss: 0.4488 - Product_Differentiator__loss: 0.6055 - Identification_of_the_problem_plus_Understanding_gravity_of_problem__accuracy: 0.9000 - Sizing_of_the_problem_accuracy: 0.7750 - Clarity_on_product_idea__who_they_are__accuracy: 0.8750 - Understanding_of_competitors_and_landscape__accuracy: 0.8000 - GTM_Strategy_how_will_they_reach_out_to_consumers_accuracy: 0.7250 - Business_Model_how_will_they_earn_money_accuracy: 0.8000 - Team_accuracy: 0.7750 - Product_Differentiator__accuracy: 0.7000\n",
      "Epoch 26/250\n",
      "4/4 [==============================] - 0s 28ms/step - loss: 4.4078 - Identification_of_the_problem_plus_Understanding_gravity_of_problem__loss: 0.5092 - Sizing_of_the_problem_loss: 0.6001 - Clarity_on_product_idea__who_they_are__loss: 0.4763 - Understanding_of_competitors_and_landscape__loss: 0.4453 - GTM_Strategy_how_will_they_reach_out_to_consumers_loss: 0.6988 - Business_Model_how_will_they_earn_money_loss: 0.6280 - Team_loss: 0.5016 - Product_Differentiator__loss: 0.5485 - Identification_of_the_problem_plus_Understanding_gravity_of_problem__accuracy: 0.8500 - Sizing_of_the_problem_accuracy: 0.7500 - Clarity_on_product_idea__who_they_are__accuracy: 0.7750 - Understanding_of_competitors_and_landscape__accuracy: 0.8500 - GTM_Strategy_how_will_they_reach_out_to_consumers_accuracy: 0.7000 - Business_Model_how_will_they_earn_money_accuracy: 0.7750 - Team_accuracy: 0.7750 - Product_Differentiator__accuracy: 0.8750\n",
      "Epoch 27/250\n",
      "4/4 [==============================] - 0s 37ms/step - loss: 4.1698 - Identification_of_the_problem_plus_Understanding_gravity_of_problem__loss: 0.4929 - Sizing_of_the_problem_loss: 0.5202 - Clarity_on_product_idea__who_they_are__loss: 0.4808 - Understanding_of_competitors_and_landscape__loss: 0.3738 - GTM_Strategy_how_will_they_reach_out_to_consumers_loss: 0.7044 - Business_Model_how_will_they_earn_money_loss: 0.5839 - Team_loss: 0.4780 - Product_Differentiator__loss: 0.5359 - Identification_of_the_problem_plus_Understanding_gravity_of_problem__accuracy: 0.8500 - Sizing_of_the_problem_accuracy: 0.8750 - Clarity_on_product_idea__who_they_are__accuracy: 0.8500 - Understanding_of_competitors_and_landscape__accuracy: 0.8500 - GTM_Strategy_how_will_they_reach_out_to_consumers_accuracy: 0.7500 - Business_Model_how_will_they_earn_money_accuracy: 0.7750 - Team_accuracy: 0.8000 - Product_Differentiator__accuracy: 0.8000\n",
      "Epoch 28/250\n",
      "4/4 [==============================] - 0s 40ms/step - loss: 3.9911 - Identification_of_the_problem_plus_Understanding_gravity_of_problem__loss: 0.5006 - Sizing_of_the_problem_loss: 0.4477 - Clarity_on_product_idea__who_they_are__loss: 0.4672 - Understanding_of_competitors_and_landscape__loss: 0.4158 - GTM_Strategy_how_will_they_reach_out_to_consumers_loss: 0.5877 - Business_Model_how_will_they_earn_money_loss: 0.5039 - Team_loss: 0.4677 - Product_Differentiator__loss: 0.6004 - Identification_of_the_problem_plus_Understanding_gravity_of_problem__accuracy: 0.8500 - Sizing_of_the_problem_accuracy: 0.9000 - Clarity_on_product_idea__who_they_are__accuracy: 0.8500 - Understanding_of_competitors_and_landscape__accuracy: 0.8000 - GTM_Strategy_how_will_they_reach_out_to_consumers_accuracy: 0.8000 - Business_Model_how_will_they_earn_money_accuracy: 0.9000 - Team_accuracy: 0.8250 - Product_Differentiator__accuracy: 0.7750\n",
      "Epoch 29/250\n",
      "4/4 [==============================] - 0s 29ms/step - loss: 3.7213 - Identification_of_the_problem_plus_Understanding_gravity_of_problem__loss: 0.4417 - Sizing_of_the_problem_loss: 0.4635 - Clarity_on_product_idea__who_they_are__loss: 0.3873 - Understanding_of_competitors_and_landscape__loss: 0.4064 - GTM_Strategy_how_will_they_reach_out_to_consumers_loss: 0.6163 - Business_Model_how_will_they_earn_money_loss: 0.4831 - Team_loss: 0.4204 - Product_Differentiator__loss: 0.5027 - Identification_of_the_problem_plus_Understanding_gravity_of_problem__accuracy: 0.9000 - Sizing_of_the_problem_accuracy: 0.8250 - Clarity_on_product_idea__who_they_are__accuracy: 0.8750 - Understanding_of_competitors_and_landscape__accuracy: 0.8500 - GTM_Strategy_how_will_they_reach_out_to_consumers_accuracy: 0.8000 - Business_Model_how_will_they_earn_money_accuracy: 0.8500 - Team_accuracy: 0.8000 - Product_Differentiator__accuracy: 0.8250\n",
      "Epoch 30/250\n",
      "4/4 [==============================] - 0s 37ms/step - loss: 3.7577 - Identification_of_the_problem_plus_Understanding_gravity_of_problem__loss: 0.4372 - Sizing_of_the_problem_loss: 0.4606 - Clarity_on_product_idea__who_they_are__loss: 0.4094 - Understanding_of_competitors_and_landscape__loss: 0.3271 - GTM_Strategy_how_will_they_reach_out_to_consumers_loss: 0.6191 - Business_Model_how_will_they_earn_money_loss: 0.5429 - Team_loss: 0.4278 - Product_Differentiator__loss: 0.5336 - Identification_of_the_problem_plus_Understanding_gravity_of_problem__accuracy: 0.8250 - Sizing_of_the_problem_accuracy: 0.8250 - Clarity_on_product_idea__who_they_are__accuracy: 0.8250 - Understanding_of_competitors_and_landscape__accuracy: 0.9000 - GTM_Strategy_how_will_they_reach_out_to_consumers_accuracy: 0.8000 - Business_Model_how_will_they_earn_money_accuracy: 0.8500 - Team_accuracy: 0.8250 - Product_Differentiator__accuracy: 0.7750\n",
      "Epoch 31/250\n",
      "4/4 [==============================] - 0s 28ms/step - loss: 3.7352 - Identification_of_the_problem_plus_Understanding_gravity_of_problem__loss: 0.4999 - Sizing_of_the_problem_loss: 0.4555 - Clarity_on_product_idea__who_they_are__loss: 0.4145 - Understanding_of_competitors_and_landscape__loss: 0.3927 - GTM_Strategy_how_will_they_reach_out_to_consumers_loss: 0.5498 - Business_Model_how_will_they_earn_money_loss: 0.4971 - Team_loss: 0.4181 - Product_Differentiator__loss: 0.5076 - Identification_of_the_problem_plus_Understanding_gravity_of_problem__accuracy: 0.8000 - Sizing_of_the_problem_accuracy: 0.9000 - Clarity_on_product_idea__who_they_are__accuracy: 0.9000 - Understanding_of_competitors_and_landscape__accuracy: 0.9000 - GTM_Strategy_how_will_they_reach_out_to_consumers_accuracy: 0.9000 - Business_Model_how_will_they_earn_money_accuracy: 0.8750 - Team_accuracy: 0.8500 - Product_Differentiator__accuracy: 0.8250\n",
      "Epoch 32/250\n",
      "4/4 [==============================] - 0s 44ms/step - loss: 3.4990 - Identification_of_the_problem_plus_Understanding_gravity_of_problem__loss: 0.4149 - Sizing_of_the_problem_loss: 0.4139 - Clarity_on_product_idea__who_they_are__loss: 0.3406 - Understanding_of_competitors_and_landscape__loss: 0.3383 - GTM_Strategy_how_will_they_reach_out_to_consumers_loss: 0.6184 - Business_Model_how_will_they_earn_money_loss: 0.4255 - Team_loss: 0.4120 - Product_Differentiator__loss: 0.5355 - Identification_of_the_problem_plus_Understanding_gravity_of_problem__accuracy: 0.8500 - Sizing_of_the_problem_accuracy: 0.8750 - Clarity_on_product_idea__who_they_are__accuracy: 0.9000 - Understanding_of_competitors_and_landscape__accuracy: 0.9000 - GTM_Strategy_how_will_they_reach_out_to_consumers_accuracy: 0.7750 - Business_Model_how_will_they_earn_money_accuracy: 0.9000 - Team_accuracy: 0.8000 - Product_Differentiator__accuracy: 0.7250\n",
      "Epoch 33/250\n",
      "4/4 [==============================] - 0s 39ms/step - loss: 3.3071 - Identification_of_the_problem_plus_Understanding_gravity_of_problem__loss: 0.3946 - Sizing_of_the_problem_loss: 0.3668 - Clarity_on_product_idea__who_they_are__loss: 0.3685 - Understanding_of_competitors_and_landscape__loss: 0.3940 - GTM_Strategy_how_will_they_reach_out_to_consumers_loss: 0.4814 - Business_Model_how_will_they_earn_money_loss: 0.3665 - Team_loss: 0.4470 - Product_Differentiator__loss: 0.4883 - Identification_of_the_problem_plus_Understanding_gravity_of_problem__accuracy: 0.8500 - Sizing_of_the_problem_accuracy: 0.9250 - Clarity_on_product_idea__who_they_are__accuracy: 0.8500 - Understanding_of_competitors_and_landscape__accuracy: 0.9000 - GTM_Strategy_how_will_they_reach_out_to_consumers_accuracy: 0.8500 - Business_Model_how_will_they_earn_money_accuracy: 0.8750 - Team_accuracy: 0.8000 - Product_Differentiator__accuracy: 0.8000\n",
      "Epoch 34/250\n",
      "4/4 [==============================] - 0s 50ms/step - loss: 2.9346 - Identification_of_the_problem_plus_Understanding_gravity_of_problem__loss: 0.3844 - Sizing_of_the_problem_loss: 0.3591 - Clarity_on_product_idea__who_they_are__loss: 0.3086 - Understanding_of_competitors_and_landscape__loss: 0.3533 - GTM_Strategy_how_will_they_reach_out_to_consumers_loss: 0.4393 - Business_Model_how_will_they_earn_money_loss: 0.3193 - Team_loss: 0.3244 - Product_Differentiator__loss: 0.4461 - Identification_of_the_problem_plus_Understanding_gravity_of_problem__accuracy: 0.8750 - Sizing_of_the_problem_accuracy: 0.8750 - Clarity_on_product_idea__who_they_are__accuracy: 0.9000 - Understanding_of_competitors_and_landscape__accuracy: 0.8250 - GTM_Strategy_how_will_they_reach_out_to_consumers_accuracy: 0.9250 - Business_Model_how_will_they_earn_money_accuracy: 0.9500 - Team_accuracy: 0.8750 - Product_Differentiator__accuracy: 0.8000\n",
      "Epoch 35/250\n",
      "4/4 [==============================] - 0s 32ms/step - loss: 2.8410 - Identification_of_the_problem_plus_Understanding_gravity_of_problem__loss: 0.2994 - Sizing_of_the_problem_loss: 0.2659 - Clarity_on_product_idea__who_they_are__loss: 0.3734 - Understanding_of_competitors_and_landscape__loss: 0.2836 - GTM_Strategy_how_will_they_reach_out_to_consumers_loss: 0.4888 - Business_Model_how_will_they_earn_money_loss: 0.3694 - Team_loss: 0.3322 - Product_Differentiator__loss: 0.4283 - Identification_of_the_problem_plus_Understanding_gravity_of_problem__accuracy: 0.9250 - Sizing_of_the_problem_accuracy: 0.9500 - Clarity_on_product_idea__who_they_are__accuracy: 0.8500 - Understanding_of_competitors_and_landscape__accuracy: 0.9000 - GTM_Strategy_how_will_they_reach_out_to_consumers_accuracy: 0.8000 - Business_Model_how_will_they_earn_money_accuracy: 0.8750 - Team_accuracy: 0.9250 - Product_Differentiator__accuracy: 0.8750\n",
      "Epoch 36/250\n",
      "4/4 [==============================] - 0s 29ms/step - loss: 2.7850 - Identification_of_the_problem_plus_Understanding_gravity_of_problem__loss: 0.2854 - Sizing_of_the_problem_loss: 0.3687 - Clarity_on_product_idea__who_they_are__loss: 0.2724 - Understanding_of_competitors_and_landscape__loss: 0.2944 - GTM_Strategy_how_will_they_reach_out_to_consumers_loss: 0.4679 - Business_Model_how_will_they_earn_money_loss: 0.2947 - Team_loss: 0.3477 - Product_Differentiator__loss: 0.4538 - Identification_of_the_problem_plus_Understanding_gravity_of_problem__accuracy: 0.9000 - Sizing_of_the_problem_accuracy: 0.8750 - Clarity_on_product_idea__who_they_are__accuracy: 0.9500 - Understanding_of_competitors_and_landscape__accuracy: 0.9000 - GTM_Strategy_how_will_they_reach_out_to_consumers_accuracy: 0.8250 - Business_Model_how_will_they_earn_money_accuracy: 0.9750 - Team_accuracy: 0.8250 - Product_Differentiator__accuracy: 0.8500\n",
      "Epoch 37/250\n",
      "4/4 [==============================] - 0s 47ms/step - loss: 2.9421 - Identification_of_the_problem_plus_Understanding_gravity_of_problem__loss: 0.3218 - Sizing_of_the_problem_loss: 0.2901 - Clarity_on_product_idea__who_they_are__loss: 0.3077 - Understanding_of_competitors_and_landscape__loss: 0.3105 - GTM_Strategy_how_will_they_reach_out_to_consumers_loss: 0.5394 - Business_Model_how_will_they_earn_money_loss: 0.3238 - Team_loss: 0.3407 - Product_Differentiator__loss: 0.5081 - Identification_of_the_problem_plus_Understanding_gravity_of_problem__accuracy: 0.9250 - Sizing_of_the_problem_accuracy: 0.9250 - Clarity_on_product_idea__who_they_are__accuracy: 0.9250 - Understanding_of_competitors_and_landscape__accuracy: 0.8750 - GTM_Strategy_how_will_they_reach_out_to_consumers_accuracy: 0.7250 - Business_Model_how_will_they_earn_money_accuracy: 0.9500 - Team_accuracy: 0.7750 - Product_Differentiator__accuracy: 0.8000\n",
      "Epoch 38/250\n",
      "4/4 [==============================] - 0s 27ms/step - loss: 2.7530 - Identification_of_the_problem_plus_Understanding_gravity_of_problem__loss: 0.3436 - Sizing_of_the_problem_loss: 0.3133 - Clarity_on_product_idea__who_they_are__loss: 0.2210 - Understanding_of_competitors_and_landscape__loss: 0.3166 - GTM_Strategy_how_will_they_reach_out_to_consumers_loss: 0.5768 - Business_Model_how_will_they_earn_money_loss: 0.2972 - Team_loss: 0.2843 - Product_Differentiator__loss: 0.4003 - Identification_of_the_problem_plus_Understanding_gravity_of_problem__accuracy: 0.9000 - Sizing_of_the_problem_accuracy: 0.9250 - Clarity_on_product_idea__who_they_are__accuracy: 0.9750 - Understanding_of_competitors_and_landscape__accuracy: 0.8750 - GTM_Strategy_how_will_they_reach_out_to_consumers_accuracy: 0.8000 - Business_Model_how_will_they_earn_money_accuracy: 0.9500 - Team_accuracy: 0.9250 - Product_Differentiator__accuracy: 0.8000\n",
      "Epoch 39/250\n",
      "4/4 [==============================] - 0s 27ms/step - loss: 2.6643 - Identification_of_the_problem_plus_Understanding_gravity_of_problem__loss: 0.2737 - Sizing_of_the_problem_loss: 0.2542 - Clarity_on_product_idea__who_they_are__loss: 0.2737 - Understanding_of_competitors_and_landscape__loss: 0.3104 - GTM_Strategy_how_will_they_reach_out_to_consumers_loss: 0.4675 - Business_Model_how_will_they_earn_money_loss: 0.3365 - Team_loss: 0.3565 - Product_Differentiator__loss: 0.3918 - Identification_of_the_problem_plus_Understanding_gravity_of_problem__accuracy: 0.9000 - Sizing_of_the_problem_accuracy: 0.9750 - Clarity_on_product_idea__who_they_are__accuracy: 0.9250 - Understanding_of_competitors_and_landscape__accuracy: 0.8750 - GTM_Strategy_how_will_they_reach_out_to_consumers_accuracy: 0.8250 - Business_Model_how_will_they_earn_money_accuracy: 0.8750 - Team_accuracy: 0.8000 - Product_Differentiator__accuracy: 0.9000\n",
      "Epoch 40/250\n",
      "4/4 [==============================] - 0s 31ms/step - loss: 2.5212 - Identification_of_the_problem_plus_Understanding_gravity_of_problem__loss: 0.2985 - Sizing_of_the_problem_loss: 0.2421 - Clarity_on_product_idea__who_they_are__loss: 0.2624 - Understanding_of_competitors_and_landscape__loss: 0.2445 - GTM_Strategy_how_will_they_reach_out_to_consumers_loss: 0.4271 - Business_Model_how_will_they_earn_money_loss: 0.2956 - Team_loss: 0.3364 - Product_Differentiator__loss: 0.4146 - Identification_of_the_problem_plus_Understanding_gravity_of_problem__accuracy: 0.9250 - Sizing_of_the_problem_accuracy: 0.9500 - Clarity_on_product_idea__who_they_are__accuracy: 0.9250 - Understanding_of_competitors_and_landscape__accuracy: 0.9250 - GTM_Strategy_how_will_they_reach_out_to_consumers_accuracy: 0.8750 - Business_Model_how_will_they_earn_money_accuracy: 0.9500 - Team_accuracy: 0.8500 - Product_Differentiator__accuracy: 0.8500\n",
      "Epoch 41/250\n",
      "4/4 [==============================] - 0s 30ms/step - loss: 2.4408 - Identification_of_the_problem_plus_Understanding_gravity_of_problem__loss: 0.2905 - Sizing_of_the_problem_loss: 0.2585 - Clarity_on_product_idea__who_they_are__loss: 0.2348 - Understanding_of_competitors_and_landscape__loss: 0.2617 - GTM_Strategy_how_will_they_reach_out_to_consumers_loss: 0.4407 - Business_Model_how_will_they_earn_money_loss: 0.2224 - Team_loss: 0.3086 - Product_Differentiator__loss: 0.4236 - Identification_of_the_problem_plus_Understanding_gravity_of_problem__accuracy: 0.9000 - Sizing_of_the_problem_accuracy: 0.9500 - Clarity_on_product_idea__who_they_are__accuracy: 0.9250 - Understanding_of_competitors_and_landscape__accuracy: 0.8750 - GTM_Strategy_how_will_they_reach_out_to_consumers_accuracy: 0.7750 - Business_Model_how_will_they_earn_money_accuracy: 0.9750 - Team_accuracy: 0.9250 - Product_Differentiator__accuracy: 0.7750\n",
      "Epoch 42/250\n",
      "4/4 [==============================] - 0s 28ms/step - loss: 2.3621 - Identification_of_the_problem_plus_Understanding_gravity_of_problem__loss: 0.1947 - Sizing_of_the_problem_loss: 0.2630 - Clarity_on_product_idea__who_they_are__loss: 0.1987 - Understanding_of_competitors_and_landscape__loss: 0.2354 - GTM_Strategy_how_will_they_reach_out_to_consumers_loss: 0.3927 - Business_Model_how_will_they_earn_money_loss: 0.2756 - Team_loss: 0.3538 - Product_Differentiator__loss: 0.4482 - Identification_of_the_problem_plus_Understanding_gravity_of_problem__accuracy: 0.9500 - Sizing_of_the_problem_accuracy: 0.9750 - Clarity_on_product_idea__who_they_are__accuracy: 0.9500 - Understanding_of_competitors_and_landscape__accuracy: 0.9250 - GTM_Strategy_how_will_they_reach_out_to_consumers_accuracy: 0.8500 - Business_Model_how_will_they_earn_money_accuracy: 0.9500 - Team_accuracy: 0.8750 - Product_Differentiator__accuracy: 0.8250\n",
      "Epoch 43/250\n",
      "4/4 [==============================] - 0s 45ms/step - loss: 2.3910 - Identification_of_the_problem_plus_Understanding_gravity_of_problem__loss: 0.2766 - Sizing_of_the_problem_loss: 0.2236 - Clarity_on_product_idea__who_they_are__loss: 0.2743 - Understanding_of_competitors_and_landscape__loss: 0.3416 - GTM_Strategy_how_will_they_reach_out_to_consumers_loss: 0.4072 - Business_Model_how_will_they_earn_money_loss: 0.2340 - Team_loss: 0.2597 - Product_Differentiator__loss: 0.3741 - Identification_of_the_problem_plus_Understanding_gravity_of_problem__accuracy: 0.9000 - Sizing_of_the_problem_accuracy: 0.9500 - Clarity_on_product_idea__who_they_are__accuracy: 0.9250 - Understanding_of_competitors_and_landscape__accuracy: 0.8750 - GTM_Strategy_how_will_they_reach_out_to_consumers_accuracy: 0.8500 - Business_Model_how_will_they_earn_money_accuracy: 0.9750 - Team_accuracy: 0.9000 - Product_Differentiator__accuracy: 0.8250\n",
      "Epoch 44/250\n",
      "4/4 [==============================] - 0s 39ms/step - loss: 2.2760 - Identification_of_the_problem_plus_Understanding_gravity_of_problem__loss: 0.2330 - Sizing_of_the_problem_loss: 0.2298 - Clarity_on_product_idea__who_they_are__loss: 0.2316 - Understanding_of_competitors_and_landscape__loss: 0.2416 - GTM_Strategy_how_will_they_reach_out_to_consumers_loss: 0.4282 - Business_Model_how_will_they_earn_money_loss: 0.2120 - Team_loss: 0.3253 - Product_Differentiator__loss: 0.3745 - Identification_of_the_problem_plus_Understanding_gravity_of_problem__accuracy: 0.9500 - Sizing_of_the_problem_accuracy: 0.9750 - Clarity_on_product_idea__who_they_are__accuracy: 0.9500 - Understanding_of_competitors_and_landscape__accuracy: 0.9000 - GTM_Strategy_how_will_they_reach_out_to_consumers_accuracy: 0.8000 - Business_Model_how_will_they_earn_money_accuracy: 0.8750 - Team_accuracy: 0.8750 - Product_Differentiator__accuracy: 0.8750\n",
      "Epoch 45/250\n",
      "4/4 [==============================] - 0s 50ms/step - loss: 1.9393 - Identification_of_the_problem_plus_Understanding_gravity_of_problem__loss: 0.2092 - Sizing_of_the_problem_loss: 0.1685 - Clarity_on_product_idea__who_they_are__loss: 0.2412 - Understanding_of_competitors_and_landscape__loss: 0.2003 - GTM_Strategy_how_will_they_reach_out_to_consumers_loss: 0.3440 - Business_Model_how_will_they_earn_money_loss: 0.2213 - Team_loss: 0.2112 - Product_Differentiator__loss: 0.3437 - Identification_of_the_problem_plus_Understanding_gravity_of_problem__accuracy: 0.9500 - Sizing_of_the_problem_accuracy: 1.0000 - Clarity_on_product_idea__who_they_are__accuracy: 0.8750 - Understanding_of_competitors_and_landscape__accuracy: 0.9750 - GTM_Strategy_how_will_they_reach_out_to_consumers_accuracy: 0.8500 - Business_Model_how_will_they_earn_money_accuracy: 0.9750 - Team_accuracy: 0.9500 - Product_Differentiator__accuracy: 0.8750\n",
      "Epoch 46/250\n",
      "4/4 [==============================] - 0s 25ms/step - loss: 2.0837 - Identification_of_the_problem_plus_Understanding_gravity_of_problem__loss: 0.2597 - Sizing_of_the_problem_loss: 0.2067 - Clarity_on_product_idea__who_they_are__loss: 0.2476 - Understanding_of_competitors_and_landscape__loss: 0.2337 - GTM_Strategy_how_will_they_reach_out_to_consumers_loss: 0.3336 - Business_Model_how_will_they_earn_money_loss: 0.2273 - Team_loss: 0.2658 - Product_Differentiator__loss: 0.3094 - Identification_of_the_problem_plus_Understanding_gravity_of_problem__accuracy: 0.8750 - Sizing_of_the_problem_accuracy: 0.9750 - Clarity_on_product_idea__who_they_are__accuracy: 0.9500 - Understanding_of_competitors_and_landscape__accuracy: 0.9250 - GTM_Strategy_how_will_they_reach_out_to_consumers_accuracy: 0.9250 - Business_Model_how_will_they_earn_money_accuracy: 0.9750 - Team_accuracy: 0.9000 - Product_Differentiator__accuracy: 0.9250\n",
      "Epoch 47/250\n",
      "4/4 [==============================] - 0s 22ms/step - loss: 2.1023 - Identification_of_the_problem_plus_Understanding_gravity_of_problem__loss: 0.2029 - Sizing_of_the_problem_loss: 0.1867 - Clarity_on_product_idea__who_they_are__loss: 0.2278 - Understanding_of_competitors_and_landscape__loss: 0.2395 - GTM_Strategy_how_will_they_reach_out_to_consumers_loss: 0.4674 - Business_Model_how_will_they_earn_money_loss: 0.2420 - Team_loss: 0.2416 - Product_Differentiator__loss: 0.2943 - Identification_of_the_problem_plus_Understanding_gravity_of_problem__accuracy: 0.9250 - Sizing_of_the_problem_accuracy: 0.9500 - Clarity_on_product_idea__who_they_are__accuracy: 0.9250 - Understanding_of_competitors_and_landscape__accuracy: 0.9000 - GTM_Strategy_how_will_they_reach_out_to_consumers_accuracy: 0.8000 - Business_Model_how_will_they_earn_money_accuracy: 0.9750 - Team_accuracy: 0.9250 - Product_Differentiator__accuracy: 0.9500\n",
      "Epoch 48/250\n",
      "4/4 [==============================] - 0s 44ms/step - loss: 1.8886 - Identification_of_the_problem_plus_Understanding_gravity_of_problem__loss: 0.2324 - Sizing_of_the_problem_loss: 0.2413 - Clarity_on_product_idea__who_they_are__loss: 0.1753 - Understanding_of_competitors_and_landscape__loss: 0.2435 - GTM_Strategy_how_will_they_reach_out_to_consumers_loss: 0.2561 - Business_Model_how_will_they_earn_money_loss: 0.1589 - Team_loss: 0.2564 - Product_Differentiator__loss: 0.3247 - Identification_of_the_problem_plus_Understanding_gravity_of_problem__accuracy: 0.9250 - Sizing_of_the_problem_accuracy: 0.9500 - Clarity_on_product_idea__who_they_are__accuracy: 0.9750 - Understanding_of_competitors_and_landscape__accuracy: 0.9250 - GTM_Strategy_how_will_they_reach_out_to_consumers_accuracy: 0.9750 - Business_Model_how_will_they_earn_money_accuracy: 0.9750 - Team_accuracy: 0.9250 - Product_Differentiator__accuracy: 0.9250\n",
      "Epoch 49/250\n",
      "4/4 [==============================] - 0s 20ms/step - loss: 1.7435 - Identification_of_the_problem_plus_Understanding_gravity_of_problem__loss: 0.1822 - Sizing_of_the_problem_loss: 0.1467 - Clarity_on_product_idea__who_they_are__loss: 0.1973 - Understanding_of_competitors_and_landscape__loss: 0.1942 - GTM_Strategy_how_will_they_reach_out_to_consumers_loss: 0.2804 - Business_Model_how_will_they_earn_money_loss: 0.2191 - Team_loss: 0.2213 - Product_Differentiator__loss: 0.3024 - Identification_of_the_problem_plus_Understanding_gravity_of_problem__accuracy: 0.9500 - Sizing_of_the_problem_accuracy: 0.9750 - Clarity_on_product_idea__who_they_are__accuracy: 0.9500 - Understanding_of_competitors_and_landscape__accuracy: 0.9250 - GTM_Strategy_how_will_they_reach_out_to_consumers_accuracy: 0.9500 - Business_Model_how_will_they_earn_money_accuracy: 0.9250 - Team_accuracy: 0.9500 - Product_Differentiator__accuracy: 0.9000\n",
      "Epoch 50/250\n",
      "4/4 [==============================] - 0s 26ms/step - loss: 1.6682 - Identification_of_the_problem_plus_Understanding_gravity_of_problem__loss: 0.1875 - Sizing_of_the_problem_loss: 0.1844 - Clarity_on_product_idea__who_they_are__loss: 0.1521 - Understanding_of_competitors_and_landscape__loss: 0.1730 - GTM_Strategy_how_will_they_reach_out_to_consumers_loss: 0.2766 - Business_Model_how_will_they_earn_money_loss: 0.1993 - Team_loss: 0.2295 - Product_Differentiator__loss: 0.2657 - Identification_of_the_problem_plus_Understanding_gravity_of_problem__accuracy: 0.9250 - Sizing_of_the_problem_accuracy: 1.0000 - Clarity_on_product_idea__who_they_are__accuracy: 0.9750 - Understanding_of_competitors_and_landscape__accuracy: 0.9500 - GTM_Strategy_how_will_they_reach_out_to_consumers_accuracy: 0.9750 - Business_Model_how_will_they_earn_money_accuracy: 1.0000 - Team_accuracy: 0.9750 - Product_Differentiator__accuracy: 0.8750\n",
      "Epoch 51/250\n",
      "4/4 [==============================] - 0s 31ms/step - loss: 1.8824 - Identification_of_the_problem_plus_Understanding_gravity_of_problem__loss: 0.3026 - Sizing_of_the_problem_loss: 0.1901 - Clarity_on_product_idea__who_they_are__loss: 0.1753 - Understanding_of_competitors_and_landscape__loss: 0.1840 - GTM_Strategy_how_will_they_reach_out_to_consumers_loss: 0.2406 - Business_Model_how_will_they_earn_money_loss: 0.1651 - Team_loss: 0.2474 - Product_Differentiator__loss: 0.3774 - Identification_of_the_problem_plus_Understanding_gravity_of_problem__accuracy: 0.8750 - Sizing_of_the_problem_accuracy: 0.9500 - Clarity_on_product_idea__who_they_are__accuracy: 1.0000 - Understanding_of_competitors_and_landscape__accuracy: 0.9500 - GTM_Strategy_how_will_they_reach_out_to_consumers_accuracy: 0.9500 - Business_Model_how_will_they_earn_money_accuracy: 0.9750 - Team_accuracy: 0.9250 - Product_Differentiator__accuracy: 0.8000\n",
      "Epoch 52/250\n",
      "4/4 [==============================] - 0s 25ms/step - loss: 1.7697 - Identification_of_the_problem_plus_Understanding_gravity_of_problem__loss: 0.2376 - Sizing_of_the_problem_loss: 0.1885 - Clarity_on_product_idea__who_they_are__loss: 0.1511 - Understanding_of_competitors_and_landscape__loss: 0.2590 - GTM_Strategy_how_will_they_reach_out_to_consumers_loss: 0.2568 - Business_Model_how_will_they_earn_money_loss: 0.1819 - Team_loss: 0.1995 - Product_Differentiator__loss: 0.2954 - Identification_of_the_problem_plus_Understanding_gravity_of_problem__accuracy: 0.9250 - Sizing_of_the_problem_accuracy: 0.9500 - Clarity_on_product_idea__who_they_are__accuracy: 0.9750 - Understanding_of_competitors_and_landscape__accuracy: 0.9000 - GTM_Strategy_how_will_they_reach_out_to_consumers_accuracy: 0.9250 - Business_Model_how_will_they_earn_money_accuracy: 0.9750 - Team_accuracy: 0.9000 - Product_Differentiator__accuracy: 0.8500\n",
      "Epoch 53/250\n",
      "4/4 [==============================] - 0s 26ms/step - loss: 1.5140 - Identification_of_the_problem_plus_Understanding_gravity_of_problem__loss: 0.1938 - Sizing_of_the_problem_loss: 0.1277 - Clarity_on_product_idea__who_they_are__loss: 0.1708 - Understanding_of_competitors_and_landscape__loss: 0.1906 - GTM_Strategy_how_will_they_reach_out_to_consumers_loss: 0.2591 - Business_Model_how_will_they_earn_money_loss: 0.1754 - Team_loss: 0.1475 - Product_Differentiator__loss: 0.2491 - Identification_of_the_problem_plus_Understanding_gravity_of_problem__accuracy: 0.9500 - Sizing_of_the_problem_accuracy: 0.9750 - Clarity_on_product_idea__who_they_are__accuracy: 0.9250 - Understanding_of_competitors_and_landscape__accuracy: 0.9250 - GTM_Strategy_how_will_they_reach_out_to_consumers_accuracy: 0.9250 - Business_Model_how_will_they_earn_money_accuracy: 0.9750 - Team_accuracy: 0.9500 - Product_Differentiator__accuracy: 0.9250\n",
      "Epoch 54/250\n",
      "4/4 [==============================] - 0s 26ms/step - loss: 1.5147 - Identification_of_the_problem_plus_Understanding_gravity_of_problem__loss: 0.2036 - Sizing_of_the_problem_loss: 0.1963 - Clarity_on_product_idea__who_they_are__loss: 0.1221 - Understanding_of_competitors_and_landscape__loss: 0.1802 - GTM_Strategy_how_will_they_reach_out_to_consumers_loss: 0.2581 - Business_Model_how_will_they_earn_money_loss: 0.1320 - Team_loss: 0.1959 - Product_Differentiator__loss: 0.2265 - Identification_of_the_problem_plus_Understanding_gravity_of_problem__accuracy: 0.9500 - Sizing_of_the_problem_accuracy: 0.9500 - Clarity_on_product_idea__who_they_are__accuracy: 0.9750 - Understanding_of_competitors_and_landscape__accuracy: 0.9500 - GTM_Strategy_how_will_they_reach_out_to_consumers_accuracy: 0.9500 - Business_Model_how_will_they_earn_money_accuracy: 1.0000 - Team_accuracy: 0.9750 - Product_Differentiator__accuracy: 0.9500\n",
      "Epoch 55/250\n",
      "4/4 [==============================] - 0s 22ms/step - loss: 1.3188 - Identification_of_the_problem_plus_Understanding_gravity_of_problem__loss: 0.1235 - Sizing_of_the_problem_loss: 0.1430 - Clarity_on_product_idea__who_they_are__loss: 0.1156 - Understanding_of_competitors_and_landscape__loss: 0.1266 - GTM_Strategy_how_will_they_reach_out_to_consumers_loss: 0.2648 - Business_Model_how_will_they_earn_money_loss: 0.1702 - Team_loss: 0.1284 - Product_Differentiator__loss: 0.2467 - Identification_of_the_problem_plus_Understanding_gravity_of_problem__accuracy: 0.9750 - Sizing_of_the_problem_accuracy: 0.9500 - Clarity_on_product_idea__who_they_are__accuracy: 1.0000 - Understanding_of_competitors_and_landscape__accuracy: 0.9750 - GTM_Strategy_how_will_they_reach_out_to_consumers_accuracy: 0.9500 - Business_Model_how_will_they_earn_money_accuracy: 0.9750 - Team_accuracy: 1.0000 - Product_Differentiator__accuracy: 0.9250\n",
      "Epoch 56/250\n",
      "4/4 [==============================] - 0s 36ms/step - loss: 1.5942 - Identification_of_the_problem_plus_Understanding_gravity_of_problem__loss: 0.1710 - Sizing_of_the_problem_loss: 0.1749 - Clarity_on_product_idea__who_they_are__loss: 0.1840 - Understanding_of_competitors_and_landscape__loss: 0.1747 - GTM_Strategy_how_will_they_reach_out_to_consumers_loss: 0.3266 - Business_Model_how_will_they_earn_money_loss: 0.1521 - Team_loss: 0.1764 - Product_Differentiator__loss: 0.2345 - Identification_of_the_problem_plus_Understanding_gravity_of_problem__accuracy: 0.9250 - Sizing_of_the_problem_accuracy: 0.9500 - Clarity_on_product_idea__who_they_are__accuracy: 0.9500 - Understanding_of_competitors_and_landscape__accuracy: 0.9250 - GTM_Strategy_how_will_they_reach_out_to_consumers_accuracy: 0.8750 - Business_Model_how_will_they_earn_money_accuracy: 1.0000 - Team_accuracy: 1.0000 - Product_Differentiator__accuracy: 0.9250\n",
      "Epoch 57/250\n",
      "4/4 [==============================] - 0s 21ms/step - loss: 1.5482 - Identification_of_the_problem_plus_Understanding_gravity_of_problem__loss: 0.1689 - Sizing_of_the_problem_loss: 0.1470 - Clarity_on_product_idea__who_they_are__loss: 0.2227 - Understanding_of_competitors_and_landscape__loss: 0.1588 - GTM_Strategy_how_will_they_reach_out_to_consumers_loss: 0.2582 - Business_Model_how_will_they_earn_money_loss: 0.2103 - Team_loss: 0.2090 - Product_Differentiator__loss: 0.1734 - Identification_of_the_problem_plus_Understanding_gravity_of_problem__accuracy: 0.9250 - Sizing_of_the_problem_accuracy: 0.9500 - Clarity_on_product_idea__who_they_are__accuracy: 0.9250 - Understanding_of_competitors_and_landscape__accuracy: 0.9250 - GTM_Strategy_how_will_they_reach_out_to_consumers_accuracy: 0.9000 - Business_Model_how_will_they_earn_money_accuracy: 0.9250 - Team_accuracy: 0.9000 - Product_Differentiator__accuracy: 1.0000\n",
      "Epoch 58/250\n",
      "4/4 [==============================] - 0s 33ms/step - loss: 1.4755 - Identification_of_the_problem_plus_Understanding_gravity_of_problem__loss: 0.1495 - Sizing_of_the_problem_loss: 0.2188 - Clarity_on_product_idea__who_they_are__loss: 0.1034 - Understanding_of_competitors_and_landscape__loss: 0.1161 - GTM_Strategy_how_will_they_reach_out_to_consumers_loss: 0.2254 - Business_Model_how_will_they_earn_money_loss: 0.1419 - Team_loss: 0.2506 - Product_Differentiator__loss: 0.2698 - Identification_of_the_problem_plus_Understanding_gravity_of_problem__accuracy: 0.9500 - Sizing_of_the_problem_accuracy: 0.9250 - Clarity_on_product_idea__who_they_are__accuracy: 0.9500 - Understanding_of_competitors_and_landscape__accuracy: 0.9750 - GTM_Strategy_how_will_they_reach_out_to_consumers_accuracy: 0.9500 - Business_Model_how_will_they_earn_money_accuracy: 1.0000 - Team_accuracy: 0.9500 - Product_Differentiator__accuracy: 0.9000\n",
      "Epoch 59/250\n",
      "4/4 [==============================] - 0s 25ms/step - loss: 1.4580 - Identification_of_the_problem_plus_Understanding_gravity_of_problem__loss: 0.1308 - Sizing_of_the_problem_loss: 0.1343 - Clarity_on_product_idea__who_they_are__loss: 0.1816 - Understanding_of_competitors_and_landscape__loss: 0.1594 - GTM_Strategy_how_will_they_reach_out_to_consumers_loss: 0.2540 - Business_Model_how_will_they_earn_money_loss: 0.1511 - Team_loss: 0.1659 - Product_Differentiator__loss: 0.2809 - Identification_of_the_problem_plus_Understanding_gravity_of_problem__accuracy: 0.9500 - Sizing_of_the_problem_accuracy: 0.9750 - Clarity_on_product_idea__who_they_are__accuracy: 0.9250 - Understanding_of_competitors_and_landscape__accuracy: 0.9500 - GTM_Strategy_how_will_they_reach_out_to_consumers_accuracy: 0.9000 - Business_Model_how_will_they_earn_money_accuracy: 0.9750 - Team_accuracy: 0.9500 - Product_Differentiator__accuracy: 0.9000\n",
      "Epoch 60/250\n",
      "4/4 [==============================] - 0s 25ms/step - loss: 1.2192 - Identification_of_the_problem_plus_Understanding_gravity_of_problem__loss: 0.1262 - Sizing_of_the_problem_loss: 0.1000 - Clarity_on_product_idea__who_they_are__loss: 0.1004 - Understanding_of_competitors_and_landscape__loss: 0.1485 - GTM_Strategy_how_will_they_reach_out_to_consumers_loss: 0.2476 - Business_Model_how_will_they_earn_money_loss: 0.1240 - Team_loss: 0.1323 - Product_Differentiator__loss: 0.2402 - Identification_of_the_problem_plus_Understanding_gravity_of_problem__accuracy: 1.0000 - Sizing_of_the_problem_accuracy: 1.0000 - Clarity_on_product_idea__who_they_are__accuracy: 0.9750 - Understanding_of_competitors_and_landscape__accuracy: 0.9750 - GTM_Strategy_how_will_they_reach_out_to_consumers_accuracy: 0.9250 - Business_Model_how_will_they_earn_money_accuracy: 0.9750 - Team_accuracy: 0.9750 - Product_Differentiator__accuracy: 0.9000\n",
      "Epoch 61/250\n",
      "4/4 [==============================] - 0s 29ms/step - loss: 1.4052 - Identification_of_the_problem_plus_Understanding_gravity_of_problem__loss: 0.1046 - Sizing_of_the_problem_loss: 0.1606 - Clarity_on_product_idea__who_they_are__loss: 0.1097 - Understanding_of_competitors_and_landscape__loss: 0.1473 - GTM_Strategy_how_will_they_reach_out_to_consumers_loss: 0.3255 - Business_Model_how_will_they_earn_money_loss: 0.1153 - Team_loss: 0.2173 - Product_Differentiator__loss: 0.2249 - Identification_of_the_problem_plus_Understanding_gravity_of_problem__accuracy: 1.0000 - Sizing_of_the_problem_accuracy: 1.0000 - Clarity_on_product_idea__who_they_are__accuracy: 0.9750 - Understanding_of_competitors_and_landscape__accuracy: 0.9500 - GTM_Strategy_how_will_they_reach_out_to_consumers_accuracy: 0.8500 - Business_Model_how_will_they_earn_money_accuracy: 0.9750 - Team_accuracy: 0.9000 - Product_Differentiator__accuracy: 0.9000\n",
      "Epoch 62/250\n",
      "4/4 [==============================] - 0s 29ms/step - loss: 1.1912 - Identification_of_the_problem_plus_Understanding_gravity_of_problem__loss: 0.1292 - Sizing_of_the_problem_loss: 0.1458 - Clarity_on_product_idea__who_they_are__loss: 0.1097 - Understanding_of_competitors_and_landscape__loss: 0.1141 - GTM_Strategy_how_will_they_reach_out_to_consumers_loss: 0.1499 - Business_Model_how_will_they_earn_money_loss: 0.0944 - Team_loss: 0.1896 - Product_Differentiator__loss: 0.2585 - Identification_of_the_problem_plus_Understanding_gravity_of_problem__accuracy: 0.9500 - Sizing_of_the_problem_accuracy: 0.9250 - Clarity_on_product_idea__who_they_are__accuracy: 1.0000 - Understanding_of_competitors_and_landscape__accuracy: 0.9750 - GTM_Strategy_how_will_they_reach_out_to_consumers_accuracy: 0.9750 - Business_Model_how_will_they_earn_money_accuracy: 1.0000 - Team_accuracy: 0.9500 - Product_Differentiator__accuracy: 0.9250\n",
      "Epoch 63/250\n",
      "4/4 [==============================] - 0s 21ms/step - loss: 1.1525 - Identification_of_the_problem_plus_Understanding_gravity_of_problem__loss: 0.1257 - Sizing_of_the_problem_loss: 0.1394 - Clarity_on_product_idea__who_they_are__loss: 0.1362 - Understanding_of_competitors_and_landscape__loss: 0.0814 - GTM_Strategy_how_will_they_reach_out_to_consumers_loss: 0.2049 - Business_Model_how_will_they_earn_money_loss: 0.1344 - Team_loss: 0.1326 - Product_Differentiator__loss: 0.1980 - Identification_of_the_problem_plus_Understanding_gravity_of_problem__accuracy: 0.9750 - Sizing_of_the_problem_accuracy: 0.9750 - Clarity_on_product_idea__who_they_are__accuracy: 0.9500 - Understanding_of_competitors_and_landscape__accuracy: 1.0000 - GTM_Strategy_how_will_they_reach_out_to_consumers_accuracy: 0.9500 - Business_Model_how_will_they_earn_money_accuracy: 0.9750 - Team_accuracy: 0.9500 - Product_Differentiator__accuracy: 0.9000\n",
      "Epoch 64/250\n",
      "4/4 [==============================] - 0s 29ms/step - loss: 1.3037 - Identification_of_the_problem_plus_Understanding_gravity_of_problem__loss: 0.1620 - Sizing_of_the_problem_loss: 0.1716 - Clarity_on_product_idea__who_they_are__loss: 0.1072 - Understanding_of_competitors_and_landscape__loss: 0.1172 - GTM_Strategy_how_will_they_reach_out_to_consumers_loss: 0.1967 - Business_Model_how_will_they_earn_money_loss: 0.1089 - Team_loss: 0.1807 - Product_Differentiator__loss: 0.2595 - Identification_of_the_problem_plus_Understanding_gravity_of_problem__accuracy: 0.9500 - Sizing_of_the_problem_accuracy: 0.9250 - Clarity_on_product_idea__who_they_are__accuracy: 0.9750 - Understanding_of_competitors_and_landscape__accuracy: 0.9500 - GTM_Strategy_how_will_they_reach_out_to_consumers_accuracy: 0.9500 - Business_Model_how_will_they_earn_money_accuracy: 1.0000 - Team_accuracy: 0.9500 - Product_Differentiator__accuracy: 0.8750\n",
      "Epoch 65/250\n",
      "4/4 [==============================] - 0s 27ms/step - loss: 1.1449 - Identification_of_the_problem_plus_Understanding_gravity_of_problem__loss: 0.1184 - Sizing_of_the_problem_loss: 0.2010 - Clarity_on_product_idea__who_they_are__loss: 0.0756 - Understanding_of_competitors_and_landscape__loss: 0.1142 - GTM_Strategy_how_will_they_reach_out_to_consumers_loss: 0.1679 - Business_Model_how_will_they_earn_money_loss: 0.1125 - Team_loss: 0.2184 - Product_Differentiator__loss: 0.1368 - Identification_of_the_problem_plus_Understanding_gravity_of_problem__accuracy: 0.9750 - Sizing_of_the_problem_accuracy: 0.9250 - Clarity_on_product_idea__who_they_are__accuracy: 1.0000 - Understanding_of_competitors_and_landscape__accuracy: 0.9750 - GTM_Strategy_how_will_they_reach_out_to_consumers_accuracy: 0.9750 - Business_Model_how_will_they_earn_money_accuracy: 0.9750 - Team_accuracy: 0.9250 - Product_Differentiator__accuracy: 0.9750\n",
      "Epoch 66/250\n",
      "4/4 [==============================] - 0s 19ms/step - loss: 0.8968 - Identification_of_the_problem_plus_Understanding_gravity_of_problem__loss: 0.0871 - Sizing_of_the_problem_loss: 0.1106 - Clarity_on_product_idea__who_they_are__loss: 0.0966 - Understanding_of_competitors_and_landscape__loss: 0.0965 - GTM_Strategy_how_will_they_reach_out_to_consumers_loss: 0.1622 - Business_Model_how_will_they_earn_money_loss: 0.0961 - Team_loss: 0.1184 - Product_Differentiator__loss: 0.1293 - Identification_of_the_problem_plus_Understanding_gravity_of_problem__accuracy: 0.9750 - Sizing_of_the_problem_accuracy: 0.9750 - Clarity_on_product_idea__who_they_are__accuracy: 1.0000 - Understanding_of_competitors_and_landscape__accuracy: 1.0000 - GTM_Strategy_how_will_they_reach_out_to_consumers_accuracy: 0.9750 - Business_Model_how_will_they_earn_money_accuracy: 1.0000 - Team_accuracy: 0.9750 - Product_Differentiator__accuracy: 1.0000\n",
      "Epoch 67/250\n",
      "4/4 [==============================] - 0s 21ms/step - loss: 0.9714 - Identification_of_the_problem_plus_Understanding_gravity_of_problem__loss: 0.1037 - Sizing_of_the_problem_loss: 0.0951 - Clarity_on_product_idea__who_they_are__loss: 0.1365 - Understanding_of_competitors_and_landscape__loss: 0.1242 - GTM_Strategy_how_will_they_reach_out_to_consumers_loss: 0.1515 - Business_Model_how_will_they_earn_money_loss: 0.1129 - Team_loss: 0.1551 - Product_Differentiator__loss: 0.0925 - Identification_of_the_problem_plus_Understanding_gravity_of_problem__accuracy: 0.9750 - Sizing_of_the_problem_accuracy: 1.0000 - Clarity_on_product_idea__who_they_are__accuracy: 0.9750 - Understanding_of_competitors_and_landscape__accuracy: 0.9500 - GTM_Strategy_how_will_they_reach_out_to_consumers_accuracy: 0.9500 - Business_Model_how_will_they_earn_money_accuracy: 1.0000 - Team_accuracy: 0.9500 - Product_Differentiator__accuracy: 1.0000\n",
      "Epoch 68/250\n",
      "4/4 [==============================] - 0s 19ms/step - loss: 1.0211 - Identification_of_the_problem_plus_Understanding_gravity_of_problem__loss: 0.1295 - Sizing_of_the_problem_loss: 0.1033 - Clarity_on_product_idea__who_they_are__loss: 0.0834 - Understanding_of_competitors_and_landscape__loss: 0.1020 - GTM_Strategy_how_will_they_reach_out_to_consumers_loss: 0.1626 - Business_Model_how_will_they_earn_money_loss: 0.1498 - Team_loss: 0.1171 - Product_Differentiator__loss: 0.1734 - Identification_of_the_problem_plus_Understanding_gravity_of_problem__accuracy: 0.9750 - Sizing_of_the_problem_accuracy: 0.9750 - Clarity_on_product_idea__who_they_are__accuracy: 1.0000 - Understanding_of_competitors_and_landscape__accuracy: 0.9750 - GTM_Strategy_how_will_they_reach_out_to_consumers_accuracy: 0.9750 - Business_Model_how_will_they_earn_money_accuracy: 0.9500 - Team_accuracy: 1.0000 - Product_Differentiator__accuracy: 0.9500\n",
      "Epoch 69/250\n",
      "4/4 [==============================] - 0s 24ms/step - loss: 0.9073 - Identification_of_the_problem_plus_Understanding_gravity_of_problem__loss: 0.0565 - Sizing_of_the_problem_loss: 0.0900 - Clarity_on_product_idea__who_they_are__loss: 0.0679 - Understanding_of_competitors_and_landscape__loss: 0.0853 - GTM_Strategy_how_will_they_reach_out_to_consumers_loss: 0.1964 - Business_Model_how_will_they_earn_money_loss: 0.0932 - Team_loss: 0.1162 - Product_Differentiator__loss: 0.2017 - Identification_of_the_problem_plus_Understanding_gravity_of_problem__accuracy: 1.0000 - Sizing_of_the_problem_accuracy: 0.9750 - Clarity_on_product_idea__who_they_are__accuracy: 1.0000 - Understanding_of_competitors_and_landscape__accuracy: 0.9750 - GTM_Strategy_how_will_they_reach_out_to_consumers_accuracy: 0.9500 - Business_Model_how_will_they_earn_money_accuracy: 1.0000 - Team_accuracy: 0.9750 - Product_Differentiator__accuracy: 0.9250\n",
      "Epoch 70/250\n",
      "4/4 [==============================] - 0s 19ms/step - loss: 0.8286 - Identification_of_the_problem_plus_Understanding_gravity_of_problem__loss: 0.1009 - Sizing_of_the_problem_loss: 0.0766 - Clarity_on_product_idea__who_they_are__loss: 0.0675 - Understanding_of_competitors_and_landscape__loss: 0.0846 - GTM_Strategy_how_will_they_reach_out_to_consumers_loss: 0.1323 - Business_Model_how_will_they_earn_money_loss: 0.1006 - Team_loss: 0.1305 - Product_Differentiator__loss: 0.1355 - Identification_of_the_problem_plus_Understanding_gravity_of_problem__accuracy: 0.9500 - Sizing_of_the_problem_accuracy: 1.0000 - Clarity_on_product_idea__who_they_are__accuracy: 1.0000 - Understanding_of_competitors_and_landscape__accuracy: 1.0000 - GTM_Strategy_how_will_they_reach_out_to_consumers_accuracy: 0.9500 - Business_Model_how_will_they_earn_money_accuracy: 0.9750 - Team_accuracy: 0.9500 - Product_Differentiator__accuracy: 1.0000\n",
      "Epoch 71/250\n",
      "4/4 [==============================] - 0s 16ms/step - loss: 0.9559 - Identification_of_the_problem_plus_Understanding_gravity_of_problem__loss: 0.1015 - Sizing_of_the_problem_loss: 0.0809 - Clarity_on_product_idea__who_they_are__loss: 0.1470 - Understanding_of_competitors_and_landscape__loss: 0.0813 - GTM_Strategy_how_will_they_reach_out_to_consumers_loss: 0.1764 - Business_Model_how_will_they_earn_money_loss: 0.1249 - Team_loss: 0.1096 - Product_Differentiator__loss: 0.1344 - Identification_of_the_problem_plus_Understanding_gravity_of_problem__accuracy: 0.9500 - Sizing_of_the_problem_accuracy: 1.0000 - Clarity_on_product_idea__who_they_are__accuracy: 0.9250 - Understanding_of_competitors_and_landscape__accuracy: 0.9750 - GTM_Strategy_how_will_they_reach_out_to_consumers_accuracy: 0.9500 - Business_Model_how_will_they_earn_money_accuracy: 0.9750 - Team_accuracy: 0.9500 - Product_Differentiator__accuracy: 0.9750\n",
      "Epoch 72/250\n",
      "4/4 [==============================] - 0s 16ms/step - loss: 0.9945 - Identification_of_the_problem_plus_Understanding_gravity_of_problem__loss: 0.0894 - Sizing_of_the_problem_loss: 0.1101 - Clarity_on_product_idea__who_they_are__loss: 0.1026 - Understanding_of_competitors_and_landscape__loss: 0.0882 - GTM_Strategy_how_will_they_reach_out_to_consumers_loss: 0.1883 - Business_Model_how_will_they_earn_money_loss: 0.1042 - Team_loss: 0.1072 - Product_Differentiator__loss: 0.2044 - Identification_of_the_problem_plus_Understanding_gravity_of_problem__accuracy: 1.0000 - Sizing_of_the_problem_accuracy: 1.0000 - Clarity_on_product_idea__who_they_are__accuracy: 0.9750 - Understanding_of_competitors_and_landscape__accuracy: 0.9750 - GTM_Strategy_how_will_they_reach_out_to_consumers_accuracy: 0.9500 - Business_Model_how_will_they_earn_money_accuracy: 0.9750 - Team_accuracy: 1.0000 - Product_Differentiator__accuracy: 0.9250\n",
      "Epoch 73/250\n",
      "4/4 [==============================] - 0s 17ms/step - loss: 0.8545 - Identification_of_the_problem_plus_Understanding_gravity_of_problem__loss: 0.1031 - Sizing_of_the_problem_loss: 0.1042 - Clarity_on_product_idea__who_they_are__loss: 0.1499 - Understanding_of_competitors_and_landscape__loss: 0.0423 - GTM_Strategy_how_will_they_reach_out_to_consumers_loss: 0.1331 - Business_Model_how_will_they_earn_money_loss: 0.0767 - Team_loss: 0.1304 - Product_Differentiator__loss: 0.1148 - Identification_of_the_problem_plus_Understanding_gravity_of_problem__accuracy: 1.0000 - Sizing_of_the_problem_accuracy: 1.0000 - Clarity_on_product_idea__who_they_are__accuracy: 0.9500 - Understanding_of_competitors_and_landscape__accuracy: 1.0000 - GTM_Strategy_how_will_they_reach_out_to_consumers_accuracy: 0.9750 - Business_Model_how_will_they_earn_money_accuracy: 1.0000 - Team_accuracy: 0.9500 - Product_Differentiator__accuracy: 0.9750\n",
      "Epoch 74/250\n",
      "4/4 [==============================] - 0s 20ms/step - loss: 0.9638 - Identification_of_the_problem_plus_Understanding_gravity_of_problem__loss: 0.0704 - Sizing_of_the_problem_loss: 0.1242 - Clarity_on_product_idea__who_they_are__loss: 0.0943 - Understanding_of_competitors_and_landscape__loss: 0.0717 - GTM_Strategy_how_will_they_reach_out_to_consumers_loss: 0.1550 - Business_Model_how_will_they_earn_money_loss: 0.1122 - Team_loss: 0.1466 - Product_Differentiator__loss: 0.1894 - Identification_of_the_problem_plus_Understanding_gravity_of_problem__accuracy: 1.0000 - Sizing_of_the_problem_accuracy: 0.9500 - Clarity_on_product_idea__who_they_are__accuracy: 0.9500 - Understanding_of_competitors_and_landscape__accuracy: 1.0000 - GTM_Strategy_how_will_they_reach_out_to_consumers_accuracy: 0.9750 - Business_Model_how_will_they_earn_money_accuracy: 0.9750 - Team_accuracy: 0.9500 - Product_Differentiator__accuracy: 0.9250\n",
      "Epoch 75/250\n",
      "4/4 [==============================] - 0s 23ms/step - loss: 0.7049 - Identification_of_the_problem_plus_Understanding_gravity_of_problem__loss: 0.0888 - Sizing_of_the_problem_loss: 0.0506 - Clarity_on_product_idea__who_they_are__loss: 0.0714 - Understanding_of_competitors_and_landscape__loss: 0.0714 - GTM_Strategy_how_will_they_reach_out_to_consumers_loss: 0.1272 - Business_Model_how_will_they_earn_money_loss: 0.1260 - Team_loss: 0.0795 - Product_Differentiator__loss: 0.0900 - Identification_of_the_problem_plus_Understanding_gravity_of_problem__accuracy: 0.9750 - Sizing_of_the_problem_accuracy: 1.0000 - Clarity_on_product_idea__who_they_are__accuracy: 1.0000 - Understanding_of_competitors_and_landscape__accuracy: 1.0000 - GTM_Strategy_how_will_they_reach_out_to_consumers_accuracy: 1.0000 - Business_Model_how_will_they_earn_money_accuracy: 1.0000 - Team_accuracy: 1.0000 - Product_Differentiator__accuracy: 1.0000\n",
      "Epoch 76/250\n",
      "4/4 [==============================] - 0s 18ms/step - loss: 0.7991 - Identification_of_the_problem_plus_Understanding_gravity_of_problem__loss: 0.0497 - Sizing_of_the_problem_loss: 0.1427 - Clarity_on_product_idea__who_they_are__loss: 0.0864 - Understanding_of_competitors_and_landscape__loss: 0.0711 - GTM_Strategy_how_will_they_reach_out_to_consumers_loss: 0.1584 - Business_Model_how_will_they_earn_money_loss: 0.0926 - Team_loss: 0.0676 - Product_Differentiator__loss: 0.1306 - Identification_of_the_problem_plus_Understanding_gravity_of_problem__accuracy: 1.0000 - Sizing_of_the_problem_accuracy: 0.9250 - Clarity_on_product_idea__who_they_are__accuracy: 0.9750 - Understanding_of_competitors_and_landscape__accuracy: 0.9750 - GTM_Strategy_how_will_they_reach_out_to_consumers_accuracy: 0.9250 - Business_Model_how_will_they_earn_money_accuracy: 1.0000 - Team_accuracy: 0.9750 - Product_Differentiator__accuracy: 0.9500\n",
      "Epoch 77/250\n",
      "4/4 [==============================] - 0s 17ms/step - loss: 0.8156 - Identification_of_the_problem_plus_Understanding_gravity_of_problem__loss: 0.0709 - Sizing_of_the_problem_loss: 0.1528 - Clarity_on_product_idea__who_they_are__loss: 0.0665 - Understanding_of_competitors_and_landscape__loss: 0.0913 - GTM_Strategy_how_will_they_reach_out_to_consumers_loss: 0.1754 - Business_Model_how_will_they_earn_money_loss: 0.0845 - Team_loss: 0.0616 - Product_Differentiator__loss: 0.1126 - Identification_of_the_problem_plus_Understanding_gravity_of_problem__accuracy: 1.0000 - Sizing_of_the_problem_accuracy: 0.9500 - Clarity_on_product_idea__who_they_are__accuracy: 1.0000 - Understanding_of_competitors_and_landscape__accuracy: 0.9750 - GTM_Strategy_how_will_they_reach_out_to_consumers_accuracy: 0.9000 - Business_Model_how_will_they_earn_money_accuracy: 0.9750 - Team_accuracy: 1.0000 - Product_Differentiator__accuracy: 0.9500\n",
      "Epoch 78/250\n",
      "4/4 [==============================] - 0s 20ms/step - loss: 0.7637 - Identification_of_the_problem_plus_Understanding_gravity_of_problem__loss: 0.0989 - Sizing_of_the_problem_loss: 0.0704 - Clarity_on_product_idea__who_they_are__loss: 0.0622 - Understanding_of_competitors_and_landscape__loss: 0.0671 - GTM_Strategy_how_will_they_reach_out_to_consumers_loss: 0.1167 - Business_Model_how_will_they_earn_money_loss: 0.0930 - Team_loss: 0.1235 - Product_Differentiator__loss: 0.1319 - Identification_of_the_problem_plus_Understanding_gravity_of_problem__accuracy: 0.9750 - Sizing_of_the_problem_accuracy: 1.0000 - Clarity_on_product_idea__who_they_are__accuracy: 1.0000 - Understanding_of_competitors_and_landscape__accuracy: 1.0000 - GTM_Strategy_how_will_they_reach_out_to_consumers_accuracy: 0.9750 - Business_Model_how_will_they_earn_money_accuracy: 1.0000 - Team_accuracy: 0.9500 - Product_Differentiator__accuracy: 0.9500\n",
      "Epoch 79/250\n",
      "4/4 [==============================] - 0s 26ms/step - loss: 0.7658 - Identification_of_the_problem_plus_Understanding_gravity_of_problem__loss: 0.0626 - Sizing_of_the_problem_loss: 0.0718 - Clarity_on_product_idea__who_they_are__loss: 0.1037 - Understanding_of_competitors_and_landscape__loss: 0.0899 - GTM_Strategy_how_will_they_reach_out_to_consumers_loss: 0.1601 - Business_Model_how_will_they_earn_money_loss: 0.0840 - Team_loss: 0.0941 - Product_Differentiator__loss: 0.0994 - Identification_of_the_problem_plus_Understanding_gravity_of_problem__accuracy: 1.0000 - Sizing_of_the_problem_accuracy: 1.0000 - Clarity_on_product_idea__who_they_are__accuracy: 0.9750 - Understanding_of_competitors_and_landscape__accuracy: 1.0000 - GTM_Strategy_how_will_they_reach_out_to_consumers_accuracy: 0.9750 - Business_Model_how_will_they_earn_money_accuracy: 0.9750 - Team_accuracy: 0.9750 - Product_Differentiator__accuracy: 0.9750\n",
      "Epoch 80/250\n",
      "4/4 [==============================] - 0s 24ms/step - loss: 0.6663 - Identification_of_the_problem_plus_Understanding_gravity_of_problem__loss: 0.0518 - Sizing_of_the_problem_loss: 0.0703 - Clarity_on_product_idea__who_they_are__loss: 0.0630 - Understanding_of_competitors_and_landscape__loss: 0.0901 - GTM_Strategy_how_will_they_reach_out_to_consumers_loss: 0.1375 - Business_Model_how_will_they_earn_money_loss: 0.0993 - Team_loss: 0.0705 - Product_Differentiator__loss: 0.0838 - Identification_of_the_problem_plus_Understanding_gravity_of_problem__accuracy: 1.0000 - Sizing_of_the_problem_accuracy: 1.0000 - Clarity_on_product_idea__who_they_are__accuracy: 1.0000 - Understanding_of_competitors_and_landscape__accuracy: 0.9750 - GTM_Strategy_how_will_they_reach_out_to_consumers_accuracy: 0.9500 - Business_Model_how_will_they_earn_money_accuracy: 0.9750 - Team_accuracy: 1.0000 - Product_Differentiator__accuracy: 1.0000\n",
      "Epoch 81/250\n",
      "4/4 [==============================] - 0s 22ms/step - loss: 0.7755 - Identification_of_the_problem_plus_Understanding_gravity_of_problem__loss: 0.0721 - Sizing_of_the_problem_loss: 0.1223 - Clarity_on_product_idea__who_they_are__loss: 0.1283 - Understanding_of_competitors_and_landscape__loss: 0.0740 - GTM_Strategy_how_will_they_reach_out_to_consumers_loss: 0.0872 - Business_Model_how_will_they_earn_money_loss: 0.0972 - Team_loss: 0.0699 - Product_Differentiator__loss: 0.1245 - Identification_of_the_problem_plus_Understanding_gravity_of_problem__accuracy: 0.9750 - Sizing_of_the_problem_accuracy: 0.9750 - Clarity_on_product_idea__who_they_are__accuracy: 0.9500 - Understanding_of_competitors_and_landscape__accuracy: 1.0000 - GTM_Strategy_how_will_they_reach_out_to_consumers_accuracy: 1.0000 - Business_Model_how_will_they_earn_money_accuracy: 0.9750 - Team_accuracy: 0.9750 - Product_Differentiator__accuracy: 1.0000\n",
      "Epoch 82/250\n",
      "4/4 [==============================] - 0s 34ms/step - loss: 0.8164 - Identification_of_the_problem_plus_Understanding_gravity_of_problem__loss: 0.1235 - Sizing_of_the_problem_loss: 0.0995 - Clarity_on_product_idea__who_they_are__loss: 0.0991 - Understanding_of_competitors_and_landscape__loss: 0.0372 - GTM_Strategy_how_will_they_reach_out_to_consumers_loss: 0.1222 - Business_Model_how_will_they_earn_money_loss: 0.1139 - Team_loss: 0.0620 - Product_Differentiator__loss: 0.1590 - Identification_of_the_problem_plus_Understanding_gravity_of_problem__accuracy: 0.9500 - Sizing_of_the_problem_accuracy: 0.9750 - Clarity_on_product_idea__who_they_are__accuracy: 0.9750 - Understanding_of_competitors_and_landscape__accuracy: 1.0000 - GTM_Strategy_how_will_they_reach_out_to_consumers_accuracy: 0.9750 - Business_Model_how_will_they_earn_money_accuracy: 0.9500 - Team_accuracy: 1.0000 - Product_Differentiator__accuracy: 0.9500\n",
      "Epoch 83/250\n",
      "4/4 [==============================] - 0s 29ms/step - loss: 0.6946 - Identification_of_the_problem_plus_Understanding_gravity_of_problem__loss: 0.0580 - Sizing_of_the_problem_loss: 0.1008 - Clarity_on_product_idea__who_they_are__loss: 0.0923 - Understanding_of_competitors_and_landscape__loss: 0.0607 - GTM_Strategy_how_will_they_reach_out_to_consumers_loss: 0.1042 - Business_Model_how_will_they_earn_money_loss: 0.0740 - Team_loss: 0.0840 - Product_Differentiator__loss: 0.1205 - Identification_of_the_problem_plus_Understanding_gravity_of_problem__accuracy: 1.0000 - Sizing_of_the_problem_accuracy: 0.9750 - Clarity_on_product_idea__who_they_are__accuracy: 0.9500 - Understanding_of_competitors_and_landscape__accuracy: 1.0000 - GTM_Strategy_how_will_they_reach_out_to_consumers_accuracy: 0.9750 - Business_Model_how_will_they_earn_money_accuracy: 1.0000 - Team_accuracy: 0.9750 - Product_Differentiator__accuracy: 0.9750\n",
      "Epoch 84/250\n",
      "4/4 [==============================] - 0s 32ms/step - loss: 0.7398 - Identification_of_the_problem_plus_Understanding_gravity_of_problem__loss: 0.0432 - Sizing_of_the_problem_loss: 0.0577 - Clarity_on_product_idea__who_they_are__loss: 0.0759 - Understanding_of_competitors_and_landscape__loss: 0.0755 - GTM_Strategy_how_will_they_reach_out_to_consumers_loss: 0.1372 - Business_Model_how_will_they_earn_money_loss: 0.1140 - Team_loss: 0.0955 - Product_Differentiator__loss: 0.1409 - Identification_of_the_problem_plus_Understanding_gravity_of_problem__accuracy: 1.0000 - Sizing_of_the_problem_accuracy: 1.0000 - Clarity_on_product_idea__who_they_are__accuracy: 1.0000 - Understanding_of_competitors_and_landscape__accuracy: 1.0000 - GTM_Strategy_how_will_they_reach_out_to_consumers_accuracy: 0.9500 - Business_Model_how_will_they_earn_money_accuracy: 0.9750 - Team_accuracy: 0.9750 - Product_Differentiator__accuracy: 0.9750\n",
      "Epoch 85/250\n",
      "4/4 [==============================] - 0s 25ms/step - loss: 0.7078 - Identification_of_the_problem_plus_Understanding_gravity_of_problem__loss: 0.0731 - Sizing_of_the_problem_loss: 0.0684 - Clarity_on_product_idea__who_they_are__loss: 0.0754 - Understanding_of_competitors_and_landscape__loss: 0.0307 - GTM_Strategy_how_will_they_reach_out_to_consumers_loss: 0.1471 - Business_Model_how_will_they_earn_money_loss: 0.0950 - Team_loss: 0.1112 - Product_Differentiator__loss: 0.1068 - Identification_of_the_problem_plus_Understanding_gravity_of_problem__accuracy: 0.9750 - Sizing_of_the_problem_accuracy: 0.9500 - Clarity_on_product_idea__who_they_are__accuracy: 1.0000 - Understanding_of_competitors_and_landscape__accuracy: 1.0000 - GTM_Strategy_how_will_they_reach_out_to_consumers_accuracy: 0.9500 - Business_Model_how_will_they_earn_money_accuracy: 0.9750 - Team_accuracy: 0.9500 - Product_Differentiator__accuracy: 0.9750\n",
      "Epoch 86/250\n",
      "4/4 [==============================] - 0s 30ms/step - loss: 0.7811 - Identification_of_the_problem_plus_Understanding_gravity_of_problem__loss: 0.0516 - Sizing_of_the_problem_loss: 0.0734 - Clarity_on_product_idea__who_they_are__loss: 0.0428 - Understanding_of_competitors_and_landscape__loss: 0.1072 - GTM_Strategy_how_will_they_reach_out_to_consumers_loss: 0.1980 - Business_Model_how_will_they_earn_money_loss: 0.0898 - Team_loss: 0.0708 - Product_Differentiator__loss: 0.1476 - Identification_of_the_problem_plus_Understanding_gravity_of_problem__accuracy: 1.0000 - Sizing_of_the_problem_accuracy: 0.9750 - Clarity_on_product_idea__who_they_are__accuracy: 1.0000 - Understanding_of_competitors_and_landscape__accuracy: 1.0000 - GTM_Strategy_how_will_they_reach_out_to_consumers_accuracy: 0.9500 - Business_Model_how_will_they_earn_money_accuracy: 0.9500 - Team_accuracy: 0.9750 - Product_Differentiator__accuracy: 0.9750\n",
      "Epoch 87/250\n",
      "4/4 [==============================] - 0s 39ms/step - loss: 0.7693 - Identification_of_the_problem_plus_Understanding_gravity_of_problem__loss: 0.0591 - Sizing_of_the_problem_loss: 0.0639 - Clarity_on_product_idea__who_they_are__loss: 0.0783 - Understanding_of_competitors_and_landscape__loss: 0.0840 - GTM_Strategy_how_will_they_reach_out_to_consumers_loss: 0.0846 - Business_Model_how_will_they_earn_money_loss: 0.1970 - Team_loss: 0.1377 - Product_Differentiator__loss: 0.0646 - Identification_of_the_problem_plus_Understanding_gravity_of_problem__accuracy: 1.0000 - Sizing_of_the_problem_accuracy: 1.0000 - Clarity_on_product_idea__who_they_are__accuracy: 0.9750 - Understanding_of_competitors_and_landscape__accuracy: 0.9750 - GTM_Strategy_how_will_they_reach_out_to_consumers_accuracy: 1.0000 - Business_Model_how_will_they_earn_money_accuracy: 0.9000 - Team_accuracy: 0.9250 - Product_Differentiator__accuracy: 1.0000\n",
      "Epoch 88/250\n",
      "4/4 [==============================] - 0s 26ms/step - loss: 0.6933 - Identification_of_the_problem_plus_Understanding_gravity_of_problem__loss: 0.0350 - Sizing_of_the_problem_loss: 0.0918 - Clarity_on_product_idea__who_they_are__loss: 0.0576 - Understanding_of_competitors_and_landscape__loss: 0.0733 - GTM_Strategy_how_will_they_reach_out_to_consumers_loss: 0.1043 - Business_Model_how_will_they_earn_money_loss: 0.0617 - Team_loss: 0.1120 - Product_Differentiator__loss: 0.1576 - Identification_of_the_problem_plus_Understanding_gravity_of_problem__accuracy: 1.0000 - Sizing_of_the_problem_accuracy: 0.9750 - Clarity_on_product_idea__who_they_are__accuracy: 0.9750 - Understanding_of_competitors_and_landscape__accuracy: 1.0000 - GTM_Strategy_how_will_they_reach_out_to_consumers_accuracy: 0.9750 - Business_Model_how_will_they_earn_money_accuracy: 1.0000 - Team_accuracy: 0.9750 - Product_Differentiator__accuracy: 0.9750\n",
      "Epoch 89/250\n",
      "4/4 [==============================] - 0s 38ms/step - loss: 0.7512 - Identification_of_the_problem_plus_Understanding_gravity_of_problem__loss: 0.0705 - Sizing_of_the_problem_loss: 0.0544 - Clarity_on_product_idea__who_they_are__loss: 0.0652 - Understanding_of_competitors_and_landscape__loss: 0.0817 - GTM_Strategy_how_will_they_reach_out_to_consumers_loss: 0.1467 - Business_Model_how_will_they_earn_money_loss: 0.0798 - Team_loss: 0.1212 - Product_Differentiator__loss: 0.1317 - Identification_of_the_problem_plus_Understanding_gravity_of_problem__accuracy: 1.0000 - Sizing_of_the_problem_accuracy: 1.0000 - Clarity_on_product_idea__who_they_are__accuracy: 1.0000 - Understanding_of_competitors_and_landscape__accuracy: 0.9750 - GTM_Strategy_how_will_they_reach_out_to_consumers_accuracy: 0.9250 - Business_Model_how_will_they_earn_money_accuracy: 1.0000 - Team_accuracy: 0.9500 - Product_Differentiator__accuracy: 0.9250\n",
      "Epoch 90/250\n",
      "4/4 [==============================] - 0s 22ms/step - loss: 0.5915 - Identification_of_the_problem_plus_Understanding_gravity_of_problem__loss: 0.0612 - Sizing_of_the_problem_loss: 0.0320 - Clarity_on_product_idea__who_they_are__loss: 0.1065 - Understanding_of_competitors_and_landscape__loss: 0.0603 - GTM_Strategy_how_will_they_reach_out_to_consumers_loss: 0.1334 - Business_Model_how_will_they_earn_money_loss: 0.0936 - Team_loss: 0.0521 - Product_Differentiator__loss: 0.0524 - Identification_of_the_problem_plus_Understanding_gravity_of_problem__accuracy: 0.9750 - Sizing_of_the_problem_accuracy: 1.0000 - Clarity_on_product_idea__who_they_are__accuracy: 0.9750 - Understanding_of_competitors_and_landscape__accuracy: 1.0000 - GTM_Strategy_how_will_they_reach_out_to_consumers_accuracy: 0.9750 - Business_Model_how_will_they_earn_money_accuracy: 0.9750 - Team_accuracy: 1.0000 - Product_Differentiator__accuracy: 1.0000\n",
      "Epoch 91/250\n",
      "4/4 [==============================] - 0s 28ms/step - loss: 0.5155 - Identification_of_the_problem_plus_Understanding_gravity_of_problem__loss: 0.0569 - Sizing_of_the_problem_loss: 0.0660 - Clarity_on_product_idea__who_they_are__loss: 0.0431 - Understanding_of_competitors_and_landscape__loss: 0.0668 - GTM_Strategy_how_will_they_reach_out_to_consumers_loss: 0.0587 - Business_Model_how_will_they_earn_money_loss: 0.0539 - Team_loss: 0.1076 - Product_Differentiator__loss: 0.0625 - Identification_of_the_problem_plus_Understanding_gravity_of_problem__accuracy: 1.0000 - Sizing_of_the_problem_accuracy: 0.9750 - Clarity_on_product_idea__who_they_are__accuracy: 1.0000 - Understanding_of_competitors_and_landscape__accuracy: 1.0000 - GTM_Strategy_how_will_they_reach_out_to_consumers_accuracy: 1.0000 - Business_Model_how_will_they_earn_money_accuracy: 1.0000 - Team_accuracy: 0.9750 - Product_Differentiator__accuracy: 1.0000\n",
      "Epoch 92/250\n",
      "4/4 [==============================] - 0s 15ms/step - loss: 0.5297 - Identification_of_the_problem_plus_Understanding_gravity_of_problem__loss: 0.0623 - Sizing_of_the_problem_loss: 0.0634 - Clarity_on_product_idea__who_they_are__loss: 0.0284 - Understanding_of_competitors_and_landscape__loss: 0.0371 - GTM_Strategy_how_will_they_reach_out_to_consumers_loss: 0.0936 - Business_Model_how_will_they_earn_money_loss: 0.0831 - Team_loss: 0.0458 - Product_Differentiator__loss: 0.1162 - Identification_of_the_problem_plus_Understanding_gravity_of_problem__accuracy: 1.0000 - Sizing_of_the_problem_accuracy: 1.0000 - Clarity_on_product_idea__who_they_are__accuracy: 1.0000 - Understanding_of_competitors_and_landscape__accuracy: 1.0000 - GTM_Strategy_how_will_they_reach_out_to_consumers_accuracy: 1.0000 - Business_Model_how_will_they_earn_money_accuracy: 0.9750 - Team_accuracy: 1.0000 - Product_Differentiator__accuracy: 0.9500\n",
      "Epoch 93/250\n",
      "4/4 [==============================] - 0s 34ms/step - loss: 0.6204 - Identification_of_the_problem_plus_Understanding_gravity_of_problem__loss: 0.0361 - Sizing_of_the_problem_loss: 0.0473 - Clarity_on_product_idea__who_they_are__loss: 0.0925 - Understanding_of_competitors_and_landscape__loss: 0.0527 - GTM_Strategy_how_will_they_reach_out_to_consumers_loss: 0.0993 - Business_Model_how_will_they_earn_money_loss: 0.0605 - Team_loss: 0.0702 - Product_Differentiator__loss: 0.1618 - Identification_of_the_problem_plus_Understanding_gravity_of_problem__accuracy: 1.0000 - Sizing_of_the_problem_accuracy: 1.0000 - Clarity_on_product_idea__who_they_are__accuracy: 0.9500 - Understanding_of_competitors_and_landscape__accuracy: 1.0000 - GTM_Strategy_how_will_they_reach_out_to_consumers_accuracy: 0.9750 - Business_Model_how_will_they_earn_money_accuracy: 1.0000 - Team_accuracy: 1.0000 - Product_Differentiator__accuracy: 0.9250\n",
      "Epoch 94/250\n",
      "4/4 [==============================] - 0s 19ms/step - loss: 0.4803 - Identification_of_the_problem_plus_Understanding_gravity_of_problem__loss: 0.0776 - Sizing_of_the_problem_loss: 0.0371 - Clarity_on_product_idea__who_they_are__loss: 0.0431 - Understanding_of_competitors_and_landscape__loss: 0.0490 - GTM_Strategy_how_will_they_reach_out_to_consumers_loss: 0.0515 - Business_Model_how_will_they_earn_money_loss: 0.0510 - Team_loss: 0.1041 - Product_Differentiator__loss: 0.0669 - Identification_of_the_problem_plus_Understanding_gravity_of_problem__accuracy: 0.9750 - Sizing_of_the_problem_accuracy: 1.0000 - Clarity_on_product_idea__who_they_are__accuracy: 1.0000 - Understanding_of_competitors_and_landscape__accuracy: 1.0000 - GTM_Strategy_how_will_they_reach_out_to_consumers_accuracy: 1.0000 - Business_Model_how_will_they_earn_money_accuracy: 1.0000 - Team_accuracy: 0.9500 - Product_Differentiator__accuracy: 1.0000\n",
      "Epoch 95/250\n",
      "4/4 [==============================] - 0s 41ms/step - loss: 0.4830 - Identification_of_the_problem_plus_Understanding_gravity_of_problem__loss: 0.0558 - Sizing_of_the_problem_loss: 0.0603 - Clarity_on_product_idea__who_they_are__loss: 0.0399 - Understanding_of_competitors_and_landscape__loss: 0.0286 - GTM_Strategy_how_will_they_reach_out_to_consumers_loss: 0.0596 - Business_Model_how_will_they_earn_money_loss: 0.0901 - Team_loss: 0.0715 - Product_Differentiator__loss: 0.0771 - Identification_of_the_problem_plus_Understanding_gravity_of_problem__accuracy: 1.0000 - Sizing_of_the_problem_accuracy: 1.0000 - Clarity_on_product_idea__who_they_are__accuracy: 1.0000 - Understanding_of_competitors_and_landscape__accuracy: 1.0000 - GTM_Strategy_how_will_they_reach_out_to_consumers_accuracy: 1.0000 - Business_Model_how_will_they_earn_money_accuracy: 1.0000 - Team_accuracy: 0.9750 - Product_Differentiator__accuracy: 1.0000\n",
      "Epoch 96/250\n",
      "4/4 [==============================] - 0s 25ms/step - loss: 0.7284 - Identification_of_the_problem_plus_Understanding_gravity_of_problem__loss: 0.0642 - Sizing_of_the_problem_loss: 0.1323 - Clarity_on_product_idea__who_they_are__loss: 0.1363 - Understanding_of_competitors_and_landscape__loss: 0.0465 - GTM_Strategy_how_will_they_reach_out_to_consumers_loss: 0.0695 - Business_Model_how_will_they_earn_money_loss: 0.0908 - Team_loss: 0.0558 - Product_Differentiator__loss: 0.1331 - Identification_of_the_problem_plus_Understanding_gravity_of_problem__accuracy: 1.0000 - Sizing_of_the_problem_accuracy: 0.9500 - Clarity_on_product_idea__who_they_are__accuracy: 0.9750 - Understanding_of_competitors_and_landscape__accuracy: 1.0000 - GTM_Strategy_how_will_they_reach_out_to_consumers_accuracy: 1.0000 - Business_Model_how_will_they_earn_money_accuracy: 0.9750 - Team_accuracy: 0.9750 - Product_Differentiator__accuracy: 0.9250\n",
      "Epoch 97/250\n",
      "4/4 [==============================] - 0s 19ms/step - loss: 0.6184 - Identification_of_the_problem_plus_Understanding_gravity_of_problem__loss: 0.0579 - Sizing_of_the_problem_loss: 0.0803 - Clarity_on_product_idea__who_they_are__loss: 0.0669 - Understanding_of_competitors_and_landscape__loss: 0.0334 - GTM_Strategy_how_will_they_reach_out_to_consumers_loss: 0.1241 - Business_Model_how_will_they_earn_money_loss: 0.0831 - Team_loss: 0.0596 - Product_Differentiator__loss: 0.1131 - Identification_of_the_problem_plus_Understanding_gravity_of_problem__accuracy: 0.9750 - Sizing_of_the_problem_accuracy: 0.9750 - Clarity_on_product_idea__who_they_are__accuracy: 1.0000 - Understanding_of_competitors_and_landscape__accuracy: 1.0000 - GTM_Strategy_how_will_they_reach_out_to_consumers_accuracy: 0.9500 - Business_Model_how_will_they_earn_money_accuracy: 0.9750 - Team_accuracy: 0.9750 - Product_Differentiator__accuracy: 0.9500\n",
      "Epoch 98/250\n",
      "4/4 [==============================] - 0s 36ms/step - loss: 0.4014 - Identification_of_the_problem_plus_Understanding_gravity_of_problem__loss: 0.0281 - Sizing_of_the_problem_loss: 0.0411 - Clarity_on_product_idea__who_they_are__loss: 0.0619 - Understanding_of_competitors_and_landscape__loss: 0.0382 - GTM_Strategy_how_will_they_reach_out_to_consumers_loss: 0.0476 - Business_Model_how_will_they_earn_money_loss: 0.0640 - Team_loss: 0.0379 - Product_Differentiator__loss: 0.0826 - Identification_of_the_problem_plus_Understanding_gravity_of_problem__accuracy: 1.0000 - Sizing_of_the_problem_accuracy: 1.0000 - Clarity_on_product_idea__who_they_are__accuracy: 1.0000 - Understanding_of_competitors_and_landscape__accuracy: 1.0000 - GTM_Strategy_how_will_they_reach_out_to_consumers_accuracy: 1.0000 - Business_Model_how_will_they_earn_money_accuracy: 1.0000 - Team_accuracy: 1.0000 - Product_Differentiator__accuracy: 0.9750\n",
      "Epoch 99/250\n",
      "4/4 [==============================] - 0s 21ms/step - loss: 0.5285 - Identification_of_the_problem_plus_Understanding_gravity_of_problem__loss: 0.0331 - Sizing_of_the_problem_loss: 0.0584 - Clarity_on_product_idea__who_they_are__loss: 0.0539 - Understanding_of_competitors_and_landscape__loss: 0.0327 - GTM_Strategy_how_will_they_reach_out_to_consumers_loss: 0.0356 - Business_Model_how_will_they_earn_money_loss: 0.1140 - Team_loss: 0.0858 - Product_Differentiator__loss: 0.1150 - Identification_of_the_problem_plus_Understanding_gravity_of_problem__accuracy: 1.0000 - Sizing_of_the_problem_accuracy: 0.9750 - Clarity_on_product_idea__who_they_are__accuracy: 0.9750 - Understanding_of_competitors_and_landscape__accuracy: 1.0000 - GTM_Strategy_how_will_they_reach_out_to_consumers_accuracy: 1.0000 - Business_Model_how_will_they_earn_money_accuracy: 0.9500 - Team_accuracy: 0.9750 - Product_Differentiator__accuracy: 0.9500\n",
      "Epoch 100/250\n",
      "4/4 [==============================] - 0s 30ms/step - loss: 0.5241 - Identification_of_the_problem_plus_Understanding_gravity_of_problem__loss: 0.0884 - Sizing_of_the_problem_loss: 0.0819 - Clarity_on_product_idea__who_they_are__loss: 0.0682 - Understanding_of_competitors_and_landscape__loss: 0.0444 - GTM_Strategy_how_will_they_reach_out_to_consumers_loss: 0.0450 - Business_Model_how_will_they_earn_money_loss: 0.0625 - Team_loss: 0.0607 - Product_Differentiator__loss: 0.0730 - Identification_of_the_problem_plus_Understanding_gravity_of_problem__accuracy: 0.9750 - Sizing_of_the_problem_accuracy: 0.9750 - Clarity_on_product_idea__who_they_are__accuracy: 0.9750 - Understanding_of_competitors_and_landscape__accuracy: 1.0000 - GTM_Strategy_how_will_they_reach_out_to_consumers_accuracy: 1.0000 - Business_Model_how_will_they_earn_money_accuracy: 1.0000 - Team_accuracy: 1.0000 - Product_Differentiator__accuracy: 1.0000\n",
      "Epoch 101/250\n",
      "4/4 [==============================] - 0s 39ms/step - loss: 0.4587 - Identification_of_the_problem_plus_Understanding_gravity_of_problem__loss: 0.0335 - Sizing_of_the_problem_loss: 0.0538 - Clarity_on_product_idea__who_they_are__loss: 0.0605 - Understanding_of_competitors_and_landscape__loss: 0.0457 - GTM_Strategy_how_will_they_reach_out_to_consumers_loss: 0.0794 - Business_Model_how_will_they_earn_money_loss: 0.0514 - Team_loss: 0.0864 - Product_Differentiator__loss: 0.0479 - Identification_of_the_problem_plus_Understanding_gravity_of_problem__accuracy: 1.0000 - Sizing_of_the_problem_accuracy: 1.0000 - Clarity_on_product_idea__who_they_are__accuracy: 0.9750 - Understanding_of_competitors_and_landscape__accuracy: 1.0000 - GTM_Strategy_how_will_they_reach_out_to_consumers_accuracy: 1.0000 - Business_Model_how_will_they_earn_money_accuracy: 1.0000 - Team_accuracy: 0.9750 - Product_Differentiator__accuracy: 1.0000\n",
      "Epoch 102/250\n",
      "4/4 [==============================] - 0s 20ms/step - loss: 0.5404 - Identification_of_the_problem_plus_Understanding_gravity_of_problem__loss: 0.0984 - Sizing_of_the_problem_loss: 0.0734 - Clarity_on_product_idea__who_they_are__loss: 0.0671 - Understanding_of_competitors_and_landscape__loss: 0.0282 - GTM_Strategy_how_will_they_reach_out_to_consumers_loss: 0.1201 - Business_Model_how_will_they_earn_money_loss: 0.0315 - Team_loss: 0.0362 - Product_Differentiator__loss: 0.0855 - Identification_of_the_problem_plus_Understanding_gravity_of_problem__accuracy: 0.9500 - Sizing_of_the_problem_accuracy: 0.9750 - Clarity_on_product_idea__who_they_are__accuracy: 1.0000 - Understanding_of_competitors_and_landscape__accuracy: 1.0000 - GTM_Strategy_how_will_they_reach_out_to_consumers_accuracy: 0.9500 - Business_Model_how_will_they_earn_money_accuracy: 1.0000 - Team_accuracy: 1.0000 - Product_Differentiator__accuracy: 1.0000\n",
      "Epoch 103/250\n",
      "4/4 [==============================] - 0s 57ms/step - loss: 0.5679 - Identification_of_the_problem_plus_Understanding_gravity_of_problem__loss: 0.0756 - Sizing_of_the_problem_loss: 0.0671 - Clarity_on_product_idea__who_they_are__loss: 0.0709 - Understanding_of_competitors_and_landscape__loss: 0.0659 - GTM_Strategy_how_will_they_reach_out_to_consumers_loss: 0.0875 - Business_Model_how_will_they_earn_money_loss: 0.0437 - Team_loss: 0.0623 - Product_Differentiator__loss: 0.0949 - Identification_of_the_problem_plus_Understanding_gravity_of_problem__accuracy: 1.0000 - Sizing_of_the_problem_accuracy: 1.0000 - Clarity_on_product_idea__who_they_are__accuracy: 0.9750 - Understanding_of_competitors_and_landscape__accuracy: 1.0000 - GTM_Strategy_how_will_they_reach_out_to_consumers_accuracy: 0.9750 - Business_Model_how_will_they_earn_money_accuracy: 1.0000 - Team_accuracy: 1.0000 - Product_Differentiator__accuracy: 0.9750\n",
      "Epoch 104/250\n",
      "4/4 [==============================] - 0s 20ms/step - loss: 0.5093 - Identification_of_the_problem_plus_Understanding_gravity_of_problem__loss: 0.0706 - Sizing_of_the_problem_loss: 0.0392 - Clarity_on_product_idea__who_they_are__loss: 0.0404 - Understanding_of_competitors_and_landscape__loss: 0.0402 - GTM_Strategy_how_will_they_reach_out_to_consumers_loss: 0.1433 - Business_Model_how_will_they_earn_money_loss: 0.0605 - Team_loss: 0.0445 - Product_Differentiator__loss: 0.0708 - Identification_of_the_problem_plus_Understanding_gravity_of_problem__accuracy: 0.9750 - Sizing_of_the_problem_accuracy: 1.0000 - Clarity_on_product_idea__who_they_are__accuracy: 1.0000 - Understanding_of_competitors_and_landscape__accuracy: 1.0000 - GTM_Strategy_how_will_they_reach_out_to_consumers_accuracy: 0.9750 - Business_Model_how_will_they_earn_money_accuracy: 1.0000 - Team_accuracy: 1.0000 - Product_Differentiator__accuracy: 1.0000\n",
      "Epoch 105/250\n",
      "4/4 [==============================] - 0s 37ms/step - loss: 0.4662 - Identification_of_the_problem_plus_Understanding_gravity_of_problem__loss: 0.0253 - Sizing_of_the_problem_loss: 0.0404 - Clarity_on_product_idea__who_they_are__loss: 0.0651 - Understanding_of_competitors_and_landscape__loss: 0.0270 - GTM_Strategy_how_will_they_reach_out_to_consumers_loss: 0.0472 - Business_Model_how_will_they_earn_money_loss: 0.0603 - Team_loss: 0.1534 - Product_Differentiator__loss: 0.0474 - Identification_of_the_problem_plus_Understanding_gravity_of_problem__accuracy: 1.0000 - Sizing_of_the_problem_accuracy: 1.0000 - Clarity_on_product_idea__who_they_are__accuracy: 1.0000 - Understanding_of_competitors_and_landscape__accuracy: 1.0000 - GTM_Strategy_how_will_they_reach_out_to_consumers_accuracy: 1.0000 - Business_Model_how_will_they_earn_money_accuracy: 0.9750 - Team_accuracy: 0.9750 - Product_Differentiator__accuracy: 1.0000\n",
      "Epoch 106/250\n",
      "4/4 [==============================] - 0s 32ms/step - loss: 0.5242 - Identification_of_the_problem_plus_Understanding_gravity_of_problem__loss: 0.0441 - Sizing_of_the_problem_loss: 0.0644 - Clarity_on_product_idea__who_they_are__loss: 0.0399 - Understanding_of_competitors_and_landscape__loss: 0.0345 - GTM_Strategy_how_will_they_reach_out_to_consumers_loss: 0.0532 - Business_Model_how_will_they_earn_money_loss: 0.0966 - Team_loss: 0.0466 - Product_Differentiator__loss: 0.1450 - Identification_of_the_problem_plus_Understanding_gravity_of_problem__accuracy: 0.9750 - Sizing_of_the_problem_accuracy: 1.0000 - Clarity_on_product_idea__who_they_are__accuracy: 0.9750 - Understanding_of_competitors_and_landscape__accuracy: 1.0000 - GTM_Strategy_how_will_they_reach_out_to_consumers_accuracy: 1.0000 - Business_Model_how_will_they_earn_money_accuracy: 0.9500 - Team_accuracy: 1.0000 - Product_Differentiator__accuracy: 0.9500\n",
      "Epoch 107/250\n",
      "4/4 [==============================] - 0s 30ms/step - loss: 0.3810 - Identification_of_the_problem_plus_Understanding_gravity_of_problem__loss: 0.0339 - Sizing_of_the_problem_loss: 0.0503 - Clarity_on_product_idea__who_they_are__loss: 0.0255 - Understanding_of_competitors_and_landscape__loss: 0.0447 - GTM_Strategy_how_will_they_reach_out_to_consumers_loss: 0.0685 - Business_Model_how_will_they_earn_money_loss: 0.0390 - Team_loss: 0.0647 - Product_Differentiator__loss: 0.0543 - Identification_of_the_problem_plus_Understanding_gravity_of_problem__accuracy: 1.0000 - Sizing_of_the_problem_accuracy: 1.0000 - Clarity_on_product_idea__who_they_are__accuracy: 1.0000 - Understanding_of_competitors_and_landscape__accuracy: 0.9750 - GTM_Strategy_how_will_they_reach_out_to_consumers_accuracy: 1.0000 - Business_Model_how_will_they_earn_money_accuracy: 1.0000 - Team_accuracy: 1.0000 - Product_Differentiator__accuracy: 0.9750\n",
      "Epoch 108/250\n",
      "4/4 [==============================] - 0s 25ms/step - loss: 0.3814 - Identification_of_the_problem_plus_Understanding_gravity_of_problem__loss: 0.0419 - Sizing_of_the_problem_loss: 0.0299 - Clarity_on_product_idea__who_they_are__loss: 0.0717 - Understanding_of_competitors_and_landscape__loss: 0.0347 - GTM_Strategy_how_will_they_reach_out_to_consumers_loss: 0.0323 - Business_Model_how_will_they_earn_money_loss: 0.0592 - Team_loss: 0.0480 - Product_Differentiator__loss: 0.0637 - Identification_of_the_problem_plus_Understanding_gravity_of_problem__accuracy: 1.0000 - Sizing_of_the_problem_accuracy: 1.0000 - Clarity_on_product_idea__who_they_are__accuracy: 0.9500 - Understanding_of_competitors_and_landscape__accuracy: 1.0000 - GTM_Strategy_how_will_they_reach_out_to_consumers_accuracy: 1.0000 - Business_Model_how_will_they_earn_money_accuracy: 1.0000 - Team_accuracy: 1.0000 - Product_Differentiator__accuracy: 1.0000\n",
      "Epoch 109/250\n",
      "4/4 [==============================] - 0s 36ms/step - loss: 0.3570 - Identification_of_the_problem_plus_Understanding_gravity_of_problem__loss: 0.0723 - Sizing_of_the_problem_loss: 0.0216 - Clarity_on_product_idea__who_they_are__loss: 0.0302 - Understanding_of_competitors_and_landscape__loss: 0.0434 - GTM_Strategy_how_will_they_reach_out_to_consumers_loss: 0.0380 - Business_Model_how_will_they_earn_money_loss: 0.0374 - Team_loss: 0.0488 - Product_Differentiator__loss: 0.0653 - Identification_of_the_problem_plus_Understanding_gravity_of_problem__accuracy: 0.9750 - Sizing_of_the_problem_accuracy: 1.0000 - Clarity_on_product_idea__who_they_are__accuracy: 1.0000 - Understanding_of_competitors_and_landscape__accuracy: 1.0000 - GTM_Strategy_how_will_they_reach_out_to_consumers_accuracy: 1.0000 - Business_Model_how_will_they_earn_money_accuracy: 1.0000 - Team_accuracy: 0.9750 - Product_Differentiator__accuracy: 1.0000\n",
      "Epoch 110/250\n",
      "4/4 [==============================] - 0s 44ms/step - loss: 0.5926 - Identification_of_the_problem_plus_Understanding_gravity_of_problem__loss: 0.0274 - Sizing_of_the_problem_loss: 0.0645 - Clarity_on_product_idea__who_they_are__loss: 0.0747 - Understanding_of_competitors_and_landscape__loss: 0.1110 - GTM_Strategy_how_will_they_reach_out_to_consumers_loss: 0.0548 - Business_Model_how_will_they_earn_money_loss: 0.0743 - Team_loss: 0.0520 - Product_Differentiator__loss: 0.1339 - Identification_of_the_problem_plus_Understanding_gravity_of_problem__accuracy: 1.0000 - Sizing_of_the_problem_accuracy: 1.0000 - Clarity_on_product_idea__who_they_are__accuracy: 0.9750 - Understanding_of_competitors_and_landscape__accuracy: 0.9500 - GTM_Strategy_how_will_they_reach_out_to_consumers_accuracy: 1.0000 - Business_Model_how_will_they_earn_money_accuracy: 0.9750 - Team_accuracy: 1.0000 - Product_Differentiator__accuracy: 0.9750\n",
      "Epoch 111/250\n",
      "4/4 [==============================] - 0s 21ms/step - loss: 0.3402 - Identification_of_the_problem_plus_Understanding_gravity_of_problem__loss: 0.0294 - Sizing_of_the_problem_loss: 0.0196 - Clarity_on_product_idea__who_they_are__loss: 0.0379 - Understanding_of_competitors_and_landscape__loss: 0.0437 - GTM_Strategy_how_will_they_reach_out_to_consumers_loss: 0.0858 - Business_Model_how_will_they_earn_money_loss: 0.0226 - Team_loss: 0.0421 - Product_Differentiator__loss: 0.0591 - Identification_of_the_problem_plus_Understanding_gravity_of_problem__accuracy: 1.0000 - Sizing_of_the_problem_accuracy: 1.0000 - Clarity_on_product_idea__who_they_are__accuracy: 1.0000 - Understanding_of_competitors_and_landscape__accuracy: 1.0000 - GTM_Strategy_how_will_they_reach_out_to_consumers_accuracy: 0.9750 - Business_Model_how_will_they_earn_money_accuracy: 1.0000 - Team_accuracy: 0.9750 - Product_Differentiator__accuracy: 0.9750\n",
      "Epoch 112/250\n",
      "4/4 [==============================] - 0s 36ms/step - loss: 0.3499 - Identification_of_the_problem_plus_Understanding_gravity_of_problem__loss: 0.0315 - Sizing_of_the_problem_loss: 0.0339 - Clarity_on_product_idea__who_they_are__loss: 0.0300 - Understanding_of_competitors_and_landscape__loss: 0.0411 - GTM_Strategy_how_will_they_reach_out_to_consumers_loss: 0.0689 - Business_Model_how_will_they_earn_money_loss: 0.0341 - Team_loss: 0.0369 - Product_Differentiator__loss: 0.0734 - Identification_of_the_problem_plus_Understanding_gravity_of_problem__accuracy: 1.0000 - Sizing_of_the_problem_accuracy: 1.0000 - Clarity_on_product_idea__who_they_are__accuracy: 1.0000 - Understanding_of_competitors_and_landscape__accuracy: 1.0000 - GTM_Strategy_how_will_they_reach_out_to_consumers_accuracy: 1.0000 - Business_Model_how_will_they_earn_money_accuracy: 1.0000 - Team_accuracy: 1.0000 - Product_Differentiator__accuracy: 1.0000\n",
      "Epoch 113/250\n",
      "4/4 [==============================] - 0s 36ms/step - loss: 0.3800 - Identification_of_the_problem_plus_Understanding_gravity_of_problem__loss: 0.0398 - Sizing_of_the_problem_loss: 0.0238 - Clarity_on_product_idea__who_they_are__loss: 0.0674 - Understanding_of_competitors_and_landscape__loss: 0.0389 - GTM_Strategy_how_will_they_reach_out_to_consumers_loss: 0.0395 - Business_Model_how_will_they_earn_money_loss: 0.0411 - Team_loss: 0.0870 - Product_Differentiator__loss: 0.0425 - Identification_of_the_problem_plus_Understanding_gravity_of_problem__accuracy: 1.0000 - Sizing_of_the_problem_accuracy: 1.0000 - Clarity_on_product_idea__who_they_are__accuracy: 0.9750 - Understanding_of_competitors_and_landscape__accuracy: 1.0000 - GTM_Strategy_how_will_they_reach_out_to_consumers_accuracy: 1.0000 - Business_Model_how_will_they_earn_money_accuracy: 1.0000 - Team_accuracy: 0.9500 - Product_Differentiator__accuracy: 1.0000\n",
      "Epoch 114/250\n",
      "4/4 [==============================] - 0s 45ms/step - loss: 0.3889 - Identification_of_the_problem_plus_Understanding_gravity_of_problem__loss: 0.0535 - Sizing_of_the_problem_loss: 0.0440 - Clarity_on_product_idea__who_they_are__loss: 0.0832 - Understanding_of_competitors_and_landscape__loss: 0.0549 - GTM_Strategy_how_will_they_reach_out_to_consumers_loss: 0.0453 - Business_Model_how_will_they_earn_money_loss: 0.0239 - Team_loss: 0.0343 - Product_Differentiator__loss: 0.0499 - Identification_of_the_problem_plus_Understanding_gravity_of_problem__accuracy: 0.9750 - Sizing_of_the_problem_accuracy: 1.0000 - Clarity_on_product_idea__who_they_are__accuracy: 0.9750 - Understanding_of_competitors_and_landscape__accuracy: 0.9750 - GTM_Strategy_how_will_they_reach_out_to_consumers_accuracy: 1.0000 - Business_Model_how_will_they_earn_money_accuracy: 1.0000 - Team_accuracy: 1.0000 - Product_Differentiator__accuracy: 1.0000\n",
      "Epoch 115/250\n",
      "4/4 [==============================] - 0s 20ms/step - loss: 0.4119 - Identification_of_the_problem_plus_Understanding_gravity_of_problem__loss: 0.0398 - Sizing_of_the_problem_loss: 0.0494 - Clarity_on_product_idea__who_they_are__loss: 0.0337 - Understanding_of_competitors_and_landscape__loss: 0.0365 - GTM_Strategy_how_will_they_reach_out_to_consumers_loss: 0.0661 - Business_Model_how_will_they_earn_money_loss: 0.0854 - Team_loss: 0.0375 - Product_Differentiator__loss: 0.0634 - Identification_of_the_problem_plus_Understanding_gravity_of_problem__accuracy: 1.0000 - Sizing_of_the_problem_accuracy: 0.9750 - Clarity_on_product_idea__who_they_are__accuracy: 1.0000 - Understanding_of_competitors_and_landscape__accuracy: 1.0000 - GTM_Strategy_how_will_they_reach_out_to_consumers_accuracy: 1.0000 - Business_Model_how_will_they_earn_money_accuracy: 0.9250 - Team_accuracy: 1.0000 - Product_Differentiator__accuracy: 1.0000\n",
      "Epoch 116/250\n",
      "4/4 [==============================] - 0s 30ms/step - loss: 0.3942 - Identification_of_the_problem_plus_Understanding_gravity_of_problem__loss: 0.0187 - Sizing_of_the_problem_loss: 0.0699 - Clarity_on_product_idea__who_they_are__loss: 0.0454 - Understanding_of_competitors_and_landscape__loss: 0.0282 - GTM_Strategy_how_will_they_reach_out_to_consumers_loss: 0.0308 - Business_Model_how_will_they_earn_money_loss: 0.0595 - Team_loss: 0.0730 - Product_Differentiator__loss: 0.0687 - Identification_of_the_problem_plus_Understanding_gravity_of_problem__accuracy: 1.0000 - Sizing_of_the_problem_accuracy: 0.9750 - Clarity_on_product_idea__who_they_are__accuracy: 1.0000 - Understanding_of_competitors_and_landscape__accuracy: 1.0000 - GTM_Strategy_how_will_they_reach_out_to_consumers_accuracy: 1.0000 - Business_Model_how_will_they_earn_money_accuracy: 0.9750 - Team_accuracy: 0.9500 - Product_Differentiator__accuracy: 0.9500\n",
      "Epoch 117/250\n",
      "4/4 [==============================] - 0s 27ms/step - loss: 0.3088 - Identification_of_the_problem_plus_Understanding_gravity_of_problem__loss: 0.0182 - Sizing_of_the_problem_loss: 0.0140 - Clarity_on_product_idea__who_they_are__loss: 0.0404 - Understanding_of_competitors_and_landscape__loss: 0.0200 - GTM_Strategy_how_will_they_reach_out_to_consumers_loss: 0.1007 - Business_Model_how_will_they_earn_money_loss: 0.0391 - Team_loss: 0.0463 - Product_Differentiator__loss: 0.0302 - Identification_of_the_problem_plus_Understanding_gravity_of_problem__accuracy: 1.0000 - Sizing_of_the_problem_accuracy: 1.0000 - Clarity_on_product_idea__who_they_are__accuracy: 1.0000 - Understanding_of_competitors_and_landscape__accuracy: 1.0000 - GTM_Strategy_how_will_they_reach_out_to_consumers_accuracy: 0.9750 - Business_Model_how_will_they_earn_money_accuracy: 1.0000 - Team_accuracy: 1.0000 - Product_Differentiator__accuracy: 1.0000\n",
      "Epoch 118/250\n",
      "4/4 [==============================] - 0s 21ms/step - loss: 0.3195 - Identification_of_the_problem_plus_Understanding_gravity_of_problem__loss: 0.0328 - Sizing_of_the_problem_loss: 0.0232 - Clarity_on_product_idea__who_they_are__loss: 0.0242 - Understanding_of_competitors_and_landscape__loss: 0.0287 - GTM_Strategy_how_will_they_reach_out_to_consumers_loss: 0.0560 - Business_Model_how_will_they_earn_money_loss: 0.0405 - Team_loss: 0.0467 - Product_Differentiator__loss: 0.0674 - Identification_of_the_problem_plus_Understanding_gravity_of_problem__accuracy: 1.0000 - Sizing_of_the_problem_accuracy: 1.0000 - Clarity_on_product_idea__who_they_are__accuracy: 1.0000 - Understanding_of_competitors_and_landscape__accuracy: 1.0000 - GTM_Strategy_how_will_they_reach_out_to_consumers_accuracy: 0.9750 - Business_Model_how_will_they_earn_money_accuracy: 1.0000 - Team_accuracy: 1.0000 - Product_Differentiator__accuracy: 1.0000\n",
      "Epoch 119/250\n",
      "4/4 [==============================] - 0s 36ms/step - loss: 0.3035 - Identification_of_the_problem_plus_Understanding_gravity_of_problem__loss: 0.0155 - Sizing_of_the_problem_loss: 0.0181 - Clarity_on_product_idea__who_they_are__loss: 0.0376 - Understanding_of_competitors_and_landscape__loss: 0.0164 - GTM_Strategy_how_will_they_reach_out_to_consumers_loss: 0.0488 - Business_Model_how_will_they_earn_money_loss: 0.0469 - Team_loss: 0.0512 - Product_Differentiator__loss: 0.0692 - Identification_of_the_problem_plus_Understanding_gravity_of_problem__accuracy: 1.0000 - Sizing_of_the_problem_accuracy: 1.0000 - Clarity_on_product_idea__who_they_are__accuracy: 1.0000 - Understanding_of_competitors_and_landscape__accuracy: 1.0000 - GTM_Strategy_how_will_they_reach_out_to_consumers_accuracy: 1.0000 - Business_Model_how_will_they_earn_money_accuracy: 1.0000 - Team_accuracy: 1.0000 - Product_Differentiator__accuracy: 1.0000\n",
      "Epoch 120/250\n",
      "4/4 [==============================] - 0s 31ms/step - loss: 0.4377 - Identification_of_the_problem_plus_Understanding_gravity_of_problem__loss: 0.0172 - Sizing_of_the_problem_loss: 0.0506 - Clarity_on_product_idea__who_they_are__loss: 0.0222 - Understanding_of_competitors_and_landscape__loss: 0.0798 - GTM_Strategy_how_will_they_reach_out_to_consumers_loss: 0.1196 - Business_Model_how_will_they_earn_money_loss: 0.0377 - Team_loss: 0.0676 - Product_Differentiator__loss: 0.0429 - Identification_of_the_problem_plus_Understanding_gravity_of_problem__accuracy: 1.0000 - Sizing_of_the_problem_accuracy: 0.9750 - Clarity_on_product_idea__who_they_are__accuracy: 1.0000 - Understanding_of_competitors_and_landscape__accuracy: 0.9750 - GTM_Strategy_how_will_they_reach_out_to_consumers_accuracy: 0.9750 - Business_Model_how_will_they_earn_money_accuracy: 1.0000 - Team_accuracy: 0.9750 - Product_Differentiator__accuracy: 1.0000\n",
      "Epoch 121/250\n",
      "4/4 [==============================] - 0s 28ms/step - loss: 0.3156 - Identification_of_the_problem_plus_Understanding_gravity_of_problem__loss: 0.0202 - Sizing_of_the_problem_loss: 0.0218 - Clarity_on_product_idea__who_they_are__loss: 0.0712 - Understanding_of_competitors_and_landscape__loss: 0.0293 - GTM_Strategy_how_will_they_reach_out_to_consumers_loss: 0.0342 - Business_Model_how_will_they_earn_money_loss: 0.0559 - Team_loss: 0.0496 - Product_Differentiator__loss: 0.0334 - Identification_of_the_problem_plus_Understanding_gravity_of_problem__accuracy: 1.0000 - Sizing_of_the_problem_accuracy: 1.0000 - Clarity_on_product_idea__who_they_are__accuracy: 0.9750 - Understanding_of_competitors_and_landscape__accuracy: 1.0000 - GTM_Strategy_how_will_they_reach_out_to_consumers_accuracy: 1.0000 - Business_Model_how_will_they_earn_money_accuracy: 0.9750 - Team_accuracy: 0.9750 - Product_Differentiator__accuracy: 1.0000\n",
      "Epoch 122/250\n",
      "4/4 [==============================] - 0s 35ms/step - loss: 0.2811 - Identification_of_the_problem_plus_Understanding_gravity_of_problem__loss: 0.0270 - Sizing_of_the_problem_loss: 0.0286 - Clarity_on_product_idea__who_they_are__loss: 0.0361 - Understanding_of_competitors_and_landscape__loss: 0.0238 - GTM_Strategy_how_will_they_reach_out_to_consumers_loss: 0.0319 - Business_Model_how_will_they_earn_money_loss: 0.0353 - Team_loss: 0.0585 - Product_Differentiator__loss: 0.0399 - Identification_of_the_problem_plus_Understanding_gravity_of_problem__accuracy: 1.0000 - Sizing_of_the_problem_accuracy: 1.0000 - Clarity_on_product_idea__who_they_are__accuracy: 1.0000 - Understanding_of_competitors_and_landscape__accuracy: 1.0000 - GTM_Strategy_how_will_they_reach_out_to_consumers_accuracy: 1.0000 - Business_Model_how_will_they_earn_money_accuracy: 1.0000 - Team_accuracy: 1.0000 - Product_Differentiator__accuracy: 1.0000\n",
      "Epoch 123/250\n",
      "4/4 [==============================] - 0s 30ms/step - loss: 0.3233 - Identification_of_the_problem_plus_Understanding_gravity_of_problem__loss: 0.0369 - Sizing_of_the_problem_loss: 0.0333 - Clarity_on_product_idea__who_they_are__loss: 0.0447 - Understanding_of_competitors_and_landscape__loss: 0.0543 - GTM_Strategy_how_will_they_reach_out_to_consumers_loss: 0.0484 - Business_Model_how_will_they_earn_money_loss: 0.0328 - Team_loss: 0.0349 - Product_Differentiator__loss: 0.0381 - Identification_of_the_problem_plus_Understanding_gravity_of_problem__accuracy: 1.0000 - Sizing_of_the_problem_accuracy: 1.0000 - Clarity_on_product_idea__who_they_are__accuracy: 1.0000 - Understanding_of_competitors_and_landscape__accuracy: 0.9750 - GTM_Strategy_how_will_they_reach_out_to_consumers_accuracy: 1.0000 - Business_Model_how_will_they_earn_money_accuracy: 1.0000 - Team_accuracy: 1.0000 - Product_Differentiator__accuracy: 1.0000\n",
      "Epoch 124/250\n",
      "4/4 [==============================] - 0s 36ms/step - loss: 0.3558 - Identification_of_the_problem_plus_Understanding_gravity_of_problem__loss: 0.0367 - Sizing_of_the_problem_loss: 0.0410 - Clarity_on_product_idea__who_they_are__loss: 0.0626 - Understanding_of_competitors_and_landscape__loss: 0.0295 - GTM_Strategy_how_will_they_reach_out_to_consumers_loss: 0.0491 - Business_Model_how_will_they_earn_money_loss: 0.0380 - Team_loss: 0.0401 - Product_Differentiator__loss: 0.0589 - Identification_of_the_problem_plus_Understanding_gravity_of_problem__accuracy: 1.0000 - Sizing_of_the_problem_accuracy: 1.0000 - Clarity_on_product_idea__who_they_are__accuracy: 1.0000 - Understanding_of_competitors_and_landscape__accuracy: 1.0000 - GTM_Strategy_how_will_they_reach_out_to_consumers_accuracy: 1.0000 - Business_Model_how_will_they_earn_money_accuracy: 1.0000 - Team_accuracy: 1.0000 - Product_Differentiator__accuracy: 0.9750\n",
      "Epoch 125/250\n",
      "4/4 [==============================] - 0s 38ms/step - loss: 0.3027 - Identification_of_the_problem_plus_Understanding_gravity_of_problem__loss: 0.0281 - Sizing_of_the_problem_loss: 0.0373 - Clarity_on_product_idea__who_they_are__loss: 0.0175 - Understanding_of_competitors_and_landscape__loss: 0.0166 - GTM_Strategy_how_will_they_reach_out_to_consumers_loss: 0.0891 - Business_Model_how_will_they_earn_money_loss: 0.0256 - Team_loss: 0.0370 - Product_Differentiator__loss: 0.0514 - Identification_of_the_problem_plus_Understanding_gravity_of_problem__accuracy: 1.0000 - Sizing_of_the_problem_accuracy: 1.0000 - Clarity_on_product_idea__who_they_are__accuracy: 1.0000 - Understanding_of_competitors_and_landscape__accuracy: 1.0000 - GTM_Strategy_how_will_they_reach_out_to_consumers_accuracy: 0.9500 - Business_Model_how_will_they_earn_money_accuracy: 1.0000 - Team_accuracy: 1.0000 - Product_Differentiator__accuracy: 1.0000\n",
      "Epoch 126/250\n",
      "4/4 [==============================] - 0s 18ms/step - loss: 0.2491 - Identification_of_the_problem_plus_Understanding_gravity_of_problem__loss: 0.0350 - Sizing_of_the_problem_loss: 0.0227 - Clarity_on_product_idea__who_they_are__loss: 0.0288 - Understanding_of_competitors_and_landscape__loss: 0.0255 - GTM_Strategy_how_will_they_reach_out_to_consumers_loss: 0.0343 - Business_Model_how_will_they_earn_money_loss: 0.0406 - Team_loss: 0.0242 - Product_Differentiator__loss: 0.0379 - Identification_of_the_problem_plus_Understanding_gravity_of_problem__accuracy: 0.9750 - Sizing_of_the_problem_accuracy: 1.0000 - Clarity_on_product_idea__who_they_are__accuracy: 1.0000 - Understanding_of_competitors_and_landscape__accuracy: 1.0000 - GTM_Strategy_how_will_they_reach_out_to_consumers_accuracy: 1.0000 - Business_Model_how_will_they_earn_money_accuracy: 1.0000 - Team_accuracy: 1.0000 - Product_Differentiator__accuracy: 1.0000\n",
      "Epoch 127/250\n",
      "4/4 [==============================] - 0s 20ms/step - loss: 0.4395 - Identification_of_the_problem_plus_Understanding_gravity_of_problem__loss: 0.0871 - Sizing_of_the_problem_loss: 0.0570 - Clarity_on_product_idea__who_they_are__loss: 0.1084 - Understanding_of_competitors_and_landscape__loss: 0.0274 - GTM_Strategy_how_will_they_reach_out_to_consumers_loss: 0.0715 - Business_Model_how_will_they_earn_money_loss: 0.0309 - Team_loss: 0.0313 - Product_Differentiator__loss: 0.0260 - Identification_of_the_problem_plus_Understanding_gravity_of_problem__accuracy: 0.9750 - Sizing_of_the_problem_accuracy: 0.9750 - Clarity_on_product_idea__who_they_are__accuracy: 0.9750 - Understanding_of_competitors_and_landscape__accuracy: 1.0000 - GTM_Strategy_how_will_they_reach_out_to_consumers_accuracy: 1.0000 - Business_Model_how_will_they_earn_money_accuracy: 1.0000 - Team_accuracy: 1.0000 - Product_Differentiator__accuracy: 1.0000\n",
      "Epoch 128/250\n",
      "4/4 [==============================] - 0s 20ms/step - loss: 0.2459 - Identification_of_the_problem_plus_Understanding_gravity_of_problem__loss: 0.0284 - Sizing_of_the_problem_loss: 0.0323 - Clarity_on_product_idea__who_they_are__loss: 0.0109 - Understanding_of_competitors_and_landscape__loss: 0.0218 - GTM_Strategy_how_will_they_reach_out_to_consumers_loss: 0.0307 - Business_Model_how_will_they_earn_money_loss: 0.0761 - Team_loss: 0.0133 - Product_Differentiator__loss: 0.0324 - Identification_of_the_problem_plus_Understanding_gravity_of_problem__accuracy: 1.0000 - Sizing_of_the_problem_accuracy: 1.0000 - Clarity_on_product_idea__who_they_are__accuracy: 1.0000 - Understanding_of_competitors_and_landscape__accuracy: 1.0000 - GTM_Strategy_how_will_they_reach_out_to_consumers_accuracy: 1.0000 - Business_Model_how_will_they_earn_money_accuracy: 0.9500 - Team_accuracy: 1.0000 - Product_Differentiator__accuracy: 1.0000\n",
      "Epoch 129/250\n",
      "4/4 [==============================] - 0s 15ms/step - loss: 0.4027 - Identification_of_the_problem_plus_Understanding_gravity_of_problem__loss: 0.0442 - Sizing_of_the_problem_loss: 0.0222 - Clarity_on_product_idea__who_they_are__loss: 0.0262 - Understanding_of_competitors_and_landscape__loss: 0.0684 - GTM_Strategy_how_will_they_reach_out_to_consumers_loss: 0.0474 - Business_Model_how_will_they_earn_money_loss: 0.0699 - Team_loss: 0.0820 - Product_Differentiator__loss: 0.0423 - Identification_of_the_problem_plus_Understanding_gravity_of_problem__accuracy: 1.0000 - Sizing_of_the_problem_accuracy: 1.0000 - Clarity_on_product_idea__who_they_are__accuracy: 1.0000 - Understanding_of_competitors_and_landscape__accuracy: 0.9750 - GTM_Strategy_how_will_they_reach_out_to_consumers_accuracy: 0.9750 - Business_Model_how_will_they_earn_money_accuracy: 0.9750 - Team_accuracy: 0.9500 - Product_Differentiator__accuracy: 0.9750\n",
      "Epoch 130/250\n",
      "4/4 [==============================] - 0s 19ms/step - loss: 0.3716 - Identification_of_the_problem_plus_Understanding_gravity_of_problem__loss: 0.0172 - Sizing_of_the_problem_loss: 0.0199 - Clarity_on_product_idea__who_they_are__loss: 0.0538 - Understanding_of_competitors_and_landscape__loss: 0.0286 - GTM_Strategy_how_will_they_reach_out_to_consumers_loss: 0.0611 - Business_Model_how_will_they_earn_money_loss: 0.0429 - Team_loss: 0.0356 - Product_Differentiator__loss: 0.1127 - Identification_of_the_problem_plus_Understanding_gravity_of_problem__accuracy: 1.0000 - Sizing_of_the_problem_accuracy: 1.0000 - Clarity_on_product_idea__who_they_are__accuracy: 0.9750 - Understanding_of_competitors_and_landscape__accuracy: 1.0000 - GTM_Strategy_how_will_they_reach_out_to_consumers_accuracy: 0.9750 - Business_Model_how_will_they_earn_money_accuracy: 1.0000 - Team_accuracy: 1.0000 - Product_Differentiator__accuracy: 0.9500\n",
      "Epoch 131/250\n",
      "4/4 [==============================] - 0s 40ms/step - loss: 0.2862 - Identification_of_the_problem_plus_Understanding_gravity_of_problem__loss: 0.0314 - Sizing_of_the_problem_loss: 0.0271 - Clarity_on_product_idea__who_they_are__loss: 0.0245 - Understanding_of_competitors_and_landscape__loss: 0.0205 - GTM_Strategy_how_will_they_reach_out_to_consumers_loss: 0.0412 - Business_Model_how_will_they_earn_money_loss: 0.0691 - Team_loss: 0.0380 - Product_Differentiator__loss: 0.0344 - Identification_of_the_problem_plus_Understanding_gravity_of_problem__accuracy: 1.0000 - Sizing_of_the_problem_accuracy: 1.0000 - Clarity_on_product_idea__who_they_are__accuracy: 1.0000 - Understanding_of_competitors_and_landscape__accuracy: 1.0000 - GTM_Strategy_how_will_they_reach_out_to_consumers_accuracy: 0.9750 - Business_Model_how_will_they_earn_money_accuracy: 0.9750 - Team_accuracy: 1.0000 - Product_Differentiator__accuracy: 1.0000\n",
      "Epoch 132/250\n",
      "4/4 [==============================] - 0s 31ms/step - loss: 0.2960 - Identification_of_the_problem_plus_Understanding_gravity_of_problem__loss: 0.0251 - Sizing_of_the_problem_loss: 0.0611 - Clarity_on_product_idea__who_they_are__loss: 0.0409 - Understanding_of_competitors_and_landscape__loss: 0.0302 - GTM_Strategy_how_will_they_reach_out_to_consumers_loss: 0.0301 - Business_Model_how_will_they_earn_money_loss: 0.0312 - Team_loss: 0.0227 - Product_Differentiator__loss: 0.0547 - Identification_of_the_problem_plus_Understanding_gravity_of_problem__accuracy: 1.0000 - Sizing_of_the_problem_accuracy: 0.9750 - Clarity_on_product_idea__who_they_are__accuracy: 1.0000 - Understanding_of_competitors_and_landscape__accuracy: 1.0000 - GTM_Strategy_how_will_they_reach_out_to_consumers_accuracy: 1.0000 - Business_Model_how_will_they_earn_money_accuracy: 1.0000 - Team_accuracy: 1.0000 - Product_Differentiator__accuracy: 0.9750\n",
      "Epoch 133/250\n",
      "4/4 [==============================] - 0s 39ms/step - loss: 0.3096 - Identification_of_the_problem_plus_Understanding_gravity_of_problem__loss: 0.0152 - Sizing_of_the_problem_loss: 0.0203 - Clarity_on_product_idea__who_they_are__loss: 0.0436 - Understanding_of_competitors_and_landscape__loss: 0.0585 - GTM_Strategy_how_will_they_reach_out_to_consumers_loss: 0.0729 - Business_Model_how_will_they_earn_money_loss: 0.0316 - Team_loss: 0.0241 - Product_Differentiator__loss: 0.0436 - Identification_of_the_problem_plus_Understanding_gravity_of_problem__accuracy: 1.0000 - Sizing_of_the_problem_accuracy: 1.0000 - Clarity_on_product_idea__who_they_are__accuracy: 0.9750 - Understanding_of_competitors_and_landscape__accuracy: 0.9500 - GTM_Strategy_how_will_they_reach_out_to_consumers_accuracy: 0.9750 - Business_Model_how_will_they_earn_money_accuracy: 1.0000 - Team_accuracy: 1.0000 - Product_Differentiator__accuracy: 1.0000\n",
      "Epoch 134/250\n",
      "4/4 [==============================] - 0s 26ms/step - loss: 0.2968 - Identification_of_the_problem_plus_Understanding_gravity_of_problem__loss: 0.0328 - Sizing_of_the_problem_loss: 0.0362 - Clarity_on_product_idea__who_they_are__loss: 0.0183 - Understanding_of_competitors_and_landscape__loss: 0.0570 - GTM_Strategy_how_will_they_reach_out_to_consumers_loss: 0.0464 - Business_Model_how_will_they_earn_money_loss: 0.0332 - Team_loss: 0.0211 - Product_Differentiator__loss: 0.0517 - Identification_of_the_problem_plus_Understanding_gravity_of_problem__accuracy: 1.0000 - Sizing_of_the_problem_accuracy: 0.9750 - Clarity_on_product_idea__who_they_are__accuracy: 1.0000 - Understanding_of_competitors_and_landscape__accuracy: 1.0000 - GTM_Strategy_how_will_they_reach_out_to_consumers_accuracy: 1.0000 - Business_Model_how_will_they_earn_money_accuracy: 1.0000 - Team_accuracy: 1.0000 - Product_Differentiator__accuracy: 1.0000\n",
      "Epoch 135/250\n",
      "4/4 [==============================] - 0s 33ms/step - loss: 0.2156 - Identification_of_the_problem_plus_Understanding_gravity_of_problem__loss: 0.0141 - Sizing_of_the_problem_loss: 0.0304 - Clarity_on_product_idea__who_they_are__loss: 0.0161 - Understanding_of_competitors_and_landscape__loss: 0.0275 - GTM_Strategy_how_will_they_reach_out_to_consumers_loss: 0.0401 - Business_Model_how_will_they_earn_money_loss: 0.0176 - Team_loss: 0.0274 - Product_Differentiator__loss: 0.0426 - Identification_of_the_problem_plus_Understanding_gravity_of_problem__accuracy: 1.0000 - Sizing_of_the_problem_accuracy: 1.0000 - Clarity_on_product_idea__who_they_are__accuracy: 1.0000 - Understanding_of_competitors_and_landscape__accuracy: 1.0000 - GTM_Strategy_how_will_they_reach_out_to_consumers_accuracy: 1.0000 - Business_Model_how_will_they_earn_money_accuracy: 1.0000 - Team_accuracy: 1.0000 - Product_Differentiator__accuracy: 0.9750\n",
      "Epoch 136/250\n",
      "4/4 [==============================] - 0s 29ms/step - loss: 0.3446 - Identification_of_the_problem_plus_Understanding_gravity_of_problem__loss: 0.0412 - Sizing_of_the_problem_loss: 0.0402 - Clarity_on_product_idea__who_they_are__loss: 0.0303 - Understanding_of_competitors_and_landscape__loss: 0.0293 - GTM_Strategy_how_will_they_reach_out_to_consumers_loss: 0.0278 - Business_Model_how_will_they_earn_money_loss: 0.1013 - Team_loss: 0.0213 - Product_Differentiator__loss: 0.0530 - Identification_of_the_problem_plus_Understanding_gravity_of_problem__accuracy: 1.0000 - Sizing_of_the_problem_accuracy: 1.0000 - Clarity_on_product_idea__who_they_are__accuracy: 1.0000 - Understanding_of_competitors_and_landscape__accuracy: 1.0000 - GTM_Strategy_how_will_they_reach_out_to_consumers_accuracy: 1.0000 - Business_Model_how_will_they_earn_money_accuracy: 0.9500 - Team_accuracy: 1.0000 - Product_Differentiator__accuracy: 0.9750\n",
      "Epoch 137/250\n",
      "4/4 [==============================] - 0s 23ms/step - loss: 0.3624 - Identification_of_the_problem_plus_Understanding_gravity_of_problem__loss: 0.0120 - Sizing_of_the_problem_loss: 0.0330 - Clarity_on_product_idea__who_they_are__loss: 0.0159 - Understanding_of_competitors_and_landscape__loss: 0.0505 - GTM_Strategy_how_will_they_reach_out_to_consumers_loss: 0.0560 - Business_Model_how_will_they_earn_money_loss: 0.0266 - Team_loss: 0.1033 - Product_Differentiator__loss: 0.0651 - Identification_of_the_problem_plus_Understanding_gravity_of_problem__accuracy: 1.0000 - Sizing_of_the_problem_accuracy: 1.0000 - Clarity_on_product_idea__who_they_are__accuracy: 1.0000 - Understanding_of_competitors_and_landscape__accuracy: 0.9750 - GTM_Strategy_how_will_they_reach_out_to_consumers_accuracy: 0.9750 - Business_Model_how_will_they_earn_money_accuracy: 1.0000 - Team_accuracy: 0.9500 - Product_Differentiator__accuracy: 0.9750\n",
      "Epoch 138/250\n",
      "4/4 [==============================] - 0s 31ms/step - loss: 0.3802 - Identification_of_the_problem_plus_Understanding_gravity_of_problem__loss: 0.0622 - Sizing_of_the_problem_loss: 0.0354 - Clarity_on_product_idea__who_they_are__loss: 0.0306 - Understanding_of_competitors_and_landscape__loss: 0.0198 - GTM_Strategy_how_will_they_reach_out_to_consumers_loss: 0.0730 - Business_Model_how_will_they_earn_money_loss: 0.0647 - Team_loss: 0.0535 - Product_Differentiator__loss: 0.0410 - Identification_of_the_problem_plus_Understanding_gravity_of_problem__accuracy: 1.0000 - Sizing_of_the_problem_accuracy: 1.0000 - Clarity_on_product_idea__who_they_are__accuracy: 1.0000 - Understanding_of_competitors_and_landscape__accuracy: 1.0000 - GTM_Strategy_how_will_they_reach_out_to_consumers_accuracy: 0.9750 - Business_Model_how_will_they_earn_money_accuracy: 0.9750 - Team_accuracy: 1.0000 - Product_Differentiator__accuracy: 1.0000\n",
      "Epoch 139/250\n",
      "4/4 [==============================] - 0s 37ms/step - loss: 0.3034 - Identification_of_the_problem_plus_Understanding_gravity_of_problem__loss: 0.0122 - Sizing_of_the_problem_loss: 0.0668 - Clarity_on_product_idea__who_they_are__loss: 0.0446 - Understanding_of_competitors_and_landscape__loss: 0.0326 - GTM_Strategy_how_will_they_reach_out_to_consumers_loss: 0.0525 - Business_Model_how_will_they_earn_money_loss: 0.0493 - Team_loss: 0.0190 - Product_Differentiator__loss: 0.0263 - Identification_of_the_problem_plus_Understanding_gravity_of_problem__accuracy: 1.0000 - Sizing_of_the_problem_accuracy: 0.9750 - Clarity_on_product_idea__who_they_are__accuracy: 1.0000 - Understanding_of_competitors_and_landscape__accuracy: 1.0000 - GTM_Strategy_how_will_they_reach_out_to_consumers_accuracy: 1.0000 - Business_Model_how_will_they_earn_money_accuracy: 0.9750 - Team_accuracy: 1.0000 - Product_Differentiator__accuracy: 1.0000\n",
      "Epoch 140/250\n",
      "4/4 [==============================] - 0s 37ms/step - loss: 0.2936 - Identification_of_the_problem_plus_Understanding_gravity_of_problem__loss: 0.0369 - Sizing_of_the_problem_loss: 0.0540 - Clarity_on_product_idea__who_they_are__loss: 0.0238 - Understanding_of_competitors_and_landscape__loss: 0.0198 - GTM_Strategy_how_will_they_reach_out_to_consumers_loss: 0.0429 - Business_Model_how_will_they_earn_money_loss: 0.0351 - Team_loss: 0.0180 - Product_Differentiator__loss: 0.0630 - Identification_of_the_problem_plus_Understanding_gravity_of_problem__accuracy: 1.0000 - Sizing_of_the_problem_accuracy: 0.9750 - Clarity_on_product_idea__who_they_are__accuracy: 1.0000 - Understanding_of_competitors_and_landscape__accuracy: 1.0000 - GTM_Strategy_how_will_they_reach_out_to_consumers_accuracy: 1.0000 - Business_Model_how_will_they_earn_money_accuracy: 1.0000 - Team_accuracy: 1.0000 - Product_Differentiator__accuracy: 0.9750\n",
      "Epoch 141/250\n",
      "4/4 [==============================] - 0s 42ms/step - loss: 0.2507 - Identification_of_the_problem_plus_Understanding_gravity_of_problem__loss: 0.0281 - Sizing_of_the_problem_loss: 0.0287 - Clarity_on_product_idea__who_they_are__loss: 0.0352 - Understanding_of_competitors_and_landscape__loss: 0.0302 - GTM_Strategy_how_will_they_reach_out_to_consumers_loss: 0.0472 - Business_Model_how_will_they_earn_money_loss: 0.0305 - Team_loss: 0.0356 - Product_Differentiator__loss: 0.0151 - Identification_of_the_problem_plus_Understanding_gravity_of_problem__accuracy: 1.0000 - Sizing_of_the_problem_accuracy: 1.0000 - Clarity_on_product_idea__who_they_are__accuracy: 0.9750 - Understanding_of_competitors_and_landscape__accuracy: 1.0000 - GTM_Strategy_how_will_they_reach_out_to_consumers_accuracy: 1.0000 - Business_Model_how_will_they_earn_money_accuracy: 1.0000 - Team_accuracy: 1.0000 - Product_Differentiator__accuracy: 1.0000\n",
      "Epoch 142/250\n",
      "4/4 [==============================] - 0s 38ms/step - loss: 0.2479 - Identification_of_the_problem_plus_Understanding_gravity_of_problem__loss: 0.0689 - Sizing_of_the_problem_loss: 0.0158 - Clarity_on_product_idea__who_they_are__loss: 0.0187 - Understanding_of_competitors_and_landscape__loss: 0.0252 - GTM_Strategy_how_will_they_reach_out_to_consumers_loss: 0.0262 - Business_Model_how_will_they_earn_money_loss: 0.0247 - Team_loss: 0.0306 - Product_Differentiator__loss: 0.0380 - Identification_of_the_problem_plus_Understanding_gravity_of_problem__accuracy: 0.9500 - Sizing_of_the_problem_accuracy: 1.0000 - Clarity_on_product_idea__who_they_are__accuracy: 1.0000 - Understanding_of_competitors_and_landscape__accuracy: 1.0000 - GTM_Strategy_how_will_they_reach_out_to_consumers_accuracy: 1.0000 - Business_Model_how_will_they_earn_money_accuracy: 1.0000 - Team_accuracy: 1.0000 - Product_Differentiator__accuracy: 1.0000\n",
      "Epoch 143/250\n",
      "4/4 [==============================] - 0s 48ms/step - loss: 0.2944 - Identification_of_the_problem_plus_Understanding_gravity_of_problem__loss: 0.0271 - Sizing_of_the_problem_loss: 0.0332 - Clarity_on_product_idea__who_they_are__loss: 0.0727 - Understanding_of_competitors_and_landscape__loss: 0.0244 - GTM_Strategy_how_will_they_reach_out_to_consumers_loss: 0.0313 - Business_Model_how_will_they_earn_money_loss: 0.0162 - Team_loss: 0.0161 - Product_Differentiator__loss: 0.0734 - Identification_of_the_problem_plus_Understanding_gravity_of_problem__accuracy: 1.0000 - Sizing_of_the_problem_accuracy: 1.0000 - Clarity_on_product_idea__who_they_are__accuracy: 0.9750 - Understanding_of_competitors_and_landscape__accuracy: 1.0000 - GTM_Strategy_how_will_they_reach_out_to_consumers_accuracy: 1.0000 - Business_Model_how_will_they_earn_money_accuracy: 1.0000 - Team_accuracy: 1.0000 - Product_Differentiator__accuracy: 0.9500\n",
      "Epoch 144/250\n",
      "4/4 [==============================] - 0s 43ms/step - loss: 0.2726 - Identification_of_the_problem_plus_Understanding_gravity_of_problem__loss: 0.0399 - Sizing_of_the_problem_loss: 0.0269 - Clarity_on_product_idea__who_they_are__loss: 0.0753 - Understanding_of_competitors_and_landscape__loss: 0.0100 - GTM_Strategy_how_will_they_reach_out_to_consumers_loss: 0.0474 - Business_Model_how_will_they_earn_money_loss: 0.0380 - Team_loss: 0.0214 - Product_Differentiator__loss: 0.0136 - Identification_of_the_problem_plus_Understanding_gravity_of_problem__accuracy: 1.0000 - Sizing_of_the_problem_accuracy: 1.0000 - Clarity_on_product_idea__who_they_are__accuracy: 0.9750 - Understanding_of_competitors_and_landscape__accuracy: 1.0000 - GTM_Strategy_how_will_they_reach_out_to_consumers_accuracy: 1.0000 - Business_Model_how_will_they_earn_money_accuracy: 1.0000 - Team_accuracy: 1.0000 - Product_Differentiator__accuracy: 1.0000\n",
      "Epoch 145/250\n",
      "4/4 [==============================] - 0s 54ms/step - loss: 0.2107 - Identification_of_the_problem_plus_Understanding_gravity_of_problem__loss: 0.0110 - Sizing_of_the_problem_loss: 0.0186 - Clarity_on_product_idea__who_they_are__loss: 0.0186 - Understanding_of_competitors_and_landscape__loss: 0.0083 - GTM_Strategy_how_will_they_reach_out_to_consumers_loss: 0.0399 - Business_Model_how_will_they_earn_money_loss: 0.0175 - Team_loss: 0.0244 - Product_Differentiator__loss: 0.0724 - Identification_of_the_problem_plus_Understanding_gravity_of_problem__accuracy: 1.0000 - Sizing_of_the_problem_accuracy: 1.0000 - Clarity_on_product_idea__who_they_are__accuracy: 1.0000 - Understanding_of_competitors_and_landscape__accuracy: 1.0000 - GTM_Strategy_how_will_they_reach_out_to_consumers_accuracy: 1.0000 - Business_Model_how_will_they_earn_money_accuracy: 1.0000 - Team_accuracy: 1.0000 - Product_Differentiator__accuracy: 0.9750\n",
      "Epoch 146/250\n",
      "4/4 [==============================] - 0s 40ms/step - loss: 0.2183 - Identification_of_the_problem_plus_Understanding_gravity_of_problem__loss: 0.0248 - Sizing_of_the_problem_loss: 0.0451 - Clarity_on_product_idea__who_they_are__loss: 0.0134 - Understanding_of_competitors_and_landscape__loss: 0.0294 - GTM_Strategy_how_will_they_reach_out_to_consumers_loss: 0.0250 - Business_Model_how_will_they_earn_money_loss: 0.0381 - Team_loss: 0.0182 - Product_Differentiator__loss: 0.0244 - Identification_of_the_problem_plus_Understanding_gravity_of_problem__accuracy: 1.0000 - Sizing_of_the_problem_accuracy: 0.9750 - Clarity_on_product_idea__who_they_are__accuracy: 1.0000 - Understanding_of_competitors_and_landscape__accuracy: 1.0000 - GTM_Strategy_how_will_they_reach_out_to_consumers_accuracy: 1.0000 - Business_Model_how_will_they_earn_money_accuracy: 1.0000 - Team_accuracy: 1.0000 - Product_Differentiator__accuracy: 1.0000\n",
      "Epoch 147/250\n",
      "4/4 [==============================] - 0s 51ms/step - loss: 0.2628 - Identification_of_the_problem_plus_Understanding_gravity_of_problem__loss: 0.0182 - Sizing_of_the_problem_loss: 0.0367 - Clarity_on_product_idea__who_they_are__loss: 0.0135 - Understanding_of_competitors_and_landscape__loss: 0.0222 - GTM_Strategy_how_will_they_reach_out_to_consumers_loss: 0.0465 - Business_Model_how_will_they_earn_money_loss: 0.0336 - Team_loss: 0.0262 - Product_Differentiator__loss: 0.0658 - Identification_of_the_problem_plus_Understanding_gravity_of_problem__accuracy: 1.0000 - Sizing_of_the_problem_accuracy: 1.0000 - Clarity_on_product_idea__who_they_are__accuracy: 1.0000 - Understanding_of_competitors_and_landscape__accuracy: 1.0000 - GTM_Strategy_how_will_they_reach_out_to_consumers_accuracy: 0.9750 - Business_Model_how_will_they_earn_money_accuracy: 1.0000 - Team_accuracy: 1.0000 - Product_Differentiator__accuracy: 0.9750\n",
      "Epoch 148/250\n",
      "4/4 [==============================] - 0s 40ms/step - loss: 0.2027 - Identification_of_the_problem_plus_Understanding_gravity_of_problem__loss: 0.0133 - Sizing_of_the_problem_loss: 0.0240 - Clarity_on_product_idea__who_they_are__loss: 0.0181 - Understanding_of_competitors_and_landscape__loss: 0.0285 - GTM_Strategy_how_will_they_reach_out_to_consumers_loss: 0.0246 - Business_Model_how_will_they_earn_money_loss: 0.0338 - Team_loss: 0.0372 - Product_Differentiator__loss: 0.0233 - Identification_of_the_problem_plus_Understanding_gravity_of_problem__accuracy: 1.0000 - Sizing_of_the_problem_accuracy: 1.0000 - Clarity_on_product_idea__who_they_are__accuracy: 1.0000 - Understanding_of_competitors_and_landscape__accuracy: 1.0000 - GTM_Strategy_how_will_they_reach_out_to_consumers_accuracy: 1.0000 - Business_Model_how_will_they_earn_money_accuracy: 1.0000 - Team_accuracy: 1.0000 - Product_Differentiator__accuracy: 1.0000\n",
      "Epoch 149/250\n",
      "4/4 [==============================] - 0s 35ms/step - loss: 0.2918 - Identification_of_the_problem_plus_Understanding_gravity_of_problem__loss: 0.0166 - Sizing_of_the_problem_loss: 0.0345 - Clarity_on_product_idea__who_they_are__loss: 0.0173 - Understanding_of_competitors_and_landscape__loss: 0.0310 - GTM_Strategy_how_will_they_reach_out_to_consumers_loss: 0.0418 - Business_Model_how_will_they_earn_money_loss: 0.0392 - Team_loss: 0.0265 - Product_Differentiator__loss: 0.0848 - Identification_of_the_problem_plus_Understanding_gravity_of_problem__accuracy: 1.0000 - Sizing_of_the_problem_accuracy: 1.0000 - Clarity_on_product_idea__who_they_are__accuracy: 1.0000 - Understanding_of_competitors_and_landscape__accuracy: 1.0000 - GTM_Strategy_how_will_they_reach_out_to_consumers_accuracy: 1.0000 - Business_Model_how_will_they_earn_money_accuracy: 1.0000 - Team_accuracy: 1.0000 - Product_Differentiator__accuracy: 0.9750\n",
      "Epoch 150/250\n",
      "4/4 [==============================] - 0s 43ms/step - loss: 0.2350 - Identification_of_the_problem_plus_Understanding_gravity_of_problem__loss: 0.0252 - Sizing_of_the_problem_loss: 0.0222 - Clarity_on_product_idea__who_they_are__loss: 0.0225 - Understanding_of_competitors_and_landscape__loss: 0.0117 - GTM_Strategy_how_will_they_reach_out_to_consumers_loss: 0.0321 - Business_Model_how_will_they_earn_money_loss: 0.0507 - Team_loss: 0.0417 - Product_Differentiator__loss: 0.0290 - Identification_of_the_problem_plus_Understanding_gravity_of_problem__accuracy: 1.0000 - Sizing_of_the_problem_accuracy: 1.0000 - Clarity_on_product_idea__who_they_are__accuracy: 1.0000 - Understanding_of_competitors_and_landscape__accuracy: 1.0000 - GTM_Strategy_how_will_they_reach_out_to_consumers_accuracy: 1.0000 - Business_Model_how_will_they_earn_money_accuracy: 1.0000 - Team_accuracy: 0.9750 - Product_Differentiator__accuracy: 1.0000\n",
      "Epoch 151/250\n",
      "4/4 [==============================] - 0s 30ms/step - loss: 0.2955 - Identification_of_the_problem_plus_Understanding_gravity_of_problem__loss: 0.0525 - Sizing_of_the_problem_loss: 0.0523 - Clarity_on_product_idea__who_they_are__loss: 0.0138 - Understanding_of_competitors_and_landscape__loss: 0.0137 - GTM_Strategy_how_will_they_reach_out_to_consumers_loss: 0.0349 - Business_Model_how_will_they_earn_money_loss: 0.0728 - Team_loss: 0.0334 - Product_Differentiator__loss: 0.0222 - Identification_of_the_problem_plus_Understanding_gravity_of_problem__accuracy: 0.9750 - Sizing_of_the_problem_accuracy: 1.0000 - Clarity_on_product_idea__who_they_are__accuracy: 1.0000 - Understanding_of_competitors_and_landscape__accuracy: 1.0000 - GTM_Strategy_how_will_they_reach_out_to_consumers_accuracy: 1.0000 - Business_Model_how_will_they_earn_money_accuracy: 0.9750 - Team_accuracy: 1.0000 - Product_Differentiator__accuracy: 1.0000\n",
      "Epoch 152/250\n",
      "4/4 [==============================] - 0s 32ms/step - loss: 0.2331 - Identification_of_the_problem_plus_Understanding_gravity_of_problem__loss: 0.0174 - Sizing_of_the_problem_loss: 0.0373 - Clarity_on_product_idea__who_they_are__loss: 0.0303 - Understanding_of_competitors_and_landscape__loss: 0.0323 - GTM_Strategy_how_will_they_reach_out_to_consumers_loss: 0.0093 - Business_Model_how_will_they_earn_money_loss: 0.0507 - Team_loss: 0.0205 - Product_Differentiator__loss: 0.0354 - Identification_of_the_problem_plus_Understanding_gravity_of_problem__accuracy: 1.0000 - Sizing_of_the_problem_accuracy: 1.0000 - Clarity_on_product_idea__who_they_are__accuracy: 1.0000 - Understanding_of_competitors_and_landscape__accuracy: 0.9750 - GTM_Strategy_how_will_they_reach_out_to_consumers_accuracy: 1.0000 - Business_Model_how_will_they_earn_money_accuracy: 0.9750 - Team_accuracy: 1.0000 - Product_Differentiator__accuracy: 1.0000\n",
      "Epoch 153/250\n",
      "4/4 [==============================] - 0s 29ms/step - loss: 0.2112 - Identification_of_the_problem_plus_Understanding_gravity_of_problem__loss: 0.0174 - Sizing_of_the_problem_loss: 0.0299 - Clarity_on_product_idea__who_they_are__loss: 0.0204 - Understanding_of_competitors_and_landscape__loss: 0.0239 - GTM_Strategy_how_will_they_reach_out_to_consumers_loss: 0.0185 - Business_Model_how_will_they_earn_money_loss: 0.0277 - Team_loss: 0.0451 - Product_Differentiator__loss: 0.0284 - Identification_of_the_problem_plus_Understanding_gravity_of_problem__accuracy: 1.0000 - Sizing_of_the_problem_accuracy: 1.0000 - Clarity_on_product_idea__who_they_are__accuracy: 1.0000 - Understanding_of_competitors_and_landscape__accuracy: 1.0000 - GTM_Strategy_how_will_they_reach_out_to_consumers_accuracy: 1.0000 - Business_Model_how_will_they_earn_money_accuracy: 1.0000 - Team_accuracy: 1.0000 - Product_Differentiator__accuracy: 1.0000\n",
      "Epoch 154/250\n",
      "4/4 [==============================] - 0s 30ms/step - loss: 0.1934 - Identification_of_the_problem_plus_Understanding_gravity_of_problem__loss: 0.0172 - Sizing_of_the_problem_loss: 0.0119 - Clarity_on_product_idea__who_they_are__loss: 0.0103 - Understanding_of_competitors_and_landscape__loss: 0.0226 - GTM_Strategy_how_will_they_reach_out_to_consumers_loss: 0.0243 - Business_Model_how_will_they_earn_money_loss: 0.0158 - Team_loss: 0.0694 - Product_Differentiator__loss: 0.0219 - Identification_of_the_problem_plus_Understanding_gravity_of_problem__accuracy: 1.0000 - Sizing_of_the_problem_accuracy: 1.0000 - Clarity_on_product_idea__who_they_are__accuracy: 1.0000 - Understanding_of_competitors_and_landscape__accuracy: 1.0000 - GTM_Strategy_how_will_they_reach_out_to_consumers_accuracy: 1.0000 - Business_Model_how_will_they_earn_money_accuracy: 1.0000 - Team_accuracy: 0.9750 - Product_Differentiator__accuracy: 1.0000\n",
      "Epoch 155/250\n",
      "4/4 [==============================] - 0s 34ms/step - loss: 0.2574 - Identification_of_the_problem_plus_Understanding_gravity_of_problem__loss: 0.0394 - Sizing_of_the_problem_loss: 0.0350 - Clarity_on_product_idea__who_they_are__loss: 0.0308 - Understanding_of_competitors_and_landscape__loss: 0.0095 - GTM_Strategy_how_will_they_reach_out_to_consumers_loss: 0.0188 - Business_Model_how_will_they_earn_money_loss: 0.0123 - Team_loss: 0.0687 - Product_Differentiator__loss: 0.0430 - Identification_of_the_problem_plus_Understanding_gravity_of_problem__accuracy: 0.9750 - Sizing_of_the_problem_accuracy: 1.0000 - Clarity_on_product_idea__who_they_are__accuracy: 1.0000 - Understanding_of_competitors_and_landscape__accuracy: 1.0000 - GTM_Strategy_how_will_they_reach_out_to_consumers_accuracy: 1.0000 - Business_Model_how_will_they_earn_money_accuracy: 1.0000 - Team_accuracy: 0.9750 - Product_Differentiator__accuracy: 0.9750\n",
      "Epoch 156/250\n",
      "4/4 [==============================] - 0s 41ms/step - loss: 0.2225 - Identification_of_the_problem_plus_Understanding_gravity_of_problem__loss: 0.0379 - Sizing_of_the_problem_loss: 0.0239 - Clarity_on_product_idea__who_they_are__loss: 0.0117 - Understanding_of_competitors_and_landscape__loss: 0.0408 - GTM_Strategy_how_will_they_reach_out_to_consumers_loss: 0.0268 - Business_Model_how_will_they_earn_money_loss: 0.0221 - Team_loss: 0.0243 - Product_Differentiator__loss: 0.0350 - Identification_of_the_problem_plus_Understanding_gravity_of_problem__accuracy: 0.9750 - Sizing_of_the_problem_accuracy: 1.0000 - Clarity_on_product_idea__who_they_are__accuracy: 1.0000 - Understanding_of_competitors_and_landscape__accuracy: 1.0000 - GTM_Strategy_how_will_they_reach_out_to_consumers_accuracy: 1.0000 - Business_Model_how_will_they_earn_money_accuracy: 1.0000 - Team_accuracy: 1.0000 - Product_Differentiator__accuracy: 1.0000\n",
      "Epoch 157/250\n",
      "4/4 [==============================] - 0s 32ms/step - loss: 0.2047 - Identification_of_the_problem_plus_Understanding_gravity_of_problem__loss: 0.0413 - Sizing_of_the_problem_loss: 0.0195 - Clarity_on_product_idea__who_they_are__loss: 0.0431 - Understanding_of_competitors_and_landscape__loss: 0.0163 - GTM_Strategy_how_will_they_reach_out_to_consumers_loss: 0.0314 - Business_Model_how_will_they_earn_money_loss: 0.0098 - Team_loss: 0.0136 - Product_Differentiator__loss: 0.0297 - Identification_of_the_problem_plus_Understanding_gravity_of_problem__accuracy: 0.9750 - Sizing_of_the_problem_accuracy: 1.0000 - Clarity_on_product_idea__who_they_are__accuracy: 1.0000 - Understanding_of_competitors_and_landscape__accuracy: 1.0000 - GTM_Strategy_how_will_they_reach_out_to_consumers_accuracy: 1.0000 - Business_Model_how_will_they_earn_money_accuracy: 1.0000 - Team_accuracy: 1.0000 - Product_Differentiator__accuracy: 1.0000\n",
      "Epoch 158/250\n",
      "4/4 [==============================] - 0s 32ms/step - loss: 0.3001 - Identification_of_the_problem_plus_Understanding_gravity_of_problem__loss: 0.0309 - Sizing_of_the_problem_loss: 0.0203 - Clarity_on_product_idea__who_they_are__loss: 0.0492 - Understanding_of_competitors_and_landscape__loss: 0.0062 - GTM_Strategy_how_will_they_reach_out_to_consumers_loss: 0.0672 - Business_Model_how_will_they_earn_money_loss: 0.0556 - Team_loss: 0.0252 - Product_Differentiator__loss: 0.0454 - Identification_of_the_problem_plus_Understanding_gravity_of_problem__accuracy: 1.0000 - Sizing_of_the_problem_accuracy: 1.0000 - Clarity_on_product_idea__who_they_are__accuracy: 0.9750 - Understanding_of_competitors_and_landscape__accuracy: 1.0000 - GTM_Strategy_how_will_they_reach_out_to_consumers_accuracy: 0.9750 - Business_Model_how_will_they_earn_money_accuracy: 0.9750 - Team_accuracy: 1.0000 - Product_Differentiator__accuracy: 1.0000\n",
      "Epoch 159/250\n",
      "4/4 [==============================] - 0s 38ms/step - loss: 0.2602 - Identification_of_the_problem_plus_Understanding_gravity_of_problem__loss: 0.0069 - Sizing_of_the_problem_loss: 0.0906 - Clarity_on_product_idea__who_they_are__loss: 0.0316 - Understanding_of_competitors_and_landscape__loss: 0.0114 - GTM_Strategy_how_will_they_reach_out_to_consumers_loss: 0.0287 - Business_Model_how_will_they_earn_money_loss: 0.0281 - Team_loss: 0.0332 - Product_Differentiator__loss: 0.0296 - Identification_of_the_problem_plus_Understanding_gravity_of_problem__accuracy: 1.0000 - Sizing_of_the_problem_accuracy: 0.9750 - Clarity_on_product_idea__who_they_are__accuracy: 1.0000 - Understanding_of_competitors_and_landscape__accuracy: 1.0000 - GTM_Strategy_how_will_they_reach_out_to_consumers_accuracy: 1.0000 - Business_Model_how_will_they_earn_money_accuracy: 1.0000 - Team_accuracy: 1.0000 - Product_Differentiator__accuracy: 1.0000\n",
      "Epoch 160/250\n",
      "4/4 [==============================] - 0s 36ms/step - loss: 0.2758 - Identification_of_the_problem_plus_Understanding_gravity_of_problem__loss: 0.0149 - Sizing_of_the_problem_loss: 0.0515 - Clarity_on_product_idea__who_they_are__loss: 0.0304 - Understanding_of_competitors_and_landscape__loss: 0.0216 - GTM_Strategy_how_will_they_reach_out_to_consumers_loss: 0.0629 - Business_Model_how_will_they_earn_money_loss: 0.0121 - Team_loss: 0.0471 - Product_Differentiator__loss: 0.0353 - Identification_of_the_problem_plus_Understanding_gravity_of_problem__accuracy: 1.0000 - Sizing_of_the_problem_accuracy: 0.9750 - Clarity_on_product_idea__who_they_are__accuracy: 1.0000 - Understanding_of_competitors_and_landscape__accuracy: 1.0000 - GTM_Strategy_how_will_they_reach_out_to_consumers_accuracy: 0.9750 - Business_Model_how_will_they_earn_money_accuracy: 1.0000 - Team_accuracy: 1.0000 - Product_Differentiator__accuracy: 1.0000\n",
      "Epoch 161/250\n",
      "4/4 [==============================] - 0s 47ms/step - loss: 0.1615 - Identification_of_the_problem_plus_Understanding_gravity_of_problem__loss: 0.0159 - Sizing_of_the_problem_loss: 0.0133 - Clarity_on_product_idea__who_they_are__loss: 0.0397 - Understanding_of_competitors_and_landscape__loss: 0.0171 - GTM_Strategy_how_will_they_reach_out_to_consumers_loss: 0.0365 - Business_Model_how_will_they_earn_money_loss: 0.0145 - Team_loss: 0.0107 - Product_Differentiator__loss: 0.0138 - Identification_of_the_problem_plus_Understanding_gravity_of_problem__accuracy: 1.0000 - Sizing_of_the_problem_accuracy: 1.0000 - Clarity_on_product_idea__who_they_are__accuracy: 1.0000 - Understanding_of_competitors_and_landscape__accuracy: 1.0000 - GTM_Strategy_how_will_they_reach_out_to_consumers_accuracy: 1.0000 - Business_Model_how_will_they_earn_money_accuracy: 1.0000 - Team_accuracy: 1.0000 - Product_Differentiator__accuracy: 1.0000\n",
      "Epoch 162/250\n",
      "4/4 [==============================] - 0s 41ms/step - loss: 0.1993 - Identification_of_the_problem_plus_Understanding_gravity_of_problem__loss: 0.0133 - Sizing_of_the_problem_loss: 0.0156 - Clarity_on_product_idea__who_they_are__loss: 0.0259 - Understanding_of_competitors_and_landscape__loss: 0.0116 - GTM_Strategy_how_will_they_reach_out_to_consumers_loss: 0.0237 - Business_Model_how_will_they_earn_money_loss: 0.0415 - Team_loss: 0.0432 - Product_Differentiator__loss: 0.0245 - Identification_of_the_problem_plus_Understanding_gravity_of_problem__accuracy: 1.0000 - Sizing_of_the_problem_accuracy: 1.0000 - Clarity_on_product_idea__who_they_are__accuracy: 1.0000 - Understanding_of_competitors_and_landscape__accuracy: 1.0000 - GTM_Strategy_how_will_they_reach_out_to_consumers_accuracy: 1.0000 - Business_Model_how_will_they_earn_money_accuracy: 0.9750 - Team_accuracy: 0.9750 - Product_Differentiator__accuracy: 1.0000\n",
      "Epoch 163/250\n",
      "4/4 [==============================] - 0s 31ms/step - loss: 0.1912 - Identification_of_the_problem_plus_Understanding_gravity_of_problem__loss: 0.0172 - Sizing_of_the_problem_loss: 0.0219 - Clarity_on_product_idea__who_they_are__loss: 0.0219 - Understanding_of_competitors_and_landscape__loss: 0.0106 - GTM_Strategy_how_will_they_reach_out_to_consumers_loss: 0.0311 - Business_Model_how_will_they_earn_money_loss: 0.0107 - Team_loss: 0.0418 - Product_Differentiator__loss: 0.0359 - Identification_of_the_problem_plus_Understanding_gravity_of_problem__accuracy: 1.0000 - Sizing_of_the_problem_accuracy: 1.0000 - Clarity_on_product_idea__who_they_are__accuracy: 1.0000 - Understanding_of_competitors_and_landscape__accuracy: 1.0000 - GTM_Strategy_how_will_they_reach_out_to_consumers_accuracy: 1.0000 - Business_Model_how_will_they_earn_money_accuracy: 1.0000 - Team_accuracy: 0.9750 - Product_Differentiator__accuracy: 1.0000\n",
      "Epoch 164/250\n",
      "4/4 [==============================] - 0s 23ms/step - loss: 0.2705 - Identification_of_the_problem_plus_Understanding_gravity_of_problem__loss: 0.0087 - Sizing_of_the_problem_loss: 0.0231 - Clarity_on_product_idea__who_they_are__loss: 0.0199 - Understanding_of_competitors_and_landscape__loss: 0.0141 - GTM_Strategy_how_will_they_reach_out_to_consumers_loss: 0.0723 - Business_Model_how_will_they_earn_money_loss: 0.0253 - Team_loss: 0.0488 - Product_Differentiator__loss: 0.0584 - Identification_of_the_problem_plus_Understanding_gravity_of_problem__accuracy: 1.0000 - Sizing_of_the_problem_accuracy: 1.0000 - Clarity_on_product_idea__who_they_are__accuracy: 1.0000 - Understanding_of_competitors_and_landscape__accuracy: 1.0000 - GTM_Strategy_how_will_they_reach_out_to_consumers_accuracy: 0.9750 - Business_Model_how_will_they_earn_money_accuracy: 1.0000 - Team_accuracy: 0.9750 - Product_Differentiator__accuracy: 0.9750\n",
      "Epoch 165/250\n",
      "4/4 [==============================] - 0s 31ms/step - loss: 0.2636 - Identification_of_the_problem_plus_Understanding_gravity_of_problem__loss: 0.0070 - Sizing_of_the_problem_loss: 0.0219 - Clarity_on_product_idea__who_they_are__loss: 0.0223 - Understanding_of_competitors_and_landscape__loss: 0.0137 - GTM_Strategy_how_will_they_reach_out_to_consumers_loss: 0.1001 - Business_Model_how_will_they_earn_money_loss: 0.0469 - Team_loss: 0.0341 - Product_Differentiator__loss: 0.0175 - Identification_of_the_problem_plus_Understanding_gravity_of_problem__accuracy: 1.0000 - Sizing_of_the_problem_accuracy: 1.0000 - Clarity_on_product_idea__who_they_are__accuracy: 1.0000 - Understanding_of_competitors_and_landscape__accuracy: 1.0000 - GTM_Strategy_how_will_they_reach_out_to_consumers_accuracy: 0.9500 - Business_Model_how_will_they_earn_money_accuracy: 0.9750 - Team_accuracy: 0.9750 - Product_Differentiator__accuracy: 1.0000\n",
      "Epoch 166/250\n",
      "4/4 [==============================] - 0s 45ms/step - loss: 0.1749 - Identification_of_the_problem_plus_Understanding_gravity_of_problem__loss: 0.0222 - Sizing_of_the_problem_loss: 0.0089 - Clarity_on_product_idea__who_they_are__loss: 0.0200 - Understanding_of_competitors_and_landscape__loss: 0.0154 - GTM_Strategy_how_will_they_reach_out_to_consumers_loss: 0.0365 - Business_Model_how_will_they_earn_money_loss: 0.0229 - Team_loss: 0.0218 - Product_Differentiator__loss: 0.0272 - Identification_of_the_problem_plus_Understanding_gravity_of_problem__accuracy: 1.0000 - Sizing_of_the_problem_accuracy: 1.0000 - Clarity_on_product_idea__who_they_are__accuracy: 1.0000 - Understanding_of_competitors_and_landscape__accuracy: 1.0000 - GTM_Strategy_how_will_they_reach_out_to_consumers_accuracy: 1.0000 - Business_Model_how_will_they_earn_money_accuracy: 1.0000 - Team_accuracy: 1.0000 - Product_Differentiator__accuracy: 1.0000\n",
      "Epoch 167/250\n",
      "4/4 [==============================] - 0s 34ms/step - loss: 0.2323 - Identification_of_the_problem_plus_Understanding_gravity_of_problem__loss: 0.0132 - Sizing_of_the_problem_loss: 0.0293 - Clarity_on_product_idea__who_they_are__loss: 0.0078 - Understanding_of_competitors_and_landscape__loss: 0.0094 - GTM_Strategy_how_will_they_reach_out_to_consumers_loss: 0.0466 - Business_Model_how_will_they_earn_money_loss: 0.0350 - Team_loss: 0.0442 - Product_Differentiator__loss: 0.0468 - Identification_of_the_problem_plus_Understanding_gravity_of_problem__accuracy: 1.0000 - Sizing_of_the_problem_accuracy: 1.0000 - Clarity_on_product_idea__who_they_are__accuracy: 1.0000 - Understanding_of_competitors_and_landscape__accuracy: 1.0000 - GTM_Strategy_how_will_they_reach_out_to_consumers_accuracy: 0.9750 - Business_Model_how_will_they_earn_money_accuracy: 1.0000 - Team_accuracy: 0.9750 - Product_Differentiator__accuracy: 0.9750\n",
      "Epoch 168/250\n",
      "4/4 [==============================] - 0s 46ms/step - loss: 0.1721 - Identification_of_the_problem_plus_Understanding_gravity_of_problem__loss: 0.0126 - Sizing_of_the_problem_loss: 0.0276 - Clarity_on_product_idea__who_they_are__loss: 0.0074 - Understanding_of_competitors_and_landscape__loss: 0.0207 - GTM_Strategy_how_will_they_reach_out_to_consumers_loss: 0.0090 - Business_Model_how_will_they_earn_money_loss: 0.0268 - Team_loss: 0.0399 - Product_Differentiator__loss: 0.0282 - Identification_of_the_problem_plus_Understanding_gravity_of_problem__accuracy: 1.0000 - Sizing_of_the_problem_accuracy: 1.0000 - Clarity_on_product_idea__who_they_are__accuracy: 1.0000 - Understanding_of_competitors_and_landscape__accuracy: 1.0000 - GTM_Strategy_how_will_they_reach_out_to_consumers_accuracy: 1.0000 - Business_Model_how_will_they_earn_money_accuracy: 1.0000 - Team_accuracy: 1.0000 - Product_Differentiator__accuracy: 1.0000\n",
      "Epoch 169/250\n",
      "4/4 [==============================] - 0s 50ms/step - loss: 0.2006 - Identification_of_the_problem_plus_Understanding_gravity_of_problem__loss: 0.0192 - Sizing_of_the_problem_loss: 0.0880 - Clarity_on_product_idea__who_they_are__loss: 0.0103 - Understanding_of_competitors_and_landscape__loss: 0.0088 - GTM_Strategy_how_will_they_reach_out_to_consumers_loss: 0.0218 - Business_Model_how_will_they_earn_money_loss: 0.0169 - Team_loss: 0.0141 - Product_Differentiator__loss: 0.0215 - Identification_of_the_problem_plus_Understanding_gravity_of_problem__accuracy: 1.0000 - Sizing_of_the_problem_accuracy: 0.9500 - Clarity_on_product_idea__who_they_are__accuracy: 1.0000 - Understanding_of_competitors_and_landscape__accuracy: 1.0000 - GTM_Strategy_how_will_they_reach_out_to_consumers_accuracy: 1.0000 - Business_Model_how_will_they_earn_money_accuracy: 1.0000 - Team_accuracy: 1.0000 - Product_Differentiator__accuracy: 1.0000\n",
      "Epoch 170/250\n",
      "4/4 [==============================] - 0s 34ms/step - loss: 0.1924 - Identification_of_the_problem_plus_Understanding_gravity_of_problem__loss: 0.0080 - Sizing_of_the_problem_loss: 0.0211 - Clarity_on_product_idea__who_they_are__loss: 0.0307 - Understanding_of_competitors_and_landscape__loss: 0.0078 - GTM_Strategy_how_will_they_reach_out_to_consumers_loss: 0.0242 - Business_Model_how_will_they_earn_money_loss: 0.0467 - Team_loss: 0.0418 - Product_Differentiator__loss: 0.0123 - Identification_of_the_problem_plus_Understanding_gravity_of_problem__accuracy: 1.0000 - Sizing_of_the_problem_accuracy: 1.0000 - Clarity_on_product_idea__who_they_are__accuracy: 0.9750 - Understanding_of_competitors_and_landscape__accuracy: 1.0000 - GTM_Strategy_how_will_they_reach_out_to_consumers_accuracy: 1.0000 - Business_Model_how_will_they_earn_money_accuracy: 1.0000 - Team_accuracy: 0.9750 - Product_Differentiator__accuracy: 1.0000\n",
      "Epoch 171/250\n",
      "4/4 [==============================] - 0s 67ms/step - loss: 0.1863 - Identification_of_the_problem_plus_Understanding_gravity_of_problem__loss: 0.0072 - Sizing_of_the_problem_loss: 0.0175 - Clarity_on_product_idea__who_they_are__loss: 0.0480 - Understanding_of_competitors_and_landscape__loss: 0.0291 - GTM_Strategy_how_will_they_reach_out_to_consumers_loss: 0.0124 - Business_Model_how_will_they_earn_money_loss: 0.0251 - Team_loss: 0.0332 - Product_Differentiator__loss: 0.0137 - Identification_of_the_problem_plus_Understanding_gravity_of_problem__accuracy: 1.0000 - Sizing_of_the_problem_accuracy: 1.0000 - Clarity_on_product_idea__who_they_are__accuracy: 0.9750 - Understanding_of_competitors_and_landscape__accuracy: 1.0000 - GTM_Strategy_how_will_they_reach_out_to_consumers_accuracy: 1.0000 - Business_Model_how_will_they_earn_money_accuracy: 1.0000 - Team_accuracy: 1.0000 - Product_Differentiator__accuracy: 1.0000\n",
      "Epoch 172/250\n",
      "4/4 [==============================] - 0s 36ms/step - loss: 0.2653 - Identification_of_the_problem_plus_Understanding_gravity_of_problem__loss: 0.0309 - Sizing_of_the_problem_loss: 0.0101 - Clarity_on_product_idea__who_they_are__loss: 0.0479 - Understanding_of_competitors_and_landscape__loss: 0.0340 - GTM_Strategy_how_will_they_reach_out_to_consumers_loss: 0.0265 - Business_Model_how_will_they_earn_money_loss: 0.0190 - Team_loss: 0.0412 - Product_Differentiator__loss: 0.0557 - Identification_of_the_problem_plus_Understanding_gravity_of_problem__accuracy: 1.0000 - Sizing_of_the_problem_accuracy: 1.0000 - Clarity_on_product_idea__who_they_are__accuracy: 0.9750 - Understanding_of_competitors_and_landscape__accuracy: 1.0000 - GTM_Strategy_how_will_they_reach_out_to_consumers_accuracy: 1.0000 - Business_Model_how_will_they_earn_money_accuracy: 1.0000 - Team_accuracy: 0.9750 - Product_Differentiator__accuracy: 0.9750\n",
      "Epoch 173/250\n",
      "4/4 [==============================] - 0s 38ms/step - loss: 0.2742 - Identification_of_the_problem_plus_Understanding_gravity_of_problem__loss: 0.0103 - Sizing_of_the_problem_loss: 0.0837 - Clarity_on_product_idea__who_they_are__loss: 0.0265 - Understanding_of_competitors_and_landscape__loss: 0.0309 - GTM_Strategy_how_will_they_reach_out_to_consumers_loss: 0.0168 - Business_Model_how_will_they_earn_money_loss: 0.0481 - Team_loss: 0.0228 - Product_Differentiator__loss: 0.0351 - Identification_of_the_problem_plus_Understanding_gravity_of_problem__accuracy: 1.0000 - Sizing_of_the_problem_accuracy: 0.9750 - Clarity_on_product_idea__who_they_are__accuracy: 0.9750 - Understanding_of_competitors_and_landscape__accuracy: 1.0000 - GTM_Strategy_how_will_they_reach_out_to_consumers_accuracy: 1.0000 - Business_Model_how_will_they_earn_money_accuracy: 0.9750 - Team_accuracy: 1.0000 - Product_Differentiator__accuracy: 1.0000\n",
      "Epoch 174/250\n",
      "4/4 [==============================] - 0s 31ms/step - loss: 0.1231 - Identification_of_the_problem_plus_Understanding_gravity_of_problem__loss: 0.0168 - Sizing_of_the_problem_loss: 0.0063 - Clarity_on_product_idea__who_they_are__loss: 0.0037 - Understanding_of_competitors_and_landscape__loss: 0.0197 - GTM_Strategy_how_will_they_reach_out_to_consumers_loss: 0.0419 - Business_Model_how_will_they_earn_money_loss: 0.0108 - Team_loss: 0.0117 - Product_Differentiator__loss: 0.0122 - Identification_of_the_problem_plus_Understanding_gravity_of_problem__accuracy: 1.0000 - Sizing_of_the_problem_accuracy: 1.0000 - Clarity_on_product_idea__who_they_are__accuracy: 1.0000 - Understanding_of_competitors_and_landscape__accuracy: 1.0000 - GTM_Strategy_how_will_they_reach_out_to_consumers_accuracy: 1.0000 - Business_Model_how_will_they_earn_money_accuracy: 1.0000 - Team_accuracy: 1.0000 - Product_Differentiator__accuracy: 1.0000\n",
      "Epoch 175/250\n",
      "4/4 [==============================] - 0s 30ms/step - loss: 0.2292 - Identification_of_the_problem_plus_Understanding_gravity_of_problem__loss: 0.0176 - Sizing_of_the_problem_loss: 0.0795 - Clarity_on_product_idea__who_they_are__loss: 0.0239 - Understanding_of_competitors_and_landscape__loss: 0.0156 - GTM_Strategy_how_will_they_reach_out_to_consumers_loss: 0.0098 - Business_Model_how_will_they_earn_money_loss: 0.0198 - Team_loss: 0.0370 - Product_Differentiator__loss: 0.0260 - Identification_of_the_problem_plus_Understanding_gravity_of_problem__accuracy: 1.0000 - Sizing_of_the_problem_accuracy: 0.9750 - Clarity_on_product_idea__who_they_are__accuracy: 1.0000 - Understanding_of_competitors_and_landscape__accuracy: 1.0000 - GTM_Strategy_how_will_they_reach_out_to_consumers_accuracy: 1.0000 - Business_Model_how_will_they_earn_money_accuracy: 1.0000 - Team_accuracy: 0.9750 - Product_Differentiator__accuracy: 1.0000\n",
      "Epoch 176/250\n",
      "4/4 [==============================] - 0s 39ms/step - loss: 0.2116 - Identification_of_the_problem_plus_Understanding_gravity_of_problem__loss: 0.0108 - Sizing_of_the_problem_loss: 0.0374 - Clarity_on_product_idea__who_they_are__loss: 0.0397 - Understanding_of_competitors_and_landscape__loss: 0.0175 - GTM_Strategy_how_will_they_reach_out_to_consumers_loss: 0.0205 - Business_Model_how_will_they_earn_money_loss: 0.0360 - Team_loss: 0.0302 - Product_Differentiator__loss: 0.0196 - Identification_of_the_problem_plus_Understanding_gravity_of_problem__accuracy: 1.0000 - Sizing_of_the_problem_accuracy: 0.9750 - Clarity_on_product_idea__who_they_are__accuracy: 0.9750 - Understanding_of_competitors_and_landscape__accuracy: 1.0000 - GTM_Strategy_how_will_they_reach_out_to_consumers_accuracy: 1.0000 - Business_Model_how_will_they_earn_money_accuracy: 1.0000 - Team_accuracy: 1.0000 - Product_Differentiator__accuracy: 1.0000\n",
      "Epoch 177/250\n",
      "4/4 [==============================] - 0s 35ms/step - loss: 0.2716 - Identification_of_the_problem_plus_Understanding_gravity_of_problem__loss: 0.0337 - Sizing_of_the_problem_loss: 0.0144 - Clarity_on_product_idea__who_they_are__loss: 0.0213 - Understanding_of_competitors_and_landscape__loss: 0.0423 - GTM_Strategy_how_will_they_reach_out_to_consumers_loss: 0.0368 - Business_Model_how_will_they_earn_money_loss: 0.0281 - Team_loss: 0.0748 - Product_Differentiator__loss: 0.0202 - Identification_of_the_problem_plus_Understanding_gravity_of_problem__accuracy: 1.0000 - Sizing_of_the_problem_accuracy: 1.0000 - Clarity_on_product_idea__who_they_are__accuracy: 1.0000 - Understanding_of_competitors_and_landscape__accuracy: 0.9750 - GTM_Strategy_how_will_they_reach_out_to_consumers_accuracy: 1.0000 - Business_Model_how_will_they_earn_money_accuracy: 1.0000 - Team_accuracy: 0.9500 - Product_Differentiator__accuracy: 1.0000\n",
      "Epoch 178/250\n",
      "4/4 [==============================] - 0s 41ms/step - loss: 0.2056 - Identification_of_the_problem_plus_Understanding_gravity_of_problem__loss: 0.0080 - Sizing_of_the_problem_loss: 0.0330 - Clarity_on_product_idea__who_they_are__loss: 0.0163 - Understanding_of_competitors_and_landscape__loss: 0.0124 - GTM_Strategy_how_will_they_reach_out_to_consumers_loss: 0.0463 - Business_Model_how_will_they_earn_money_loss: 0.0247 - Team_loss: 0.0128 - Product_Differentiator__loss: 0.0522 - Identification_of_the_problem_plus_Understanding_gravity_of_problem__accuracy: 1.0000 - Sizing_of_the_problem_accuracy: 1.0000 - Clarity_on_product_idea__who_they_are__accuracy: 1.0000 - Understanding_of_competitors_and_landscape__accuracy: 1.0000 - GTM_Strategy_how_will_they_reach_out_to_consumers_accuracy: 0.9750 - Business_Model_how_will_they_earn_money_accuracy: 1.0000 - Team_accuracy: 1.0000 - Product_Differentiator__accuracy: 0.9750\n",
      "Epoch 179/250\n",
      "4/4 [==============================] - 0s 35ms/step - loss: 0.2076 - Identification_of_the_problem_plus_Understanding_gravity_of_problem__loss: 0.0417 - Sizing_of_the_problem_loss: 0.0511 - Clarity_on_product_idea__who_they_are__loss: 0.0239 - Understanding_of_competitors_and_landscape__loss: 0.0074 - GTM_Strategy_how_will_they_reach_out_to_consumers_loss: 0.0137 - Business_Model_how_will_they_earn_money_loss: 0.0240 - Team_loss: 0.0240 - Product_Differentiator__loss: 0.0217 - Identification_of_the_problem_plus_Understanding_gravity_of_problem__accuracy: 1.0000 - Sizing_of_the_problem_accuracy: 0.9750 - Clarity_on_product_idea__who_they_are__accuracy: 1.0000 - Understanding_of_competitors_and_landscape__accuracy: 1.0000 - GTM_Strategy_how_will_they_reach_out_to_consumers_accuracy: 1.0000 - Business_Model_how_will_they_earn_money_accuracy: 1.0000 - Team_accuracy: 1.0000 - Product_Differentiator__accuracy: 1.0000\n",
      "Epoch 180/250\n",
      "4/4 [==============================] - 0s 32ms/step - loss: 0.2383 - Identification_of_the_problem_plus_Understanding_gravity_of_problem__loss: 0.0278 - Sizing_of_the_problem_loss: 0.0297 - Clarity_on_product_idea__who_they_are__loss: 0.0228 - Understanding_of_competitors_and_landscape__loss: 0.0110 - GTM_Strategy_how_will_they_reach_out_to_consumers_loss: 0.0287 - Business_Model_how_will_they_earn_money_loss: 0.0222 - Team_loss: 0.0549 - Product_Differentiator__loss: 0.0413 - Identification_of_the_problem_plus_Understanding_gravity_of_problem__accuracy: 1.0000 - Sizing_of_the_problem_accuracy: 1.0000 - Clarity_on_product_idea__who_they_are__accuracy: 1.0000 - Understanding_of_competitors_and_landscape__accuracy: 1.0000 - GTM_Strategy_how_will_they_reach_out_to_consumers_accuracy: 1.0000 - Business_Model_how_will_they_earn_money_accuracy: 1.0000 - Team_accuracy: 0.9750 - Product_Differentiator__accuracy: 1.0000\n",
      "Epoch 181/250\n",
      "4/4 [==============================] - 0s 48ms/step - loss: 0.1856 - Identification_of_the_problem_plus_Understanding_gravity_of_problem__loss: 0.0181 - Sizing_of_the_problem_loss: 0.0415 - Clarity_on_product_idea__who_they_are__loss: 0.0120 - Understanding_of_competitors_and_landscape__loss: 0.0143 - GTM_Strategy_how_will_they_reach_out_to_consumers_loss: 0.0627 - Business_Model_how_will_they_earn_money_loss: 0.0139 - Team_loss: 0.0128 - Product_Differentiator__loss: 0.0102 - Identification_of_the_problem_plus_Understanding_gravity_of_problem__accuracy: 1.0000 - Sizing_of_the_problem_accuracy: 1.0000 - Clarity_on_product_idea__who_they_are__accuracy: 1.0000 - Understanding_of_competitors_and_landscape__accuracy: 1.0000 - GTM_Strategy_how_will_they_reach_out_to_consumers_accuracy: 0.9750 - Business_Model_how_will_they_earn_money_accuracy: 1.0000 - Team_accuracy: 1.0000 - Product_Differentiator__accuracy: 1.0000\n",
      "Epoch 182/250\n",
      "4/4 [==============================] - 0s 38ms/step - loss: 0.1745 - Identification_of_the_problem_plus_Understanding_gravity_of_problem__loss: 0.0122 - Sizing_of_the_problem_loss: 0.0210 - Clarity_on_product_idea__who_they_are__loss: 0.0117 - Understanding_of_competitors_and_landscape__loss: 0.0205 - GTM_Strategy_how_will_they_reach_out_to_consumers_loss: 0.0230 - Business_Model_how_will_they_earn_money_loss: 0.0257 - Team_loss: 0.0254 - Product_Differentiator__loss: 0.0351 - Identification_of_the_problem_plus_Understanding_gravity_of_problem__accuracy: 1.0000 - Sizing_of_the_problem_accuracy: 1.0000 - Clarity_on_product_idea__who_they_are__accuracy: 1.0000 - Understanding_of_competitors_and_landscape__accuracy: 1.0000 - GTM_Strategy_how_will_they_reach_out_to_consumers_accuracy: 1.0000 - Business_Model_how_will_they_earn_money_accuracy: 1.0000 - Team_accuracy: 1.0000 - Product_Differentiator__accuracy: 1.0000\n",
      "Epoch 183/250\n",
      "4/4 [==============================] - 0s 35ms/step - loss: 0.2985 - Identification_of_the_problem_plus_Understanding_gravity_of_problem__loss: 0.0740 - Sizing_of_the_problem_loss: 0.0476 - Clarity_on_product_idea__who_they_are__loss: 0.0125 - Understanding_of_competitors_and_landscape__loss: 0.0447 - GTM_Strategy_how_will_they_reach_out_to_consumers_loss: 0.0281 - Business_Model_how_will_they_earn_money_loss: 0.0219 - Team_loss: 0.0286 - Product_Differentiator__loss: 0.0413 - Identification_of_the_problem_plus_Understanding_gravity_of_problem__accuracy: 0.9750 - Sizing_of_the_problem_accuracy: 1.0000 - Clarity_on_product_idea__who_they_are__accuracy: 1.0000 - Understanding_of_competitors_and_landscape__accuracy: 0.9750 - GTM_Strategy_how_will_they_reach_out_to_consumers_accuracy: 1.0000 - Business_Model_how_will_they_earn_money_accuracy: 1.0000 - Team_accuracy: 1.0000 - Product_Differentiator__accuracy: 0.9750\n",
      "Epoch 184/250\n",
      "4/4 [==============================] - 0s 58ms/step - loss: 0.1387 - Identification_of_the_problem_plus_Understanding_gravity_of_problem__loss: 0.0055 - Sizing_of_the_problem_loss: 0.0133 - Clarity_on_product_idea__who_they_are__loss: 0.0266 - Understanding_of_competitors_and_landscape__loss: 0.0358 - GTM_Strategy_how_will_they_reach_out_to_consumers_loss: 0.0119 - Business_Model_how_will_they_earn_money_loss: 0.0088 - Team_loss: 0.0095 - Product_Differentiator__loss: 0.0273 - Identification_of_the_problem_plus_Understanding_gravity_of_problem__accuracy: 1.0000 - Sizing_of_the_problem_accuracy: 1.0000 - Clarity_on_product_idea__who_they_are__accuracy: 1.0000 - Understanding_of_competitors_and_landscape__accuracy: 0.9750 - GTM_Strategy_how_will_they_reach_out_to_consumers_accuracy: 1.0000 - Business_Model_how_will_they_earn_money_accuracy: 1.0000 - Team_accuracy: 1.0000 - Product_Differentiator__accuracy: 0.9750\n",
      "Epoch 185/250\n",
      "4/4 [==============================] - 0s 41ms/step - loss: 0.1220 - Identification_of_the_problem_plus_Understanding_gravity_of_problem__loss: 0.0269 - Sizing_of_the_problem_loss: 0.0131 - Clarity_on_product_idea__who_they_are__loss: 0.0218 - Understanding_of_competitors_and_landscape__loss: 0.0094 - GTM_Strategy_how_will_they_reach_out_to_consumers_loss: 0.0083 - Business_Model_how_will_they_earn_money_loss: 0.0238 - Team_loss: 0.0062 - Product_Differentiator__loss: 0.0125 - Identification_of_the_problem_plus_Understanding_gravity_of_problem__accuracy: 1.0000 - Sizing_of_the_problem_accuracy: 1.0000 - Clarity_on_product_idea__who_they_are__accuracy: 1.0000 - Understanding_of_competitors_and_landscape__accuracy: 1.0000 - GTM_Strategy_how_will_they_reach_out_to_consumers_accuracy: 1.0000 - Business_Model_how_will_they_earn_money_accuracy: 1.0000 - Team_accuracy: 1.0000 - Product_Differentiator__accuracy: 1.0000\n",
      "Epoch 186/250\n",
      "4/4 [==============================] - 0s 33ms/step - loss: 0.1969 - Identification_of_the_problem_plus_Understanding_gravity_of_problem__loss: 0.0180 - Sizing_of_the_problem_loss: 0.0104 - Clarity_on_product_idea__who_they_are__loss: 0.0460 - Understanding_of_competitors_and_landscape__loss: 0.0374 - GTM_Strategy_how_will_they_reach_out_to_consumers_loss: 0.0214 - Business_Model_how_will_they_earn_money_loss: 0.0253 - Team_loss: 0.0100 - Product_Differentiator__loss: 0.0283 - Identification_of_the_problem_plus_Understanding_gravity_of_problem__accuracy: 1.0000 - Sizing_of_the_problem_accuracy: 1.0000 - Clarity_on_product_idea__who_they_are__accuracy: 0.9750 - Understanding_of_competitors_and_landscape__accuracy: 0.9750 - GTM_Strategy_how_will_they_reach_out_to_consumers_accuracy: 1.0000 - Business_Model_how_will_they_earn_money_accuracy: 1.0000 - Team_accuracy: 1.0000 - Product_Differentiator__accuracy: 1.0000\n",
      "Epoch 187/250\n",
      "4/4 [==============================] - 0s 32ms/step - loss: 0.1988 - Identification_of_the_problem_plus_Understanding_gravity_of_problem__loss: 0.0103 - Sizing_of_the_problem_loss: 0.0077 - Clarity_on_product_idea__who_they_are__loss: 0.0184 - Understanding_of_competitors_and_landscape__loss: 0.0124 - GTM_Strategy_how_will_they_reach_out_to_consumers_loss: 0.0231 - Business_Model_how_will_they_earn_money_loss: 0.0591 - Team_loss: 0.0411 - Product_Differentiator__loss: 0.0268 - Identification_of_the_problem_plus_Understanding_gravity_of_problem__accuracy: 1.0000 - Sizing_of_the_problem_accuracy: 1.0000 - Clarity_on_product_idea__who_they_are__accuracy: 1.0000 - Understanding_of_competitors_and_landscape__accuracy: 1.0000 - GTM_Strategy_how_will_they_reach_out_to_consumers_accuracy: 1.0000 - Business_Model_how_will_they_earn_money_accuracy: 0.9750 - Team_accuracy: 0.9750 - Product_Differentiator__accuracy: 1.0000\n",
      "Epoch 188/250\n",
      "4/4 [==============================] - 0s 26ms/step - loss: 0.1652 - Identification_of_the_problem_plus_Understanding_gravity_of_problem__loss: 0.0071 - Sizing_of_the_problem_loss: 0.0189 - Clarity_on_product_idea__who_they_are__loss: 0.0148 - Understanding_of_competitors_and_landscape__loss: 0.0231 - GTM_Strategy_how_will_they_reach_out_to_consumers_loss: 0.0539 - Business_Model_how_will_they_earn_money_loss: 0.0146 - Team_loss: 0.0118 - Product_Differentiator__loss: 0.0209 - Identification_of_the_problem_plus_Understanding_gravity_of_problem__accuracy: 1.0000 - Sizing_of_the_problem_accuracy: 1.0000 - Clarity_on_product_idea__who_they_are__accuracy: 1.0000 - Understanding_of_competitors_and_landscape__accuracy: 1.0000 - GTM_Strategy_how_will_they_reach_out_to_consumers_accuracy: 0.9750 - Business_Model_how_will_they_earn_money_accuracy: 1.0000 - Team_accuracy: 1.0000 - Product_Differentiator__accuracy: 1.0000\n",
      "Epoch 189/250\n",
      "4/4 [==============================] - 0s 35ms/step - loss: 0.1115 - Identification_of_the_problem_plus_Understanding_gravity_of_problem__loss: 0.0180 - Sizing_of_the_problem_loss: 0.0105 - Clarity_on_product_idea__who_they_are__loss: 0.0102 - Understanding_of_competitors_and_landscape__loss: 0.0179 - GTM_Strategy_how_will_they_reach_out_to_consumers_loss: 0.0086 - Business_Model_how_will_they_earn_money_loss: 0.0091 - Team_loss: 0.0255 - Product_Differentiator__loss: 0.0117 - Identification_of_the_problem_plus_Understanding_gravity_of_problem__accuracy: 1.0000 - Sizing_of_the_problem_accuracy: 1.0000 - Clarity_on_product_idea__who_they_are__accuracy: 1.0000 - Understanding_of_competitors_and_landscape__accuracy: 1.0000 - GTM_Strategy_how_will_they_reach_out_to_consumers_accuracy: 1.0000 - Business_Model_how_will_they_earn_money_accuracy: 1.0000 - Team_accuracy: 0.9750 - Product_Differentiator__accuracy: 1.0000\n",
      "Epoch 190/250\n",
      "4/4 [==============================] - 0s 29ms/step - loss: 0.1782 - Identification_of_the_problem_plus_Understanding_gravity_of_problem__loss: 0.0232 - Sizing_of_the_problem_loss: 0.0345 - Clarity_on_product_idea__who_they_are__loss: 0.0329 - Understanding_of_competitors_and_landscape__loss: 0.0176 - GTM_Strategy_how_will_they_reach_out_to_consumers_loss: 0.0311 - Business_Model_how_will_they_earn_money_loss: 0.0189 - Team_loss: 0.0063 - Product_Differentiator__loss: 0.0136 - Identification_of_the_problem_plus_Understanding_gravity_of_problem__accuracy: 1.0000 - Sizing_of_the_problem_accuracy: 1.0000 - Clarity_on_product_idea__who_they_are__accuracy: 1.0000 - Understanding_of_competitors_and_landscape__accuracy: 1.0000 - GTM_Strategy_how_will_they_reach_out_to_consumers_accuracy: 1.0000 - Business_Model_how_will_they_earn_money_accuracy: 1.0000 - Team_accuracy: 1.0000 - Product_Differentiator__accuracy: 1.0000\n",
      "Epoch 191/250\n",
      "4/4 [==============================] - 0s 21ms/step - loss: 0.0762 - Identification_of_the_problem_plus_Understanding_gravity_of_problem__loss: 0.0072 - Sizing_of_the_problem_loss: 0.0075 - Clarity_on_product_idea__who_they_are__loss: 0.0117 - Understanding_of_competitors_and_landscape__loss: 0.0046 - GTM_Strategy_how_will_they_reach_out_to_consumers_loss: 0.0093 - Business_Model_how_will_they_earn_money_loss: 0.0079 - Team_loss: 0.0054 - Product_Differentiator__loss: 0.0226 - Identification_of_the_problem_plus_Understanding_gravity_of_problem__accuracy: 1.0000 - Sizing_of_the_problem_accuracy: 1.0000 - Clarity_on_product_idea__who_they_are__accuracy: 1.0000 - Understanding_of_competitors_and_landscape__accuracy: 1.0000 - GTM_Strategy_how_will_they_reach_out_to_consumers_accuracy: 1.0000 - Business_Model_how_will_they_earn_money_accuracy: 1.0000 - Team_accuracy: 1.0000 - Product_Differentiator__accuracy: 1.0000\n",
      "Epoch 192/250\n",
      "4/4 [==============================] - 0s 33ms/step - loss: 0.1130 - Identification_of_the_problem_plus_Understanding_gravity_of_problem__loss: 0.0046 - Sizing_of_the_problem_loss: 0.0059 - Clarity_on_product_idea__who_they_are__loss: 0.0267 - Understanding_of_competitors_and_landscape__loss: 0.0048 - GTM_Strategy_how_will_they_reach_out_to_consumers_loss: 0.0137 - Business_Model_how_will_they_earn_money_loss: 0.0172 - Team_loss: 0.0161 - Product_Differentiator__loss: 0.0240 - Identification_of_the_problem_plus_Understanding_gravity_of_problem__accuracy: 1.0000 - Sizing_of_the_problem_accuracy: 1.0000 - Clarity_on_product_idea__who_they_are__accuracy: 1.0000 - Understanding_of_competitors_and_landscape__accuracy: 1.0000 - GTM_Strategy_how_will_they_reach_out_to_consumers_accuracy: 1.0000 - Business_Model_how_will_they_earn_money_accuracy: 1.0000 - Team_accuracy: 1.0000 - Product_Differentiator__accuracy: 1.0000\n",
      "Epoch 193/250\n",
      "4/4 [==============================] - 0s 41ms/step - loss: 0.2302 - Identification_of_the_problem_plus_Understanding_gravity_of_problem__loss: 0.0335 - Sizing_of_the_problem_loss: 0.0499 - Clarity_on_product_idea__who_they_are__loss: 0.0365 - Understanding_of_competitors_and_landscape__loss: 0.0147 - GTM_Strategy_how_will_they_reach_out_to_consumers_loss: 0.0438 - Business_Model_how_will_they_earn_money_loss: 0.0142 - Team_loss: 0.0105 - Product_Differentiator__loss: 0.0272 - Identification_of_the_problem_plus_Understanding_gravity_of_problem__accuracy: 0.9750 - Sizing_of_the_problem_accuracy: 0.9750 - Clarity_on_product_idea__who_they_are__accuracy: 0.9750 - Understanding_of_competitors_and_landscape__accuracy: 1.0000 - GTM_Strategy_how_will_they_reach_out_to_consumers_accuracy: 1.0000 - Business_Model_how_will_they_earn_money_accuracy: 1.0000 - Team_accuracy: 1.0000 - Product_Differentiator__accuracy: 1.0000\n",
      "Epoch 194/250\n",
      "4/4 [==============================] - 0s 43ms/step - loss: 0.1933 - Identification_of_the_problem_plus_Understanding_gravity_of_problem__loss: 0.0193 - Sizing_of_the_problem_loss: 0.0225 - Clarity_on_product_idea__who_they_are__loss: 0.0134 - Understanding_of_competitors_and_landscape__loss: 0.0300 - GTM_Strategy_how_will_they_reach_out_to_consumers_loss: 0.0244 - Business_Model_how_will_they_earn_money_loss: 0.0358 - Team_loss: 0.0326 - Product_Differentiator__loss: 0.0153 - Identification_of_the_problem_plus_Understanding_gravity_of_problem__accuracy: 1.0000 - Sizing_of_the_problem_accuracy: 1.0000 - Clarity_on_product_idea__who_they_are__accuracy: 1.0000 - Understanding_of_competitors_and_landscape__accuracy: 1.0000 - GTM_Strategy_how_will_they_reach_out_to_consumers_accuracy: 1.0000 - Business_Model_how_will_they_earn_money_accuracy: 0.9750 - Team_accuracy: 1.0000 - Product_Differentiator__accuracy: 1.0000\n",
      "Epoch 195/250\n",
      "4/4 [==============================] - 0s 66ms/step - loss: 0.1918 - Identification_of_the_problem_plus_Understanding_gravity_of_problem__loss: 0.0163 - Sizing_of_the_problem_loss: 0.0276 - Clarity_on_product_idea__who_they_are__loss: 0.0105 - Understanding_of_competitors_and_landscape__loss: 0.0101 - GTM_Strategy_how_will_they_reach_out_to_consumers_loss: 0.0300 - Business_Model_how_will_they_earn_money_loss: 0.0271 - Team_loss: 0.0047 - Product_Differentiator__loss: 0.0655 - Identification_of_the_problem_plus_Understanding_gravity_of_problem__accuracy: 1.0000 - Sizing_of_the_problem_accuracy: 1.0000 - Clarity_on_product_idea__who_they_are__accuracy: 1.0000 - Understanding_of_competitors_and_landscape__accuracy: 1.0000 - GTM_Strategy_how_will_they_reach_out_to_consumers_accuracy: 1.0000 - Business_Model_how_will_they_earn_money_accuracy: 1.0000 - Team_accuracy: 1.0000 - Product_Differentiator__accuracy: 0.9750\n",
      "Epoch 196/250\n",
      "4/4 [==============================] - 0s 100ms/step - loss: 0.1523 - Identification_of_the_problem_plus_Understanding_gravity_of_problem__loss: 0.0194 - Sizing_of_the_problem_loss: 0.0090 - Clarity_on_product_idea__who_they_are__loss: 0.0272 - Understanding_of_competitors_and_landscape__loss: 0.0197 - GTM_Strategy_how_will_they_reach_out_to_consumers_loss: 0.0229 - Business_Model_how_will_they_earn_money_loss: 0.0229 - Team_loss: 0.0181 - Product_Differentiator__loss: 0.0130 - Identification_of_the_problem_plus_Understanding_gravity_of_problem__accuracy: 1.0000 - Sizing_of_the_problem_accuracy: 1.0000 - Clarity_on_product_idea__who_they_are__accuracy: 0.9750 - Understanding_of_competitors_and_landscape__accuracy: 1.0000 - GTM_Strategy_how_will_they_reach_out_to_consumers_accuracy: 1.0000 - Business_Model_how_will_they_earn_money_accuracy: 1.0000 - Team_accuracy: 1.0000 - Product_Differentiator__accuracy: 1.0000\n",
      "Epoch 197/250\n",
      "4/4 [==============================] - 0s 44ms/step - loss: 0.1873 - Identification_of_the_problem_plus_Understanding_gravity_of_problem__loss: 0.0024 - Sizing_of_the_problem_loss: 0.0155 - Clarity_on_product_idea__who_they_are__loss: 0.0326 - Understanding_of_competitors_and_landscape__loss: 0.0118 - GTM_Strategy_how_will_they_reach_out_to_consumers_loss: 0.0103 - Business_Model_how_will_they_earn_money_loss: 0.0346 - Team_loss: 0.0359 - Product_Differentiator__loss: 0.0443 - Identification_of_the_problem_plus_Understanding_gravity_of_problem__accuracy: 1.0000 - Sizing_of_the_problem_accuracy: 1.0000 - Clarity_on_product_idea__who_they_are__accuracy: 1.0000 - Understanding_of_competitors_and_landscape__accuracy: 1.0000 - GTM_Strategy_how_will_they_reach_out_to_consumers_accuracy: 1.0000 - Business_Model_how_will_they_earn_money_accuracy: 1.0000 - Team_accuracy: 1.0000 - Product_Differentiator__accuracy: 0.9750\n",
      "Epoch 198/250\n",
      "4/4 [==============================] - 0s 42ms/step - loss: 0.1528 - Identification_of_the_problem_plus_Understanding_gravity_of_problem__loss: 0.0124 - Sizing_of_the_problem_loss: 0.0200 - Clarity_on_product_idea__who_they_are__loss: 0.0118 - Understanding_of_competitors_and_landscape__loss: 0.0301 - GTM_Strategy_how_will_they_reach_out_to_consumers_loss: 0.0096 - Business_Model_how_will_they_earn_money_loss: 0.0133 - Team_loss: 0.0479 - Product_Differentiator__loss: 0.0077 - Identification_of_the_problem_plus_Understanding_gravity_of_problem__accuracy: 1.0000 - Sizing_of_the_problem_accuracy: 1.0000 - Clarity_on_product_idea__who_they_are__accuracy: 1.0000 - Understanding_of_competitors_and_landscape__accuracy: 1.0000 - GTM_Strategy_how_will_they_reach_out_to_consumers_accuracy: 1.0000 - Business_Model_how_will_they_earn_money_accuracy: 1.0000 - Team_accuracy: 0.9750 - Product_Differentiator__accuracy: 1.0000\n",
      "Epoch 199/250\n",
      "4/4 [==============================] - 0s 60ms/step - loss: 0.1164 - Identification_of_the_problem_plus_Understanding_gravity_of_problem__loss: 0.0074 - Sizing_of_the_problem_loss: 0.0053 - Clarity_on_product_idea__who_they_are__loss: 0.0189 - Understanding_of_competitors_and_landscape__loss: 0.0309 - GTM_Strategy_how_will_they_reach_out_to_consumers_loss: 0.0158 - Business_Model_how_will_they_earn_money_loss: 0.0187 - Team_loss: 0.0100 - Product_Differentiator__loss: 0.0093 - Identification_of_the_problem_plus_Understanding_gravity_of_problem__accuracy: 1.0000 - Sizing_of_the_problem_accuracy: 1.0000 - Clarity_on_product_idea__who_they_are__accuracy: 1.0000 - Understanding_of_competitors_and_landscape__accuracy: 1.0000 - GTM_Strategy_how_will_they_reach_out_to_consumers_accuracy: 1.0000 - Business_Model_how_will_they_earn_money_accuracy: 1.0000 - Team_accuracy: 1.0000 - Product_Differentiator__accuracy: 1.0000\n",
      "Epoch 200/250\n",
      "4/4 [==============================] - 0s 51ms/step - loss: 0.1146 - Identification_of_the_problem_plus_Understanding_gravity_of_problem__loss: 0.0063 - Sizing_of_the_problem_loss: 0.0108 - Clarity_on_product_idea__who_they_are__loss: 0.0266 - Understanding_of_competitors_and_landscape__loss: 0.0108 - GTM_Strategy_how_will_they_reach_out_to_consumers_loss: 0.0238 - Business_Model_how_will_they_earn_money_loss: 0.0193 - Team_loss: 0.0077 - Product_Differentiator__loss: 0.0091 - Identification_of_the_problem_plus_Understanding_gravity_of_problem__accuracy: 1.0000 - Sizing_of_the_problem_accuracy: 1.0000 - Clarity_on_product_idea__who_they_are__accuracy: 1.0000 - Understanding_of_competitors_and_landscape__accuracy: 1.0000 - GTM_Strategy_how_will_they_reach_out_to_consumers_accuracy: 1.0000 - Business_Model_how_will_they_earn_money_accuracy: 1.0000 - Team_accuracy: 1.0000 - Product_Differentiator__accuracy: 1.0000\n",
      "Epoch 201/250\n",
      "4/4 [==============================] - 0s 37ms/step - loss: 0.1424 - Identification_of_the_problem_plus_Understanding_gravity_of_problem__loss: 0.0121 - Sizing_of_the_problem_loss: 0.0181 - Clarity_on_product_idea__who_they_are__loss: 0.0054 - Understanding_of_competitors_and_landscape__loss: 0.0272 - GTM_Strategy_how_will_they_reach_out_to_consumers_loss: 0.0149 - Business_Model_how_will_they_earn_money_loss: 0.0113 - Team_loss: 0.0192 - Product_Differentiator__loss: 0.0342 - Identification_of_the_problem_plus_Understanding_gravity_of_problem__accuracy: 1.0000 - Sizing_of_the_problem_accuracy: 1.0000 - Clarity_on_product_idea__who_they_are__accuracy: 1.0000 - Understanding_of_competitors_and_landscape__accuracy: 1.0000 - GTM_Strategy_how_will_they_reach_out_to_consumers_accuracy: 1.0000 - Business_Model_how_will_they_earn_money_accuracy: 1.0000 - Team_accuracy: 1.0000 - Product_Differentiator__accuracy: 1.0000\n",
      "Epoch 202/250\n",
      "4/4 [==============================] - 0s 29ms/step - loss: 0.1651 - Identification_of_the_problem_plus_Understanding_gravity_of_problem__loss: 0.0032 - Sizing_of_the_problem_loss: 0.0418 - Clarity_on_product_idea__who_they_are__loss: 0.0203 - Understanding_of_competitors_and_landscape__loss: 0.0124 - GTM_Strategy_how_will_they_reach_out_to_consumers_loss: 0.0086 - Business_Model_how_will_they_earn_money_loss: 0.0329 - Team_loss: 0.0138 - Product_Differentiator__loss: 0.0320 - Identification_of_the_problem_plus_Understanding_gravity_of_problem__accuracy: 1.0000 - Sizing_of_the_problem_accuracy: 0.9750 - Clarity_on_product_idea__who_they_are__accuracy: 1.0000 - Understanding_of_competitors_and_landscape__accuracy: 1.0000 - GTM_Strategy_how_will_they_reach_out_to_consumers_accuracy: 1.0000 - Business_Model_how_will_they_earn_money_accuracy: 1.0000 - Team_accuracy: 1.0000 - Product_Differentiator__accuracy: 1.0000\n",
      "Epoch 203/250\n",
      "4/4 [==============================] - 0s 35ms/step - loss: 0.1318 - Identification_of_the_problem_plus_Understanding_gravity_of_problem__loss: 0.0051 - Sizing_of_the_problem_loss: 0.0305 - Clarity_on_product_idea__who_they_are__loss: 0.0232 - Understanding_of_competitors_and_landscape__loss: 0.0089 - GTM_Strategy_how_will_they_reach_out_to_consumers_loss: 0.0172 - Business_Model_how_will_they_earn_money_loss: 0.0222 - Team_loss: 0.0196 - Product_Differentiator__loss: 0.0052 - Identification_of_the_problem_plus_Understanding_gravity_of_problem__accuracy: 1.0000 - Sizing_of_the_problem_accuracy: 1.0000 - Clarity_on_product_idea__who_they_are__accuracy: 1.0000 - Understanding_of_competitors_and_landscape__accuracy: 1.0000 - GTM_Strategy_how_will_they_reach_out_to_consumers_accuracy: 1.0000 - Business_Model_how_will_they_earn_money_accuracy: 1.0000 - Team_accuracy: 1.0000 - Product_Differentiator__accuracy: 1.0000\n",
      "Epoch 204/250\n",
      "4/4 [==============================] - 0s 42ms/step - loss: 0.1417 - Identification_of_the_problem_plus_Understanding_gravity_of_problem__loss: 0.0070 - Sizing_of_the_problem_loss: 0.0108 - Clarity_on_product_idea__who_they_are__loss: 0.0127 - Understanding_of_competitors_and_landscape__loss: 0.0088 - GTM_Strategy_how_will_they_reach_out_to_consumers_loss: 0.0137 - Business_Model_how_will_they_earn_money_loss: 0.0128 - Team_loss: 0.0089 - Product_Differentiator__loss: 0.0671 - Identification_of_the_problem_plus_Understanding_gravity_of_problem__accuracy: 1.0000 - Sizing_of_the_problem_accuracy: 1.0000 - Clarity_on_product_idea__who_they_are__accuracy: 1.0000 - Understanding_of_competitors_and_landscape__accuracy: 1.0000 - GTM_Strategy_how_will_they_reach_out_to_consumers_accuracy: 1.0000 - Business_Model_how_will_they_earn_money_accuracy: 1.0000 - Team_accuracy: 1.0000 - Product_Differentiator__accuracy: 0.9500\n",
      "Epoch 205/250\n",
      "4/4 [==============================] - 0s 34ms/step - loss: 0.2043 - Identification_of_the_problem_plus_Understanding_gravity_of_problem__loss: 0.0281 - Sizing_of_the_problem_loss: 0.0831 - Clarity_on_product_idea__who_they_are__loss: 0.0189 - Understanding_of_competitors_and_landscape__loss: 0.0057 - GTM_Strategy_how_will_they_reach_out_to_consumers_loss: 0.0241 - Business_Model_how_will_they_earn_money_loss: 0.0084 - Team_loss: 0.0206 - Product_Differentiator__loss: 0.0155 - Identification_of_the_problem_plus_Understanding_gravity_of_problem__accuracy: 1.0000 - Sizing_of_the_problem_accuracy: 0.9750 - Clarity_on_product_idea__who_they_are__accuracy: 1.0000 - Understanding_of_competitors_and_landscape__accuracy: 1.0000 - GTM_Strategy_how_will_they_reach_out_to_consumers_accuracy: 1.0000 - Business_Model_how_will_they_earn_money_accuracy: 1.0000 - Team_accuracy: 1.0000 - Product_Differentiator__accuracy: 1.0000\n",
      "Epoch 206/250\n",
      "4/4 [==============================] - 0s 52ms/step - loss: 0.1203 - Identification_of_the_problem_plus_Understanding_gravity_of_problem__loss: 0.0165 - Sizing_of_the_problem_loss: 0.0100 - Clarity_on_product_idea__who_they_are__loss: 0.0086 - Understanding_of_competitors_and_landscape__loss: 0.0105 - GTM_Strategy_how_will_they_reach_out_to_consumers_loss: 0.0065 - Business_Model_how_will_they_earn_money_loss: 0.0209 - Team_loss: 0.0250 - Product_Differentiator__loss: 0.0222 - Identification_of_the_problem_plus_Understanding_gravity_of_problem__accuracy: 1.0000 - Sizing_of_the_problem_accuracy: 1.0000 - Clarity_on_product_idea__who_they_are__accuracy: 1.0000 - Understanding_of_competitors_and_landscape__accuracy: 1.0000 - GTM_Strategy_how_will_they_reach_out_to_consumers_accuracy: 1.0000 - Business_Model_how_will_they_earn_money_accuracy: 1.0000 - Team_accuracy: 1.0000 - Product_Differentiator__accuracy: 1.0000\n",
      "Epoch 207/250\n",
      "4/4 [==============================] - 0s 25ms/step - loss: 0.0986 - Identification_of_the_problem_plus_Understanding_gravity_of_problem__loss: 0.0224 - Sizing_of_the_problem_loss: 0.0055 - Clarity_on_product_idea__who_they_are__loss: 0.0185 - Understanding_of_competitors_and_landscape__loss: 0.0062 - GTM_Strategy_how_will_they_reach_out_to_consumers_loss: 0.0096 - Business_Model_how_will_they_earn_money_loss: 0.0116 - Team_loss: 0.0155 - Product_Differentiator__loss: 0.0092 - Identification_of_the_problem_plus_Understanding_gravity_of_problem__accuracy: 1.0000 - Sizing_of_the_problem_accuracy: 1.0000 - Clarity_on_product_idea__who_they_are__accuracy: 1.0000 - Understanding_of_competitors_and_landscape__accuracy: 1.0000 - GTM_Strategy_how_will_they_reach_out_to_consumers_accuracy: 1.0000 - Business_Model_how_will_they_earn_money_accuracy: 1.0000 - Team_accuracy: 1.0000 - Product_Differentiator__accuracy: 1.0000\n",
      "Epoch 208/250\n",
      "4/4 [==============================] - 0s 27ms/step - loss: 0.1249 - Identification_of_the_problem_plus_Understanding_gravity_of_problem__loss: 0.0252 - Sizing_of_the_problem_loss: 0.0124 - Clarity_on_product_idea__who_they_are__loss: 0.0048 - Understanding_of_competitors_and_landscape__loss: 0.0121 - GTM_Strategy_how_will_they_reach_out_to_consumers_loss: 0.0100 - Business_Model_how_will_they_earn_money_loss: 0.0132 - Team_loss: 0.0211 - Product_Differentiator__loss: 0.0262 - Identification_of_the_problem_plus_Understanding_gravity_of_problem__accuracy: 0.9750 - Sizing_of_the_problem_accuracy: 1.0000 - Clarity_on_product_idea__who_they_are__accuracy: 1.0000 - Understanding_of_competitors_and_landscape__accuracy: 1.0000 - GTM_Strategy_how_will_they_reach_out_to_consumers_accuracy: 1.0000 - Business_Model_how_will_they_earn_money_accuracy: 1.0000 - Team_accuracy: 1.0000 - Product_Differentiator__accuracy: 1.0000\n",
      "Epoch 209/250\n",
      "4/4 [==============================] - 0s 16ms/step - loss: 0.1357 - Identification_of_the_problem_plus_Understanding_gravity_of_problem__loss: 0.0063 - Sizing_of_the_problem_loss: 0.0123 - Clarity_on_product_idea__who_they_are__loss: 0.0475 - Understanding_of_competitors_and_landscape__loss: 0.0276 - GTM_Strategy_how_will_they_reach_out_to_consumers_loss: 0.0077 - Business_Model_how_will_they_earn_money_loss: 0.0172 - Team_loss: 0.0045 - Product_Differentiator__loss: 0.0126 - Identification_of_the_problem_plus_Understanding_gravity_of_problem__accuracy: 1.0000 - Sizing_of_the_problem_accuracy: 1.0000 - Clarity_on_product_idea__who_they_are__accuracy: 0.9750 - Understanding_of_competitors_and_landscape__accuracy: 1.0000 - GTM_Strategy_how_will_they_reach_out_to_consumers_accuracy: 1.0000 - Business_Model_how_will_they_earn_money_accuracy: 1.0000 - Team_accuracy: 1.0000 - Product_Differentiator__accuracy: 1.0000\n",
      "Epoch 210/250\n",
      "4/4 [==============================] - 0s 35ms/step - loss: 0.1153 - Identification_of_the_problem_plus_Understanding_gravity_of_problem__loss: 0.0120 - Sizing_of_the_problem_loss: 0.0116 - Clarity_on_product_idea__who_they_are__loss: 0.0117 - Understanding_of_competitors_and_landscape__loss: 0.0257 - GTM_Strategy_how_will_they_reach_out_to_consumers_loss: 0.0061 - Business_Model_how_will_they_earn_money_loss: 0.0079 - Team_loss: 0.0199 - Product_Differentiator__loss: 0.0203 - Identification_of_the_problem_plus_Understanding_gravity_of_problem__accuracy: 1.0000 - Sizing_of_the_problem_accuracy: 1.0000 - Clarity_on_product_idea__who_they_are__accuracy: 1.0000 - Understanding_of_competitors_and_landscape__accuracy: 1.0000 - GTM_Strategy_how_will_they_reach_out_to_consumers_accuracy: 1.0000 - Business_Model_how_will_they_earn_money_accuracy: 1.0000 - Team_accuracy: 1.0000 - Product_Differentiator__accuracy: 1.0000\n",
      "Epoch 211/250\n",
      "4/4 [==============================] - 0s 48ms/step - loss: 0.1362 - Identification_of_the_problem_plus_Understanding_gravity_of_problem__loss: 0.0259 - Sizing_of_the_problem_loss: 0.0049 - Clarity_on_product_idea__who_they_are__loss: 0.0102 - Understanding_of_competitors_and_landscape__loss: 0.0120 - GTM_Strategy_how_will_they_reach_out_to_consumers_loss: 0.0306 - Business_Model_how_will_they_earn_money_loss: 0.0325 - Team_loss: 0.0098 - Product_Differentiator__loss: 0.0104 - Identification_of_the_problem_plus_Understanding_gravity_of_problem__accuracy: 1.0000 - Sizing_of_the_problem_accuracy: 1.0000 - Clarity_on_product_idea__who_they_are__accuracy: 1.0000 - Understanding_of_competitors_and_landscape__accuracy: 1.0000 - GTM_Strategy_how_will_they_reach_out_to_consumers_accuracy: 0.9750 - Business_Model_how_will_they_earn_money_accuracy: 1.0000 - Team_accuracy: 1.0000 - Product_Differentiator__accuracy: 1.0000\n",
      "Epoch 212/250\n",
      "4/4 [==============================] - 0s 57ms/step - loss: 0.0855 - Identification_of_the_problem_plus_Understanding_gravity_of_problem__loss: 0.0128 - Sizing_of_the_problem_loss: 0.0089 - Clarity_on_product_idea__who_they_are__loss: 0.0142 - Understanding_of_competitors_and_landscape__loss: 0.0120 - GTM_Strategy_how_will_they_reach_out_to_consumers_loss: 0.0088 - Business_Model_how_will_they_earn_money_loss: 0.0167 - Team_loss: 0.0037 - Product_Differentiator__loss: 0.0084 - Identification_of_the_problem_plus_Understanding_gravity_of_problem__accuracy: 1.0000 - Sizing_of_the_problem_accuracy: 1.0000 - Clarity_on_product_idea__who_they_are__accuracy: 1.0000 - Understanding_of_competitors_and_landscape__accuracy: 1.0000 - GTM_Strategy_how_will_they_reach_out_to_consumers_accuracy: 1.0000 - Business_Model_how_will_they_earn_money_accuracy: 1.0000 - Team_accuracy: 1.0000 - Product_Differentiator__accuracy: 1.0000\n",
      "Epoch 213/250\n",
      "4/4 [==============================] - 0s 59ms/step - loss: 0.1172 - Identification_of_the_problem_plus_Understanding_gravity_of_problem__loss: 0.0093 - Sizing_of_the_problem_loss: 0.0195 - Clarity_on_product_idea__who_they_are__loss: 0.0049 - Understanding_of_competitors_and_landscape__loss: 0.0217 - GTM_Strategy_how_will_they_reach_out_to_consumers_loss: 0.0135 - Business_Model_how_will_they_earn_money_loss: 0.0264 - Team_loss: 0.0095 - Product_Differentiator__loss: 0.0124 - Identification_of_the_problem_plus_Understanding_gravity_of_problem__accuracy: 1.0000 - Sizing_of_the_problem_accuracy: 1.0000 - Clarity_on_product_idea__who_they_are__accuracy: 1.0000 - Understanding_of_competitors_and_landscape__accuracy: 1.0000 - GTM_Strategy_how_will_they_reach_out_to_consumers_accuracy: 1.0000 - Business_Model_how_will_they_earn_money_accuracy: 1.0000 - Team_accuracy: 1.0000 - Product_Differentiator__accuracy: 1.0000\n",
      "Epoch 214/250\n",
      "4/4 [==============================] - 0s 31ms/step - loss: 0.1382 - Identification_of_the_problem_plus_Understanding_gravity_of_problem__loss: 0.0126 - Sizing_of_the_problem_loss: 0.0128 - Clarity_on_product_idea__who_they_are__loss: 0.0284 - Understanding_of_competitors_and_landscape__loss: 0.0047 - GTM_Strategy_how_will_they_reach_out_to_consumers_loss: 0.0178 - Business_Model_how_will_they_earn_money_loss: 0.0109 - Team_loss: 0.0113 - Product_Differentiator__loss: 0.0397 - Identification_of_the_problem_plus_Understanding_gravity_of_problem__accuracy: 1.0000 - Sizing_of_the_problem_accuracy: 1.0000 - Clarity_on_product_idea__who_they_are__accuracy: 0.9750 - Understanding_of_competitors_and_landscape__accuracy: 1.0000 - GTM_Strategy_how_will_they_reach_out_to_consumers_accuracy: 1.0000 - Business_Model_how_will_they_earn_money_accuracy: 1.0000 - Team_accuracy: 1.0000 - Product_Differentiator__accuracy: 1.0000\n",
      "Epoch 215/250\n",
      "4/4 [==============================] - 0s 35ms/step - loss: 0.0975 - Identification_of_the_problem_plus_Understanding_gravity_of_problem__loss: 0.0087 - Sizing_of_the_problem_loss: 0.0039 - Clarity_on_product_idea__who_they_are__loss: 0.0026 - Understanding_of_competitors_and_landscape__loss: 0.0082 - GTM_Strategy_how_will_they_reach_out_to_consumers_loss: 0.0107 - Business_Model_how_will_they_earn_money_loss: 0.0299 - Team_loss: 0.0103 - Product_Differentiator__loss: 0.0231 - Identification_of_the_problem_plus_Understanding_gravity_of_problem__accuracy: 1.0000 - Sizing_of_the_problem_accuracy: 1.0000 - Clarity_on_product_idea__who_they_are__accuracy: 1.0000 - Understanding_of_competitors_and_landscape__accuracy: 1.0000 - GTM_Strategy_how_will_they_reach_out_to_consumers_accuracy: 1.0000 - Business_Model_how_will_they_earn_money_accuracy: 1.0000 - Team_accuracy: 1.0000 - Product_Differentiator__accuracy: 1.0000\n",
      "Epoch 216/250\n",
      "4/4 [==============================] - 0s 41ms/step - loss: 0.1047 - Identification_of_the_problem_plus_Understanding_gravity_of_problem__loss: 0.0070 - Sizing_of_the_problem_loss: 0.0056 - Clarity_on_product_idea__who_they_are__loss: 0.0483 - Understanding_of_competitors_and_landscape__loss: 0.0016 - GTM_Strategy_how_will_they_reach_out_to_consumers_loss: 0.0103 - Business_Model_how_will_they_earn_money_loss: 0.0067 - Team_loss: 0.0102 - Product_Differentiator__loss: 0.0149 - Identification_of_the_problem_plus_Understanding_gravity_of_problem__accuracy: 1.0000 - Sizing_of_the_problem_accuracy: 1.0000 - Clarity_on_product_idea__who_they_are__accuracy: 0.9750 - Understanding_of_competitors_and_landscape__accuracy: 1.0000 - GTM_Strategy_how_will_they_reach_out_to_consumers_accuracy: 1.0000 - Business_Model_how_will_they_earn_money_accuracy: 1.0000 - Team_accuracy: 1.0000 - Product_Differentiator__accuracy: 1.0000\n",
      "Epoch 217/250\n",
      "4/4 [==============================] - 0s 36ms/step - loss: 0.1475 - Identification_of_the_problem_plus_Understanding_gravity_of_problem__loss: 0.0116 - Sizing_of_the_problem_loss: 0.0053 - Clarity_on_product_idea__who_they_are__loss: 0.0114 - Understanding_of_competitors_and_landscape__loss: 0.0049 - GTM_Strategy_how_will_they_reach_out_to_consumers_loss: 0.0231 - Business_Model_how_will_they_earn_money_loss: 0.0550 - Team_loss: 0.0063 - Product_Differentiator__loss: 0.0300 - Identification_of_the_problem_plus_Understanding_gravity_of_problem__accuracy: 1.0000 - Sizing_of_the_problem_accuracy: 1.0000 - Clarity_on_product_idea__who_they_are__accuracy: 1.0000 - Understanding_of_competitors_and_landscape__accuracy: 1.0000 - GTM_Strategy_how_will_they_reach_out_to_consumers_accuracy: 1.0000 - Business_Model_how_will_they_earn_money_accuracy: 0.9500 - Team_accuracy: 1.0000 - Product_Differentiator__accuracy: 0.9750\n",
      "Epoch 218/250\n",
      "4/4 [==============================] - 0s 55ms/step - loss: 0.0990 - Identification_of_the_problem_plus_Understanding_gravity_of_problem__loss: 0.0087 - Sizing_of_the_problem_loss: 0.0190 - Clarity_on_product_idea__who_they_are__loss: 0.0195 - Understanding_of_competitors_and_landscape__loss: 0.0138 - GTM_Strategy_how_will_they_reach_out_to_consumers_loss: 0.0156 - Business_Model_how_will_they_earn_money_loss: 0.0049 - Team_loss: 0.0071 - Product_Differentiator__loss: 0.0105 - Identification_of_the_problem_plus_Understanding_gravity_of_problem__accuracy: 1.0000 - Sizing_of_the_problem_accuracy: 1.0000 - Clarity_on_product_idea__who_they_are__accuracy: 1.0000 - Understanding_of_competitors_and_landscape__accuracy: 1.0000 - GTM_Strategy_how_will_they_reach_out_to_consumers_accuracy: 1.0000 - Business_Model_how_will_they_earn_money_accuracy: 1.0000 - Team_accuracy: 1.0000 - Product_Differentiator__accuracy: 1.0000\n",
      "Epoch 219/250\n",
      "4/4 [==============================] - 0s 32ms/step - loss: 0.1345 - Identification_of_the_problem_plus_Understanding_gravity_of_problem__loss: 0.0044 - Sizing_of_the_problem_loss: 0.0153 - Clarity_on_product_idea__who_they_are__loss: 0.0091 - Understanding_of_competitors_and_landscape__loss: 0.0075 - GTM_Strategy_how_will_they_reach_out_to_consumers_loss: 0.0377 - Business_Model_how_will_they_earn_money_loss: 0.0291 - Team_loss: 0.0083 - Product_Differentiator__loss: 0.0230 - Identification_of_the_problem_plus_Understanding_gravity_of_problem__accuracy: 1.0000 - Sizing_of_the_problem_accuracy: 1.0000 - Clarity_on_product_idea__who_they_are__accuracy: 1.0000 - Understanding_of_competitors_and_landscape__accuracy: 1.0000 - GTM_Strategy_how_will_they_reach_out_to_consumers_accuracy: 0.9750 - Business_Model_how_will_they_earn_money_accuracy: 1.0000 - Team_accuracy: 1.0000 - Product_Differentiator__accuracy: 1.0000\n",
      "Epoch 220/250\n",
      "4/4 [==============================] - 0s 23ms/step - loss: 0.0632 - Identification_of_the_problem_plus_Understanding_gravity_of_problem__loss: 0.0123 - Sizing_of_the_problem_loss: 0.0047 - Clarity_on_product_idea__who_they_are__loss: 0.0058 - Understanding_of_competitors_and_landscape__loss: 0.0050 - GTM_Strategy_how_will_they_reach_out_to_consumers_loss: 0.0104 - Business_Model_how_will_they_earn_money_loss: 0.0147 - Team_loss: 0.0065 - Product_Differentiator__loss: 0.0038 - Identification_of_the_problem_plus_Understanding_gravity_of_problem__accuracy: 1.0000 - Sizing_of_the_problem_accuracy: 1.0000 - Clarity_on_product_idea__who_they_are__accuracy: 1.0000 - Understanding_of_competitors_and_landscape__accuracy: 1.0000 - GTM_Strategy_how_will_they_reach_out_to_consumers_accuracy: 1.0000 - Business_Model_how_will_they_earn_money_accuracy: 1.0000 - Team_accuracy: 1.0000 - Product_Differentiator__accuracy: 1.0000\n",
      "Epoch 221/250\n",
      "4/4 [==============================] - 0s 46ms/step - loss: 0.0823 - Identification_of_the_problem_plus_Understanding_gravity_of_problem__loss: 0.0082 - Sizing_of_the_problem_loss: 0.0182 - Clarity_on_product_idea__who_they_are__loss: 0.0054 - Understanding_of_competitors_and_landscape__loss: 0.0032 - GTM_Strategy_how_will_they_reach_out_to_consumers_loss: 0.0107 - Business_Model_how_will_they_earn_money_loss: 0.0108 - Team_loss: 0.0076 - Product_Differentiator__loss: 0.0182 - Identification_of_the_problem_plus_Understanding_gravity_of_problem__accuracy: 1.0000 - Sizing_of_the_problem_accuracy: 1.0000 - Clarity_on_product_idea__who_they_are__accuracy: 1.0000 - Understanding_of_competitors_and_landscape__accuracy: 1.0000 - GTM_Strategy_how_will_they_reach_out_to_consumers_accuracy: 1.0000 - Business_Model_how_will_they_earn_money_accuracy: 1.0000 - Team_accuracy: 1.0000 - Product_Differentiator__accuracy: 1.0000\n",
      "Epoch 222/250\n",
      "4/4 [==============================] - 0s 41ms/step - loss: 0.0849 - Identification_of_the_problem_plus_Understanding_gravity_of_problem__loss: 0.0066 - Sizing_of_the_problem_loss: 0.0190 - Clarity_on_product_idea__who_they_are__loss: 0.0120 - Understanding_of_competitors_and_landscape__loss: 0.0051 - GTM_Strategy_how_will_they_reach_out_to_consumers_loss: 0.0051 - Business_Model_how_will_they_earn_money_loss: 0.0086 - Team_loss: 0.0151 - Product_Differentiator__loss: 0.0134 - Identification_of_the_problem_plus_Understanding_gravity_of_problem__accuracy: 1.0000 - Sizing_of_the_problem_accuracy: 1.0000 - Clarity_on_product_idea__who_they_are__accuracy: 1.0000 - Understanding_of_competitors_and_landscape__accuracy: 1.0000 - GTM_Strategy_how_will_they_reach_out_to_consumers_accuracy: 1.0000 - Business_Model_how_will_they_earn_money_accuracy: 1.0000 - Team_accuracy: 1.0000 - Product_Differentiator__accuracy: 1.0000\n",
      "Epoch 223/250\n",
      "4/4 [==============================] - 0s 55ms/step - loss: 0.2033 - Identification_of_the_problem_plus_Understanding_gravity_of_problem__loss: 0.0108 - Sizing_of_the_problem_loss: 0.0206 - Clarity_on_product_idea__who_they_are__loss: 0.0517 - Understanding_of_competitors_and_landscape__loss: 0.0035 - GTM_Strategy_how_will_they_reach_out_to_consumers_loss: 0.0365 - Business_Model_how_will_they_earn_money_loss: 0.0139 - Team_loss: 0.0609 - Product_Differentiator__loss: 0.0053 - Identification_of_the_problem_plus_Understanding_gravity_of_problem__accuracy: 1.0000 - Sizing_of_the_problem_accuracy: 1.0000 - Clarity_on_product_idea__who_they_are__accuracy: 0.9750 - Understanding_of_competitors_and_landscape__accuracy: 1.0000 - GTM_Strategy_how_will_they_reach_out_to_consumers_accuracy: 1.0000 - Business_Model_how_will_they_earn_money_accuracy: 1.0000 - Team_accuracy: 0.9750 - Product_Differentiator__accuracy: 1.0000\n",
      "Epoch 224/250\n",
      "4/4 [==============================] - 0s 30ms/step - loss: 0.0988 - Identification_of_the_problem_plus_Understanding_gravity_of_problem__loss: 0.0090 - Sizing_of_the_problem_loss: 0.0244 - Clarity_on_product_idea__who_they_are__loss: 0.0073 - Understanding_of_competitors_and_landscape__loss: 0.0136 - GTM_Strategy_how_will_they_reach_out_to_consumers_loss: 0.0148 - Business_Model_how_will_they_earn_money_loss: 0.0103 - Team_loss: 0.0110 - Product_Differentiator__loss: 0.0084 - Identification_of_the_problem_plus_Understanding_gravity_of_problem__accuracy: 1.0000 - Sizing_of_the_problem_accuracy: 0.9750 - Clarity_on_product_idea__who_they_are__accuracy: 1.0000 - Understanding_of_competitors_and_landscape__accuracy: 1.0000 - GTM_Strategy_how_will_they_reach_out_to_consumers_accuracy: 1.0000 - Business_Model_how_will_they_earn_money_accuracy: 1.0000 - Team_accuracy: 1.0000 - Product_Differentiator__accuracy: 1.0000\n",
      "Epoch 225/250\n",
      "4/4 [==============================] - 0s 30ms/step - loss: 0.1042 - Identification_of_the_problem_plus_Understanding_gravity_of_problem__loss: 0.0174 - Sizing_of_the_problem_loss: 0.0071 - Clarity_on_product_idea__who_they_are__loss: 0.0302 - Understanding_of_competitors_and_landscape__loss: 0.0103 - GTM_Strategy_how_will_they_reach_out_to_consumers_loss: 0.0104 - Business_Model_how_will_they_earn_money_loss: 0.0083 - Team_loss: 0.0079 - Product_Differentiator__loss: 0.0127 - Identification_of_the_problem_plus_Understanding_gravity_of_problem__accuracy: 1.0000 - Sizing_of_the_problem_accuracy: 1.0000 - Clarity_on_product_idea__who_they_are__accuracy: 0.9750 - Understanding_of_competitors_and_landscape__accuracy: 1.0000 - GTM_Strategy_how_will_they_reach_out_to_consumers_accuracy: 1.0000 - Business_Model_how_will_they_earn_money_accuracy: 1.0000 - Team_accuracy: 1.0000 - Product_Differentiator__accuracy: 1.0000\n",
      "Epoch 226/250\n",
      "4/4 [==============================] - 0s 33ms/step - loss: 0.1158 - Identification_of_the_problem_plus_Understanding_gravity_of_problem__loss: 0.0063 - Sizing_of_the_problem_loss: 0.0216 - Clarity_on_product_idea__who_they_are__loss: 0.0050 - Understanding_of_competitors_and_landscape__loss: 0.0166 - GTM_Strategy_how_will_they_reach_out_to_consumers_loss: 0.0298 - Business_Model_how_will_they_earn_money_loss: 0.0229 - Team_loss: 0.0081 - Product_Differentiator__loss: 0.0054 - Identification_of_the_problem_plus_Understanding_gravity_of_problem__accuracy: 1.0000 - Sizing_of_the_problem_accuracy: 1.0000 - Clarity_on_product_idea__who_they_are__accuracy: 1.0000 - Understanding_of_competitors_and_landscape__accuracy: 1.0000 - GTM_Strategy_how_will_they_reach_out_to_consumers_accuracy: 1.0000 - Business_Model_how_will_they_earn_money_accuracy: 1.0000 - Team_accuracy: 1.0000 - Product_Differentiator__accuracy: 1.0000\n",
      "Epoch 227/250\n",
      "4/4 [==============================] - 0s 24ms/step - loss: 0.2228 - Identification_of_the_problem_plus_Understanding_gravity_of_problem__loss: 0.0113 - Sizing_of_the_problem_loss: 0.0226 - Clarity_on_product_idea__who_they_are__loss: 0.0622 - Understanding_of_competitors_and_landscape__loss: 0.0136 - GTM_Strategy_how_will_they_reach_out_to_consumers_loss: 0.0195 - Business_Model_how_will_they_earn_money_loss: 0.0354 - Team_loss: 0.0191 - Product_Differentiator__loss: 0.0392 - Identification_of_the_problem_plus_Understanding_gravity_of_problem__accuracy: 1.0000 - Sizing_of_the_problem_accuracy: 1.0000 - Clarity_on_product_idea__who_they_are__accuracy: 0.9500 - Understanding_of_competitors_and_landscape__accuracy: 1.0000 - GTM_Strategy_how_will_they_reach_out_to_consumers_accuracy: 1.0000 - Business_Model_how_will_they_earn_money_accuracy: 0.9750 - Team_accuracy: 1.0000 - Product_Differentiator__accuracy: 0.9750\n",
      "Epoch 228/250\n",
      "4/4 [==============================] - 0s 74ms/step - loss: 0.2184 - Identification_of_the_problem_plus_Understanding_gravity_of_problem__loss: 0.0371 - Sizing_of_the_problem_loss: 0.0932 - Clarity_on_product_idea__who_they_are__loss: 0.0210 - Understanding_of_competitors_and_landscape__loss: 0.0095 - GTM_Strategy_how_will_they_reach_out_to_consumers_loss: 0.0179 - Business_Model_how_will_they_earn_money_loss: 0.0210 - Team_loss: 0.0109 - Product_Differentiator__loss: 0.0078 - Identification_of_the_problem_plus_Understanding_gravity_of_problem__accuracy: 0.9750 - Sizing_of_the_problem_accuracy: 0.9500 - Clarity_on_product_idea__who_they_are__accuracy: 1.0000 - Understanding_of_competitors_and_landscape__accuracy: 1.0000 - GTM_Strategy_how_will_they_reach_out_to_consumers_accuracy: 1.0000 - Business_Model_how_will_they_earn_money_accuracy: 1.0000 - Team_accuracy: 1.0000 - Product_Differentiator__accuracy: 1.0000\n",
      "Epoch 229/250\n",
      "4/4 [==============================] - 0s 36ms/step - loss: 0.1822 - Identification_of_the_problem_plus_Understanding_gravity_of_problem__loss: 0.0050 - Sizing_of_the_problem_loss: 0.0052 - Clarity_on_product_idea__who_they_are__loss: 0.0605 - Understanding_of_competitors_and_landscape__loss: 0.0107 - GTM_Strategy_how_will_they_reach_out_to_consumers_loss: 0.0235 - Business_Model_how_will_they_earn_money_loss: 0.0090 - Team_loss: 0.0452 - Product_Differentiator__loss: 0.0231 - Identification_of_the_problem_plus_Understanding_gravity_of_problem__accuracy: 1.0000 - Sizing_of_the_problem_accuracy: 1.0000 - Clarity_on_product_idea__who_they_are__accuracy: 0.9750 - Understanding_of_competitors_and_landscape__accuracy: 1.0000 - GTM_Strategy_how_will_they_reach_out_to_consumers_accuracy: 1.0000 - Business_Model_how_will_they_earn_money_accuracy: 1.0000 - Team_accuracy: 1.0000 - Product_Differentiator__accuracy: 1.0000\n",
      "Epoch 230/250\n",
      "4/4 [==============================] - 0s 36ms/step - loss: 0.1543 - Identification_of_the_problem_plus_Understanding_gravity_of_problem__loss: 0.0655 - Sizing_of_the_problem_loss: 0.0044 - Clarity_on_product_idea__who_they_are__loss: 0.0176 - Understanding_of_competitors_and_landscape__loss: 0.0066 - GTM_Strategy_how_will_they_reach_out_to_consumers_loss: 0.0194 - Business_Model_how_will_they_earn_money_loss: 0.0100 - Team_loss: 0.0229 - Product_Differentiator__loss: 0.0080 - Identification_of_the_problem_plus_Understanding_gravity_of_problem__accuracy: 0.9750 - Sizing_of_the_problem_accuracy: 1.0000 - Clarity_on_product_idea__who_they_are__accuracy: 1.0000 - Understanding_of_competitors_and_landscape__accuracy: 1.0000 - GTM_Strategy_how_will_they_reach_out_to_consumers_accuracy: 1.0000 - Business_Model_how_will_they_earn_money_accuracy: 1.0000 - Team_accuracy: 1.0000 - Product_Differentiator__accuracy: 1.0000\n",
      "Epoch 231/250\n",
      "4/4 [==============================] - 0s 29ms/step - loss: 0.1329 - Identification_of_the_problem_plus_Understanding_gravity_of_problem__loss: 0.0080 - Sizing_of_the_problem_loss: 0.0022 - Clarity_on_product_idea__who_they_are__loss: 0.0076 - Understanding_of_competitors_and_landscape__loss: 0.0153 - GTM_Strategy_how_will_they_reach_out_to_consumers_loss: 0.0132 - Business_Model_how_will_they_earn_money_loss: 0.0377 - Team_loss: 0.0266 - Product_Differentiator__loss: 0.0222 - Identification_of_the_problem_plus_Understanding_gravity_of_problem__accuracy: 1.0000 - Sizing_of_the_problem_accuracy: 1.0000 - Clarity_on_product_idea__who_they_are__accuracy: 1.0000 - Understanding_of_competitors_and_landscape__accuracy: 1.0000 - GTM_Strategy_how_will_they_reach_out_to_consumers_accuracy: 1.0000 - Business_Model_how_will_they_earn_money_accuracy: 0.9750 - Team_accuracy: 0.9750 - Product_Differentiator__accuracy: 1.0000\n",
      "Epoch 232/250\n",
      "4/4 [==============================] - 0s 46ms/step - loss: 0.0817 - Identification_of_the_problem_plus_Understanding_gravity_of_problem__loss: 0.0054 - Sizing_of_the_problem_loss: 0.0173 - Clarity_on_product_idea__who_they_are__loss: 0.0020 - Understanding_of_competitors_and_landscape__loss: 0.0092 - GTM_Strategy_how_will_they_reach_out_to_consumers_loss: 0.0115 - Business_Model_how_will_they_earn_money_loss: 0.0120 - Team_loss: 0.0051 - Product_Differentiator__loss: 0.0193 - Identification_of_the_problem_plus_Understanding_gravity_of_problem__accuracy: 1.0000 - Sizing_of_the_problem_accuracy: 1.0000 - Clarity_on_product_idea__who_they_are__accuracy: 1.0000 - Understanding_of_competitors_and_landscape__accuracy: 1.0000 - GTM_Strategy_how_will_they_reach_out_to_consumers_accuracy: 1.0000 - Business_Model_how_will_they_earn_money_accuracy: 1.0000 - Team_accuracy: 1.0000 - Product_Differentiator__accuracy: 1.0000\n",
      "Epoch 233/250\n",
      "4/4 [==============================] - 0s 25ms/step - loss: 0.0992 - Identification_of_the_problem_plus_Understanding_gravity_of_problem__loss: 0.0140 - Sizing_of_the_problem_loss: 0.0117 - Clarity_on_product_idea__who_they_are__loss: 0.0069 - Understanding_of_competitors_and_landscape__loss: 0.0104 - GTM_Strategy_how_will_they_reach_out_to_consumers_loss: 0.0097 - Business_Model_how_will_they_earn_money_loss: 0.0242 - Team_loss: 0.0142 - Product_Differentiator__loss: 0.0082 - Identification_of_the_problem_plus_Understanding_gravity_of_problem__accuracy: 1.0000 - Sizing_of_the_problem_accuracy: 1.0000 - Clarity_on_product_idea__who_they_are__accuracy: 1.0000 - Understanding_of_competitors_and_landscape__accuracy: 1.0000 - GTM_Strategy_how_will_they_reach_out_to_consumers_accuracy: 1.0000 - Business_Model_how_will_they_earn_money_accuracy: 1.0000 - Team_accuracy: 1.0000 - Product_Differentiator__accuracy: 1.0000\n",
      "Epoch 234/250\n",
      "4/4 [==============================] - 0s 27ms/step - loss: 0.1611 - Identification_of_the_problem_plus_Understanding_gravity_of_problem__loss: 0.0450 - Sizing_of_the_problem_loss: 0.0091 - Clarity_on_product_idea__who_they_are__loss: 0.0275 - Understanding_of_competitors_and_landscape__loss: 0.0035 - GTM_Strategy_how_will_they_reach_out_to_consumers_loss: 0.0085 - Business_Model_how_will_they_earn_money_loss: 0.0100 - Team_loss: 0.0067 - Product_Differentiator__loss: 0.0508 - Identification_of_the_problem_plus_Understanding_gravity_of_problem__accuracy: 0.9750 - Sizing_of_the_problem_accuracy: 1.0000 - Clarity_on_product_idea__who_they_are__accuracy: 1.0000 - Understanding_of_competitors_and_landscape__accuracy: 1.0000 - GTM_Strategy_how_will_they_reach_out_to_consumers_accuracy: 1.0000 - Business_Model_how_will_they_earn_money_accuracy: 1.0000 - Team_accuracy: 1.0000 - Product_Differentiator__accuracy: 0.9750\n",
      "Epoch 235/250\n",
      "4/4 [==============================] - 0s 31ms/step - loss: 0.0989 - Identification_of_the_problem_plus_Understanding_gravity_of_problem__loss: 0.0221 - Sizing_of_the_problem_loss: 0.0173 - Clarity_on_product_idea__who_they_are__loss: 0.0034 - Understanding_of_competitors_and_landscape__loss: 0.0118 - GTM_Strategy_how_will_they_reach_out_to_consumers_loss: 0.0118 - Business_Model_how_will_they_earn_money_loss: 0.0126 - Team_loss: 0.0065 - Product_Differentiator__loss: 0.0133 - Identification_of_the_problem_plus_Understanding_gravity_of_problem__accuracy: 1.0000 - Sizing_of_the_problem_accuracy: 1.0000 - Clarity_on_product_idea__who_they_are__accuracy: 1.0000 - Understanding_of_competitors_and_landscape__accuracy: 1.0000 - GTM_Strategy_how_will_they_reach_out_to_consumers_accuracy: 1.0000 - Business_Model_how_will_they_earn_money_accuracy: 1.0000 - Team_accuracy: 1.0000 - Product_Differentiator__accuracy: 1.0000\n",
      "Epoch 236/250\n",
      "4/4 [==============================] - 0s 36ms/step - loss: 0.1474 - Identification_of_the_problem_plus_Understanding_gravity_of_problem__loss: 0.0663 - Sizing_of_the_problem_loss: 0.0175 - Clarity_on_product_idea__who_they_are__loss: 0.0114 - Understanding_of_competitors_and_landscape__loss: 0.0139 - GTM_Strategy_how_will_they_reach_out_to_consumers_loss: 0.0061 - Business_Model_how_will_they_earn_money_loss: 0.0068 - Team_loss: 0.0092 - Product_Differentiator__loss: 0.0162 - Identification_of_the_problem_plus_Understanding_gravity_of_problem__accuracy: 0.9750 - Sizing_of_the_problem_accuracy: 1.0000 - Clarity_on_product_idea__who_they_are__accuracy: 1.0000 - Understanding_of_competitors_and_landscape__accuracy: 1.0000 - GTM_Strategy_how_will_they_reach_out_to_consumers_accuracy: 1.0000 - Business_Model_how_will_they_earn_money_accuracy: 1.0000 - Team_accuracy: 1.0000 - Product_Differentiator__accuracy: 1.0000\n",
      "Epoch 237/250\n",
      "4/4 [==============================] - 0s 43ms/step - loss: 0.1654 - Identification_of_the_problem_plus_Understanding_gravity_of_problem__loss: 0.0960 - Sizing_of_the_problem_loss: 0.0144 - Clarity_on_product_idea__who_they_are__loss: 0.0094 - Understanding_of_competitors_and_landscape__loss: 0.0084 - GTM_Strategy_how_will_they_reach_out_to_consumers_loss: 0.0069 - Business_Model_how_will_they_earn_money_loss: 0.0135 - Team_loss: 0.0066 - Product_Differentiator__loss: 0.0103 - Identification_of_the_problem_plus_Understanding_gravity_of_problem__accuracy: 0.9500 - Sizing_of_the_problem_accuracy: 1.0000 - Clarity_on_product_idea__who_they_are__accuracy: 1.0000 - Understanding_of_competitors_and_landscape__accuracy: 1.0000 - GTM_Strategy_how_will_they_reach_out_to_consumers_accuracy: 1.0000 - Business_Model_how_will_they_earn_money_accuracy: 1.0000 - Team_accuracy: 1.0000 - Product_Differentiator__accuracy: 1.0000\n",
      "Epoch 238/250\n",
      "4/4 [==============================] - 0s 42ms/step - loss: 0.1381 - Identification_of_the_problem_plus_Understanding_gravity_of_problem__loss: 0.0045 - Sizing_of_the_problem_loss: 0.0074 - Clarity_on_product_idea__who_they_are__loss: 0.0236 - Understanding_of_competitors_and_landscape__loss: 0.0065 - GTM_Strategy_how_will_they_reach_out_to_consumers_loss: 0.0573 - Business_Model_how_will_they_earn_money_loss: 0.0130 - Team_loss: 0.0073 - Product_Differentiator__loss: 0.0185 - Identification_of_the_problem_plus_Understanding_gravity_of_problem__accuracy: 1.0000 - Sizing_of_the_problem_accuracy: 1.0000 - Clarity_on_product_idea__who_they_are__accuracy: 1.0000 - Understanding_of_competitors_and_landscape__accuracy: 1.0000 - GTM_Strategy_how_will_they_reach_out_to_consumers_accuracy: 0.9750 - Business_Model_how_will_they_earn_money_accuracy: 1.0000 - Team_accuracy: 1.0000 - Product_Differentiator__accuracy: 1.0000\n",
      "Epoch 239/250\n",
      "4/4 [==============================] - 0s 26ms/step - loss: 0.0776 - Identification_of_the_problem_plus_Understanding_gravity_of_problem__loss: 0.0063 - Sizing_of_the_problem_loss: 0.0039 - Clarity_on_product_idea__who_they_are__loss: 0.0057 - Understanding_of_competitors_and_landscape__loss: 0.0098 - GTM_Strategy_how_will_they_reach_out_to_consumers_loss: 0.0205 - Business_Model_how_will_they_earn_money_loss: 0.0151 - Team_loss: 0.0053 - Product_Differentiator__loss: 0.0109 - Identification_of_the_problem_plus_Understanding_gravity_of_problem__accuracy: 1.0000 - Sizing_of_the_problem_accuracy: 1.0000 - Clarity_on_product_idea__who_they_are__accuracy: 1.0000 - Understanding_of_competitors_and_landscape__accuracy: 1.0000 - GTM_Strategy_how_will_they_reach_out_to_consumers_accuracy: 1.0000 - Business_Model_how_will_they_earn_money_accuracy: 1.0000 - Team_accuracy: 1.0000 - Product_Differentiator__accuracy: 1.0000   \n",
      "Epoch 240/250\n",
      "4/4 [==============================] - 0s 33ms/step - loss: 0.0936 - Identification_of_the_problem_plus_Understanding_gravity_of_problem__loss: 0.0026 - Sizing_of_the_problem_loss: 0.0171 - Clarity_on_product_idea__who_they_are__loss: 0.0222 - Understanding_of_competitors_and_landscape__loss: 0.0143 - GTM_Strategy_how_will_they_reach_out_to_consumers_loss: 0.0045 - Business_Model_how_will_they_earn_money_loss: 0.0182 - Team_loss: 0.0053 - Product_Differentiator__loss: 0.0094 - Identification_of_the_problem_plus_Understanding_gravity_of_problem__accuracy: 1.0000 - Sizing_of_the_problem_accuracy: 1.0000 - Clarity_on_product_idea__who_they_are__accuracy: 0.9750 - Understanding_of_competitors_and_landscape__accuracy: 1.0000 - GTM_Strategy_how_will_they_reach_out_to_consumers_accuracy: 1.0000 - Business_Model_how_will_they_earn_money_accuracy: 1.0000 - Team_accuracy: 1.0000 - Product_Differentiator__accuracy: 1.0000\n",
      "Epoch 241/250\n",
      "4/4 [==============================] - 0s 40ms/step - loss: 0.1545 - Identification_of_the_problem_plus_Understanding_gravity_of_problem__loss: 0.0133 - Sizing_of_the_problem_loss: 0.0077 - Clarity_on_product_idea__who_they_are__loss: 0.0112 - Understanding_of_competitors_and_landscape__loss: 0.0271 - GTM_Strategy_how_will_they_reach_out_to_consumers_loss: 0.0570 - Business_Model_how_will_they_earn_money_loss: 0.0197 - Team_loss: 0.0081 - Product_Differentiator__loss: 0.0105 - Identification_of_the_problem_plus_Understanding_gravity_of_problem__accuracy: 1.0000 - Sizing_of_the_problem_accuracy: 1.0000 - Clarity_on_product_idea__who_they_are__accuracy: 1.0000 - Understanding_of_competitors_and_landscape__accuracy: 1.0000 - GTM_Strategy_how_will_they_reach_out_to_consumers_accuracy: 0.9750 - Business_Model_how_will_they_earn_money_accuracy: 1.0000 - Team_accuracy: 1.0000 - Product_Differentiator__accuracy: 1.0000\n",
      "Epoch 242/250\n",
      "4/4 [==============================] - 0s 26ms/step - loss: 0.1401 - Identification_of_the_problem_plus_Understanding_gravity_of_problem__loss: 0.0125 - Sizing_of_the_problem_loss: 0.0082 - Clarity_on_product_idea__who_they_are__loss: 0.0044 - Understanding_of_competitors_and_landscape__loss: 0.0318 - GTM_Strategy_how_will_they_reach_out_to_consumers_loss: 0.0344 - Business_Model_how_will_they_earn_money_loss: 0.0207 - Team_loss: 0.0144 - Product_Differentiator__loss: 0.0137 - Identification_of_the_problem_plus_Understanding_gravity_of_problem__accuracy: 1.0000 - Sizing_of_the_problem_accuracy: 1.0000 - Clarity_on_product_idea__who_they_are__accuracy: 1.0000 - Understanding_of_competitors_and_landscape__accuracy: 0.9750 - GTM_Strategy_how_will_they_reach_out_to_consumers_accuracy: 0.9750 - Business_Model_how_will_they_earn_money_accuracy: 1.0000 - Team_accuracy: 1.0000 - Product_Differentiator__accuracy: 1.0000\n",
      "Epoch 243/250\n",
      "4/4 [==============================] - 0s 29ms/step - loss: 0.1336 - Identification_of_the_problem_plus_Understanding_gravity_of_problem__loss: 0.0065 - Sizing_of_the_problem_loss: 0.0171 - Clarity_on_product_idea__who_they_are__loss: 0.0116 - Understanding_of_competitors_and_landscape__loss: 0.0138 - GTM_Strategy_how_will_they_reach_out_to_consumers_loss: 0.0317 - Business_Model_how_will_they_earn_money_loss: 0.0144 - Team_loss: 0.0088 - Product_Differentiator__loss: 0.0296 - Identification_of_the_problem_plus_Understanding_gravity_of_problem__accuracy: 1.0000 - Sizing_of_the_problem_accuracy: 1.0000 - Clarity_on_product_idea__who_they_are__accuracy: 1.0000 - Understanding_of_competitors_and_landscape__accuracy: 1.0000 - GTM_Strategy_how_will_they_reach_out_to_consumers_accuracy: 1.0000 - Business_Model_how_will_they_earn_money_accuracy: 1.0000 - Team_accuracy: 1.0000 - Product_Differentiator__accuracy: 1.0000\n",
      "Epoch 244/250\n",
      "4/4 [==============================] - 0s 26ms/step - loss: 0.0973 - Identification_of_the_problem_plus_Understanding_gravity_of_problem__loss: 0.0030 - Sizing_of_the_problem_loss: 0.0072 - Clarity_on_product_idea__who_they_are__loss: 0.0046 - Understanding_of_competitors_and_landscape__loss: 0.0306 - GTM_Strategy_how_will_they_reach_out_to_consumers_loss: 0.0209 - Business_Model_how_will_they_earn_money_loss: 0.0064 - Team_loss: 0.0123 - Product_Differentiator__loss: 0.0123 - Identification_of_the_problem_plus_Understanding_gravity_of_problem__accuracy: 1.0000 - Sizing_of_the_problem_accuracy: 1.0000 - Clarity_on_product_idea__who_they_are__accuracy: 1.0000 - Understanding_of_competitors_and_landscape__accuracy: 0.9750 - GTM_Strategy_how_will_they_reach_out_to_consumers_accuracy: 1.0000 - Business_Model_how_will_they_earn_money_accuracy: 1.0000 - Team_accuracy: 1.0000 - Product_Differentiator__accuracy: 1.0000\n",
      "Epoch 245/250\n",
      "4/4 [==============================] - 0s 15ms/step - loss: 0.1291 - Identification_of_the_problem_plus_Understanding_gravity_of_problem__loss: 0.0040 - Sizing_of_the_problem_loss: 0.0252 - Clarity_on_product_idea__who_they_are__loss: 0.0080 - Understanding_of_competitors_and_landscape__loss: 0.0235 - GTM_Strategy_how_will_they_reach_out_to_consumers_loss: 0.0092 - Business_Model_how_will_they_earn_money_loss: 0.0106 - Team_loss: 0.0076 - Product_Differentiator__loss: 0.0411 - Identification_of_the_problem_plus_Understanding_gravity_of_problem__accuracy: 1.0000 - Sizing_of_the_problem_accuracy: 0.9750 - Clarity_on_product_idea__who_they_are__accuracy: 1.0000 - Understanding_of_competitors_and_landscape__accuracy: 1.0000 - GTM_Strategy_how_will_they_reach_out_to_consumers_accuracy: 1.0000 - Business_Model_how_will_they_earn_money_accuracy: 1.0000 - Team_accuracy: 1.0000 - Product_Differentiator__accuracy: 1.0000\n",
      "Epoch 246/250\n",
      "4/4 [==============================] - 0s 15ms/step - loss: 0.1312 - Identification_of_the_problem_plus_Understanding_gravity_of_problem__loss: 0.0384 - Sizing_of_the_problem_loss: 0.0033 - Clarity_on_product_idea__who_they_are__loss: 0.0071 - Understanding_of_competitors_and_landscape__loss: 0.0090 - GTM_Strategy_how_will_they_reach_out_to_consumers_loss: 0.0144 - Business_Model_how_will_they_earn_money_loss: 0.0309 - Team_loss: 0.0244 - Product_Differentiator__loss: 0.0036 - Identification_of_the_problem_plus_Understanding_gravity_of_problem__accuracy: 0.9750 - Sizing_of_the_problem_accuracy: 1.0000 - Clarity_on_product_idea__who_they_are__accuracy: 1.0000 - Understanding_of_competitors_and_landscape__accuracy: 1.0000 - GTM_Strategy_how_will_they_reach_out_to_consumers_accuracy: 1.0000 - Business_Model_how_will_they_earn_money_accuracy: 0.9750 - Team_accuracy: 1.0000 - Product_Differentiator__accuracy: 1.0000\n",
      "Epoch 247/250\n",
      "4/4 [==============================] - 0s 14ms/step - loss: 0.1489 - Identification_of_the_problem_plus_Understanding_gravity_of_problem__loss: 0.0052 - Sizing_of_the_problem_loss: 0.0215 - Clarity_on_product_idea__who_they_are__loss: 0.0105 - Understanding_of_competitors_and_landscape__loss: 0.0126 - GTM_Strategy_how_will_they_reach_out_to_consumers_loss: 0.0112 - Business_Model_how_will_they_earn_money_loss: 0.0174 - Team_loss: 0.0093 - Product_Differentiator__loss: 0.0612 - Identification_of_the_problem_plus_Understanding_gravity_of_problem__accuracy: 1.0000 - Sizing_of_the_problem_accuracy: 1.0000 - Clarity_on_product_idea__who_they_are__accuracy: 1.0000 - Understanding_of_competitors_and_landscape__accuracy: 1.0000 - GTM_Strategy_how_will_they_reach_out_to_consumers_accuracy: 1.0000 - Business_Model_how_will_they_earn_money_accuracy: 1.0000 - Team_accuracy: 1.0000 - Product_Differentiator__accuracy: 1.0000\n",
      "Epoch 248/250\n",
      "4/4 [==============================] - 0s 15ms/step - loss: 0.1673 - Identification_of_the_problem_plus_Understanding_gravity_of_problem__loss: 0.0065 - Sizing_of_the_problem_loss: 0.0119 - Clarity_on_product_idea__who_they_are__loss: 0.0160 - Understanding_of_competitors_and_landscape__loss: 0.0162 - GTM_Strategy_how_will_they_reach_out_to_consumers_loss: 0.0547 - Business_Model_how_will_they_earn_money_loss: 0.0341 - Team_loss: 0.0155 - Product_Differentiator__loss: 0.0124 - Identification_of_the_problem_plus_Understanding_gravity_of_problem__accuracy: 1.0000 - Sizing_of_the_problem_accuracy: 1.0000 - Clarity_on_product_idea__who_they_are__accuracy: 1.0000 - Understanding_of_competitors_and_landscape__accuracy: 1.0000 - GTM_Strategy_how_will_they_reach_out_to_consumers_accuracy: 0.9750 - Business_Model_how_will_they_earn_money_accuracy: 1.0000 - Team_accuracy: 1.0000 - Product_Differentiator__accuracy: 1.0000\n",
      "Epoch 249/250\n",
      "4/4 [==============================] - 0s 16ms/step - loss: 0.2091 - Identification_of_the_problem_plus_Understanding_gravity_of_problem__loss: 0.0707 - Sizing_of_the_problem_loss: 0.0110 - Clarity_on_product_idea__who_they_are__loss: 0.0364 - Understanding_of_competitors_and_landscape__loss: 0.0034 - GTM_Strategy_how_will_they_reach_out_to_consumers_loss: 0.0508 - Business_Model_how_will_they_earn_money_loss: 0.0066 - Team_loss: 0.0207 - Product_Differentiator__loss: 0.0096 - Identification_of_the_problem_plus_Understanding_gravity_of_problem__accuracy: 0.9750 - Sizing_of_the_problem_accuracy: 1.0000 - Clarity_on_product_idea__who_they_are__accuracy: 1.0000 - Understanding_of_competitors_and_landscape__accuracy: 1.0000 - GTM_Strategy_how_will_they_reach_out_to_consumers_accuracy: 0.9750 - Business_Model_how_will_they_earn_money_accuracy: 1.0000 - Team_accuracy: 1.0000 - Product_Differentiator__accuracy: 1.0000\n",
      "Epoch 250/250\n",
      "4/4 [==============================] - 0s 15ms/step - loss: 0.1305 - Identification_of_the_problem_plus_Understanding_gravity_of_problem__loss: 0.0090 - Sizing_of_the_problem_loss: 0.0220 - Clarity_on_product_idea__who_they_are__loss: 0.0025 - Understanding_of_competitors_and_landscape__loss: 0.0036 - GTM_Strategy_how_will_they_reach_out_to_consumers_loss: 0.0064 - Business_Model_how_will_they_earn_money_loss: 0.0118 - Team_loss: 0.0035 - Product_Differentiator__loss: 0.0716 - Identification_of_the_problem_plus_Understanding_gravity_of_problem__accuracy: 1.0000 - Sizing_of_the_problem_accuracy: 1.0000 - Clarity_on_product_idea__who_they_are__accuracy: 1.0000 - Understanding_of_competitors_and_landscape__accuracy: 1.0000 - GTM_Strategy_how_will_they_reach_out_to_consumers_accuracy: 1.0000 - Business_Model_how_will_they_earn_money_accuracy: 1.0000 - Team_accuracy: 1.0000 - Product_Differentiator__accuracy: 0.9750\n"
     ]
    },
    {
     "data": {
      "text/plain": [
       "<keras.src.callbacks.History at 0x7ba840867940>"
      ]
     },
     "execution_count": 122,
     "metadata": {},
     "output_type": "execute_result"
    }
   ],
   "source": [
    "model.fit(\n",
    "    X_train_tfidf.toarray(),\n",
    "    [y_train_one_hot[key] for key in y_train_one_hot.keys()],  # List of target arrays\n",
    "    epochs=250,\n",
    "    batch_size=10\n",
    ")"
   ]
  },
  {
   "cell_type": "code",
   "execution_count": 123,
   "metadata": {
    "colab": {
     "base_uri": "https://localhost:8080/"
    },
    "id": "fIJiVwbz_tcP",
    "outputId": "77ce4ae9-6bce-4435-d6c6-07d2f7925276"
   },
   "outputs": [
    {
     "name": "stdout",
     "output_type": "stream",
     "text": [
      "1/1 [==============================] - 0s 122ms/step\n",
      "Accuracy for Identification of the problem + Understanding gravity of problem : 20.00%\n",
      "Accuracy for Sizing of the problem: 33.33%\n",
      "Accuracy for Clarity on product idea/ who they are : 20.00%\n",
      "Accuracy for Understanding of competitors and landscape : 20.00%\n",
      "Accuracy for GTM Strategy (how will they reach out to consumers): 20.00%\n",
      "Accuracy for Business Model (how will they earn money): 26.67%\n",
      "Accuracy for Team: 13.33%\n",
      "Accuracy for Product Differentiator : 26.67%\n",
      "Overall Accuracy: 22.50%\n"
     ]
    }
   ],
   "source": [
    "from sklearn.metrics import accuracy_score\n",
    "\n",
    "# Predict on the test set\n",
    "predictions = model.predict(X_test_tfidf.toarray())\n",
    "\n",
    "# Inverse transform the predictions to get original labels\n",
    "predicted_labels = {}\n",
    "for i, key in enumerate(y_train_one_hot.keys()):\n",
    "    predicted_labels[key] = encoders[key].inverse_transform(np.argmax(predictions[i], axis=1))\n",
    "\n",
    "# Calculate accuracy for each parameter\n",
    "accuracies = {}\n",
    "for key in y_test_encoded:\n",
    "    true_labels = y_test_encoded[key]\n",
    "    predicted = predicted_labels[key]\n",
    "    accuracies[key] = accuracy_score(true_labels, predicted)\n",
    "\n",
    "# Print accuracies for each parameter\n",
    "for key, acc in accuracies.items():\n",
    "    print(f\"Accuracy for {key}: {acc * 100:.2f}%\")\n",
    "\n",
    "# Calculate overall accuracy\n",
    "overall_accuracy = np.mean(list(accuracies.values()))\n",
    "print(f\"Overall Accuracy: {overall_accuracy * 100:.2f}%\")\n"
   ]
  },
  {
   "cell_type": "code",
   "execution_count": 124,
   "metadata": {
    "colab": {
     "base_uri": "https://localhost:8080/"
    },
    "id": "d-3tUYtkp61g",
    "outputId": "1cda81a5-c7b4-4160-ba5d-c2090c81a1b4"
   },
   "outputs": [
    {
     "name": "stdout",
     "output_type": "stream",
     "text": [
      "1/1 [==============================] - 0s 23ms/step\n",
      "Startup 1 Scores:\n",
      "  Identification of the problem + Understanding gravity of problem : 3.0 (Weighted Score: 0.45)\n",
      "  Sizing of the problem: 1 (Weighted Score: 0.10)\n",
      "  Clarity on product idea/ who they are : 3 (Weighted Score: 0.30)\n",
      "  Understanding of competitors and landscape : 3 (Weighted Score: 0.30)\n",
      "  GTM Strategy (how will they reach out to consumers): 1 (Weighted Score: 0.10)\n",
      "  Business Model (how will they earn money): 1 (Weighted Score: 0.10)\n",
      "  Team: 1 (Weighted Score: 0.20)\n",
      "  Product Differentiator : 1 (Weighted Score: 0.15)\n",
      "  Total Weighted Score: 1.70\n",
      "\n",
      "Startup 2 Scores:\n",
      "  Identification of the problem + Understanding gravity of problem : 2.0 (Weighted Score: 0.30)\n",
      "  Sizing of the problem: 1 (Weighted Score: 0.10)\n",
      "  Clarity on product idea/ who they are : 3 (Weighted Score: 0.30)\n",
      "  Understanding of competitors and landscape : 1 (Weighted Score: 0.10)\n",
      "  GTM Strategy (how will they reach out to consumers): 1 (Weighted Score: 0.10)\n",
      "  Business Model (how will they earn money): 1 (Weighted Score: 0.10)\n",
      "  Team: 1 (Weighted Score: 0.20)\n",
      "  Product Differentiator : 2 (Weighted Score: 0.30)\n",
      "  Total Weighted Score: 1.50\n",
      "\n",
      "Startup 3 Scores:\n",
      "  Identification of the problem + Understanding gravity of problem : 3.0 (Weighted Score: 0.45)\n",
      "  Sizing of the problem: 2 (Weighted Score: 0.20)\n",
      "  Clarity on product idea/ who they are : 3 (Weighted Score: 0.30)\n",
      "  Understanding of competitors and landscape : 1 (Weighted Score: 0.10)\n",
      "  GTM Strategy (how will they reach out to consumers): 2 (Weighted Score: 0.20)\n",
      "  Business Model (how will they earn money): 1 (Weighted Score: 0.10)\n",
      "  Team: 1 (Weighted Score: 0.20)\n",
      "  Product Differentiator : 1 (Weighted Score: 0.15)\n",
      "  Total Weighted Score: 1.70\n",
      "\n",
      "Startup 4 Scores:\n",
      "  Identification of the problem + Understanding gravity of problem : 3.0 (Weighted Score: 0.45)\n",
      "  Sizing of the problem: 2 (Weighted Score: 0.20)\n",
      "  Clarity on product idea/ who they are : 2 (Weighted Score: 0.20)\n",
      "  Understanding of competitors and landscape : 1 (Weighted Score: 0.10)\n",
      "  GTM Strategy (how will they reach out to consumers): 1 (Weighted Score: 0.10)\n",
      "  Business Model (how will they earn money): 1 (Weighted Score: 0.10)\n",
      "  Team: 1 (Weighted Score: 0.20)\n",
      "  Product Differentiator : 1 (Weighted Score: 0.15)\n",
      "  Total Weighted Score: 1.50\n",
      "\n",
      "Startup 5 Scores:\n",
      "  Identification of the problem + Understanding gravity of problem : 2.0 (Weighted Score: 0.30)\n",
      "  Sizing of the problem: 2 (Weighted Score: 0.20)\n",
      "  Clarity on product idea/ who they are : 3 (Weighted Score: 0.30)\n",
      "  Understanding of competitors and landscape : 1 (Weighted Score: 0.10)\n",
      "  GTM Strategy (how will they reach out to consumers): 1 (Weighted Score: 0.10)\n",
      "  Business Model (how will they earn money): 2 (Weighted Score: 0.20)\n",
      "  Team: 1 (Weighted Score: 0.20)\n",
      "  Product Differentiator : 2 (Weighted Score: 0.30)\n",
      "  Total Weighted Score: 1.70\n",
      "\n",
      "Startup 6 Scores:\n",
      "  Identification of the problem + Understanding gravity of problem : 2.0 (Weighted Score: 0.30)\n",
      "  Sizing of the problem: 2 (Weighted Score: 0.20)\n",
      "  Clarity on product idea/ who they are : 2 (Weighted Score: 0.20)\n",
      "  Understanding of competitors and landscape : 1 (Weighted Score: 0.10)\n",
      "  GTM Strategy (how will they reach out to consumers): 1 (Weighted Score: 0.10)\n",
      "  Business Model (how will they earn money): 2 (Weighted Score: 0.20)\n",
      "  Team: 1 (Weighted Score: 0.20)\n",
      "  Product Differentiator : 1 (Weighted Score: 0.15)\n",
      "  Total Weighted Score: 1.45\n",
      "\n",
      "Startup 7 Scores:\n",
      "  Identification of the problem + Understanding gravity of problem : 2.0 (Weighted Score: 0.30)\n",
      "  Sizing of the problem: 2 (Weighted Score: 0.20)\n",
      "  Clarity on product idea/ who they are : 2 (Weighted Score: 0.20)\n",
      "  Understanding of competitors and landscape : 1 (Weighted Score: 0.10)\n",
      "  GTM Strategy (how will they reach out to consumers): 2 (Weighted Score: 0.20)\n",
      "  Business Model (how will they earn money): 2 (Weighted Score: 0.20)\n",
      "  Team: 1 (Weighted Score: 0.20)\n",
      "  Product Differentiator : 1 (Weighted Score: 0.15)\n",
      "  Total Weighted Score: 1.55\n",
      "\n",
      "Startup 8 Scores:\n",
      "  Identification of the problem + Understanding gravity of problem : 3.0 (Weighted Score: 0.45)\n",
      "  Sizing of the problem: 2 (Weighted Score: 0.20)\n",
      "  Clarity on product idea/ who they are : 3 (Weighted Score: 0.30)\n",
      "  Understanding of competitors and landscape : 1 (Weighted Score: 0.10)\n",
      "  GTM Strategy (how will they reach out to consumers): 2 (Weighted Score: 0.20)\n",
      "  Business Model (how will they earn money): 3 (Weighted Score: 0.30)\n",
      "  Team: 1 (Weighted Score: 0.20)\n",
      "  Product Differentiator : 2 (Weighted Score: 0.30)\n",
      "  Total Weighted Score: 2.05\n",
      "\n",
      "Startup 9 Scores:\n",
      "  Identification of the problem + Understanding gravity of problem : 3.0 (Weighted Score: 0.45)\n",
      "  Sizing of the problem: 3 (Weighted Score: 0.30)\n",
      "  Clarity on product idea/ who they are : 3 (Weighted Score: 0.30)\n",
      "  Understanding of competitors and landscape : 2 (Weighted Score: 0.20)\n",
      "  GTM Strategy (how will they reach out to consumers): 2 (Weighted Score: 0.20)\n",
      "  Business Model (how will they earn money): 1 (Weighted Score: 0.10)\n",
      "  Team: 1 (Weighted Score: 0.20)\n",
      "  Product Differentiator : 3 (Weighted Score: 0.45)\n",
      "  Total Weighted Score: 2.20\n",
      "\n",
      "Startup 10 Scores:\n",
      "  Identification of the problem + Understanding gravity of problem : 2.0 (Weighted Score: 0.30)\n",
      "  Sizing of the problem: 1 (Weighted Score: 0.10)\n",
      "  Clarity on product idea/ who they are : 2 (Weighted Score: 0.20)\n",
      "  Understanding of competitors and landscape : 1 (Weighted Score: 0.10)\n",
      "  GTM Strategy (how will they reach out to consumers): 1 (Weighted Score: 0.10)\n",
      "  Business Model (how will they earn money): 1 (Weighted Score: 0.10)\n",
      "  Team: 1 (Weighted Score: 0.20)\n",
      "  Product Differentiator : 1 (Weighted Score: 0.15)\n",
      "  Total Weighted Score: 1.25\n",
      "\n",
      "Startup 11 Scores:\n",
      "  Identification of the problem + Understanding gravity of problem : 2.0 (Weighted Score: 0.30)\n",
      "  Sizing of the problem: 2 (Weighted Score: 0.20)\n",
      "  Clarity on product idea/ who they are : 3 (Weighted Score: 0.30)\n",
      "  Understanding of competitors and landscape : 1 (Weighted Score: 0.10)\n",
      "  GTM Strategy (how will they reach out to consumers): 1 (Weighted Score: 0.10)\n",
      "  Business Model (how will they earn money): 2 (Weighted Score: 0.20)\n",
      "  Team: 1 (Weighted Score: 0.20)\n",
      "  Product Differentiator : 2 (Weighted Score: 0.30)\n",
      "  Total Weighted Score: 1.70\n",
      "\n",
      "Startup 12 Scores:\n",
      "  Identification of the problem + Understanding gravity of problem : 3.0 (Weighted Score: 0.45)\n",
      "  Sizing of the problem: 2 (Weighted Score: 0.20)\n",
      "  Clarity on product idea/ who they are : 3 (Weighted Score: 0.30)\n",
      "  Understanding of competitors and landscape : 1 (Weighted Score: 0.10)\n",
      "  GTM Strategy (how will they reach out to consumers): 2 (Weighted Score: 0.20)\n",
      "  Business Model (how will they earn money): 2 (Weighted Score: 0.20)\n",
      "  Team: 1 (Weighted Score: 0.20)\n",
      "  Product Differentiator : 2 (Weighted Score: 0.30)\n",
      "  Total Weighted Score: 1.95\n",
      "\n",
      "Startup 13 Scores:\n",
      "  Identification of the problem + Understanding gravity of problem : 2.0 (Weighted Score: 0.30)\n",
      "  Sizing of the problem: 2 (Weighted Score: 0.20)\n",
      "  Clarity on product idea/ who they are : 2 (Weighted Score: 0.20)\n",
      "  Understanding of competitors and landscape : 1 (Weighted Score: 0.10)\n",
      "  GTM Strategy (how will they reach out to consumers): 1 (Weighted Score: 0.10)\n",
      "  Business Model (how will they earn money): 2 (Weighted Score: 0.20)\n",
      "  Team: 1 (Weighted Score: 0.20)\n",
      "  Product Differentiator : 1 (Weighted Score: 0.15)\n",
      "  Total Weighted Score: 1.45\n",
      "\n",
      "Startup 14 Scores:\n",
      "  Identification of the problem + Understanding gravity of problem : 2.0 (Weighted Score: 0.30)\n",
      "  Sizing of the problem: 2 (Weighted Score: 0.20)\n",
      "  Clarity on product idea/ who they are : 2 (Weighted Score: 0.20)\n",
      "  Understanding of competitors and landscape : 1 (Weighted Score: 0.10)\n",
      "  GTM Strategy (how will they reach out to consumers): 1 (Weighted Score: 0.10)\n",
      "  Business Model (how will they earn money): 1 (Weighted Score: 0.10)\n",
      "  Team: 1 (Weighted Score: 0.20)\n",
      "  Product Differentiator : 2 (Weighted Score: 0.30)\n",
      "  Total Weighted Score: 1.50\n",
      "\n",
      "Startup 15 Scores:\n",
      "  Identification of the problem + Understanding gravity of problem : 2.0 (Weighted Score: 0.30)\n",
      "  Sizing of the problem: 3 (Weighted Score: 0.30)\n",
      "  Clarity on product idea/ who they are : 3 (Weighted Score: 0.30)\n",
      "  Understanding of competitors and landscape : 1 (Weighted Score: 0.10)\n",
      "  GTM Strategy (how will they reach out to consumers): 1 (Weighted Score: 0.10)\n",
      "  Business Model (how will they earn money): 1 (Weighted Score: 0.10)\n",
      "  Team: 1 (Weighted Score: 0.20)\n",
      "  Product Differentiator : 2 (Weighted Score: 0.30)\n",
      "  Total Weighted Score: 1.70\n",
      "\n"
     ]
    }
   ],
   "source": [
    "# Predict on the test set\n",
    "predictions = model.predict(X_test_tfidf.toarray())\n",
    "\n",
    "# Inverse transform the predictions to get original labels\n",
    "predicted_labels = {key: encoders[key].inverse_transform(np.argmax(predictions[i], axis=1)) for i, key in enumerate(y_train_one_hot.keys())}\n",
    "\n",
    "# Define the weightages for each parameter\n",
    "weightages = {\n",
    "    'Identification of the problem + Understanding gravity of problem ': 0.15,\n",
    "    'Sizing of the problem': 0.10,\n",
    "    'Clarity on product idea/ who they are ': 0.10,\n",
    "    'Understanding of competitors and landscape ': 0.10,\n",
    "    'GTM Strategy (how will they reach out to consumers)': 0.10,\n",
    "    'Business Model (how will they earn money)': 0.10,\n",
    "    'Team': 0.20,\n",
    "    'Product Differentiator ': 0.15\n",
    "}\n",
    "\n",
    "# Function to calculate and print the total weighted score along with individual parameter scores\n",
    "def calculate_and_print_scores(predicted_labels, weightages):\n",
    "    for i in range(len(X_test)):\n",
    "        print(f\"Startup {i + 1} Scores:\")\n",
    "        total_score = 0\n",
    "        for key in predicted_labels:\n",
    "            # Calculate individual weighted score\n",
    "            individual_score = predicted_labels[key][i] * weightages[key]\n",
    "            total_score += individual_score\n",
    "            print(f\"  {key}: {predicted_labels[key][i]} (Weighted Score: {individual_score:.2f})\")\n",
    "        # Print total score\n",
    "        print(f\"  Total Weighted Score: {total_score:.2f}\")\n",
    "        print(\"\")\n",
    "\n",
    "# Calculate and print the scores for the test set\n",
    "calculate_and_print_scores(predicted_labels, weightages)\n"
   ]
  },
  {
   "cell_type": "code",
   "execution_count": 125,
   "metadata": {
    "colab": {
     "base_uri": "https://localhost:8080/"
    },
    "id": "kqguOxFCLtss",
    "outputId": "bdd6078a-10a6-4fb5-96ca-41c3b8e053f7"
   },
   "outputs": [
    {
     "name": "stdout",
     "output_type": "stream",
     "text": [
      "Tuning hyperparameters for Identification of the problem + Understanding gravity of problem ...\n"
     ]
    },
    {
     "name": "stderr",
     "output_type": "stream",
     "text": [
      "/usr/local/lib/python3.10/dist-packages/sklearn/model_selection/_split.py:700: UserWarning: The least populated class in y has only 1 members, which is less than n_splits=5.\n",
      "  warnings.warn(\n"
     ]
    },
    {
     "name": "stdout",
     "output_type": "stream",
     "text": [
      "Best number of estimators for Identification of the problem + Understanding gravity of problem : 10\n",
      "Tuning hyperparameters for Sizing of the problem...\n",
      "Best number of estimators for Sizing of the problem: 200\n",
      "Tuning hyperparameters for Clarity on product idea/ who they are ...\n"
     ]
    },
    {
     "name": "stderr",
     "output_type": "stream",
     "text": [
      "/usr/local/lib/python3.10/dist-packages/sklearn/model_selection/_split.py:700: UserWarning: The least populated class in y has only 3 members, which is less than n_splits=5.\n",
      "  warnings.warn(\n"
     ]
    },
    {
     "name": "stdout",
     "output_type": "stream",
     "text": [
      "Best number of estimators for Clarity on product idea/ who they are : 50\n",
      "Tuning hyperparameters for Understanding of competitors and landscape ...\n",
      "Best number of estimators for Understanding of competitors and landscape : 10\n",
      "Tuning hyperparameters for GTM Strategy (how will they reach out to consumers)...\n",
      "Best number of estimators for GTM Strategy (how will they reach out to consumers): 100\n",
      "Tuning hyperparameters for Business Model (how will they earn money)...\n",
      "Best number of estimators for Business Model (how will they earn money): 500\n",
      "Tuning hyperparameters for Team...\n"
     ]
    },
    {
     "name": "stderr",
     "output_type": "stream",
     "text": [
      "/usr/local/lib/python3.10/dist-packages/sklearn/model_selection/_split.py:700: UserWarning: The least populated class in y has only 3 members, which is less than n_splits=5.\n",
      "  warnings.warn(\n"
     ]
    },
    {
     "name": "stdout",
     "output_type": "stream",
     "text": [
      "Best number of estimators for Team: 10\n",
      "Tuning hyperparameters for Product Differentiator ...\n"
     ]
    },
    {
     "name": "stderr",
     "output_type": "stream",
     "text": [
      "/usr/local/lib/python3.10/dist-packages/sklearn/model_selection/_split.py:700: UserWarning: The least populated class in y has only 4 members, which is less than n_splits=5.\n",
      "  warnings.warn(\n"
     ]
    },
    {
     "name": "stdout",
     "output_type": "stream",
     "text": [
      "Best number of estimators for Product Differentiator : 200\n"
     ]
    }
   ],
   "source": [
    "from sklearn.ensemble import RandomForestClassifier\n",
    "from sklearn.model_selection import GridSearchCV\n",
    "\n",
    "\n",
    "param_grid = {\n",
    "    'n_estimators': [10, 50, 100, 200, 500]  \n",
    "}\n",
    "\n",
    "# Initialize the model\n",
    "rf = RandomForestClassifier(random_state=42)\n",
    "grid_search = GridSearchCV(estimator=rf, param_grid=param_grid, cv=5, scoring='accuracy', n_jobs=-1)\n",
    "\n",
    "# Perform Grid Search for each output column separately\n",
    "best_estimators = {}\n",
    "for col in y_train_encoded.columns:\n",
    "    print(f\"Tuning hyperparameters for {col}...\")\n",
    "    grid_search.fit(X_train_tfidf, y_train_encoded[col])\n",
    "    best_estimators[col] = grid_search.best_params_['n_estimators']\n",
    "    print(f\"Best number of estimators for {col}: {best_estimators[col]}\")\n"
   ]
  },
  {
   "cell_type": "code",
   "execution_count": 126,
   "metadata": {
    "id": "oFDgxxMNJHLW"
   },
   "outputs": [],
   "source": [
    "from sklearn.ensemble import RandomForestClassifier\n",
    "from sklearn.metrics import accuracy_score\n",
    "\n",
    "# Train Random Forest models\n",
    "rf_models = {}\n",
    "rf_accuracies = {}\n",
    "for col in y_train_encoded.columns:\n",
    "    best_n_estimators = best_estimators[col]\n",
    "    rf = RandomForestClassifier(n_estimators=best_n_estimators, random_state=42)\n",
    "    rf.fit(X_train_tfidf, y_train_encoded[col])\n",
    "    rf_models[col] = rf\n",
    "    y_pred = rf.predict(X_test_tfidf)\n",
    "    rf_accuracies[col] = accuracy_score(y_test_encoded[col], y_pred)\n"
   ]
  },
  {
   "cell_type": "code",
   "execution_count": 127,
   "metadata": {
    "colab": {
     "base_uri": "https://localhost:8080/"
    },
    "id": "vK-_gxw2JJi2",
    "outputId": "7a7a8ca6-9116-4d93-cd24-2737363b158f"
   },
   "outputs": [
    {
     "data": {
      "text/plain": [
       "{'Identification of the problem + Understanding gravity of problem ': 0.5333333333333333,\n",
       " 'Sizing of the problem': 0.5333333333333333,\n",
       " 'Clarity on product idea/ who they are ': 0.6,\n",
       " 'Understanding of competitors and landscape ': 0.6,\n",
       " 'GTM Strategy (how will they reach out to consumers)': 0.4666666666666667,\n",
       " 'Business Model (how will they earn money)': 0.6666666666666666,\n",
       " 'Team': 0.8666666666666667,\n",
       " 'Product Differentiator ': 0.4}"
      ]
     },
     "execution_count": 127,
     "metadata": {},
     "output_type": "execute_result"
    }
   ],
   "source": [
    "rf_accuracies"
   ]
  },
  {
   "cell_type": "code",
   "execution_count": 128,
   "metadata": {
    "colab": {
     "base_uri": "https://localhost:8080/"
    },
    "id": "cRkNMmUGMJHw",
    "outputId": "6f3d8ccd-fff3-4085-b4d8-92a3e470c386"
   },
   "outputs": [
    {
     "name": "stdout",
     "output_type": "stream",
     "text": [
      "Tuning hyperparameters for Identification of the problem + Understanding gravity of problem ...\n"
     ]
    },
    {
     "name": "stderr",
     "output_type": "stream",
     "text": [
      "/usr/local/lib/python3.10/dist-packages/sklearn/model_selection/_split.py:700: UserWarning: The least populated class in y has only 1 members, which is less than n_splits=5.\n",
      "  warnings.warn(\n"
     ]
    },
    {
     "name": "stdout",
     "output_type": "stream",
     "text": [
      "Best number of estimators for Identification of the problem + Understanding gravity of problem : 10\n",
      "Tuning hyperparameters for Sizing of the problem...\n",
      "Best number of estimators for Sizing of the problem: 10\n",
      "Tuning hyperparameters for Clarity on product idea/ who they are ...\n"
     ]
    },
    {
     "name": "stderr",
     "output_type": "stream",
     "text": [
      "/usr/local/lib/python3.10/dist-packages/sklearn/model_selection/_split.py:700: UserWarning: The least populated class in y has only 3 members, which is less than n_splits=5.\n",
      "  warnings.warn(\n"
     ]
    },
    {
     "name": "stdout",
     "output_type": "stream",
     "text": [
      "Best number of estimators for Clarity on product idea/ who they are : 200\n",
      "Tuning hyperparameters for Understanding of competitors and landscape ...\n",
      "Best number of estimators for Understanding of competitors and landscape : 10\n",
      "Tuning hyperparameters for GTM Strategy (how will they reach out to consumers)...\n",
      "Best number of estimators for GTM Strategy (how will they reach out to consumers): 10\n",
      "Tuning hyperparameters for Business Model (how will they earn money)...\n",
      "Best number of estimators for Business Model (how will they earn money): 50\n",
      "Tuning hyperparameters for Team...\n"
     ]
    },
    {
     "name": "stderr",
     "output_type": "stream",
     "text": [
      "/usr/local/lib/python3.10/dist-packages/sklearn/model_selection/_split.py:700: UserWarning: The least populated class in y has only 3 members, which is less than n_splits=5.\n",
      "  warnings.warn(\n"
     ]
    },
    {
     "name": "stdout",
     "output_type": "stream",
     "text": [
      "Best number of estimators for Team: 10\n",
      "Tuning hyperparameters for Product Differentiator ...\n"
     ]
    },
    {
     "name": "stderr",
     "output_type": "stream",
     "text": [
      "/usr/local/lib/python3.10/dist-packages/sklearn/model_selection/_split.py:700: UserWarning: The least populated class in y has only 4 members, which is less than n_splits=5.\n",
      "  warnings.warn(\n"
     ]
    },
    {
     "name": "stdout",
     "output_type": "stream",
     "text": [
      "Best number of estimators for Product Differentiator : 10\n"
     ]
    }
   ],
   "source": [
    "from sklearn.ensemble import GradientBoostingClassifier\n",
    "\n",
    "# Define the parameter grid\n",
    "param_grid = {\n",
    "    'n_estimators': [10, 50, 100, 200, 500]  # You can choose a different range of values\n",
    "}\n",
    "\n",
    "gb = GradientBoostingClassifier(random_state=42)\n",
    "\n",
    "grid_search = GridSearchCV(estimator=gb, param_grid=param_grid, cv=5, scoring='accuracy', n_jobs=-1)\n",
    "\n",
    "best_estimators = {}\n",
    "for col in y_train_encoded.columns:\n",
    "    print(f\"Tuning hyperparameters for {col}...\")\n",
    "    grid_search.fit(X_train_tfidf, y_train_encoded[col])\n",
    "    best_estimators[col] = grid_search.best_params_['n_estimators']\n",
    "    print(f\"Best number of estimators for {col}: {best_estimators[col]}\")\n"
   ]
  },
  {
   "cell_type": "code",
   "execution_count": 129,
   "metadata": {
    "id": "5pktzYTVJQ3n"
   },
   "outputs": [],
   "source": [
    "from sklearn.ensemble import GradientBoostingClassifier\n",
    "\n",
    "# Train Gradient Boosting models\n",
    "gb_models = {}\n",
    "gb_accuracies = {}\n",
    "for col in y_train_encoded.columns:\n",
    "    best_n_estimators = best_estimators[col]\n",
    "    gb = GradientBoostingClassifier(n_estimators=best_n_estimators, random_state=42)\n",
    "    gb.fit(X_train_tfidf, y_train_encoded[col])\n",
    "    gb_models[col] = gb\n",
    "    y_pred = gb.predict(X_test_tfidf)\n",
    "    gb_accuracies[col] = accuracy_score(y_test_encoded[col], y_pred)\n"
   ]
  },
  {
   "cell_type": "code",
   "execution_count": 130,
   "metadata": {
    "colab": {
     "base_uri": "https://localhost:8080/"
    },
    "id": "5hh9l2rCJUHf",
    "outputId": "44042c70-a0d7-4d7e-cf04-895f7fba6007"
   },
   "outputs": [
    {
     "data": {
      "text/plain": [
       "{'Identification of the problem + Understanding gravity of problem ': 0.6,\n",
       " 'Sizing of the problem': 0.5333333333333333,\n",
       " 'Clarity on product idea/ who they are ': 0.6666666666666666,\n",
       " 'Understanding of competitors and landscape ': 0.6,\n",
       " 'GTM Strategy (how will they reach out to consumers)': 0.4666666666666667,\n",
       " 'Business Model (how will they earn money)': 0.6,\n",
       " 'Team': 0.8666666666666667,\n",
       " 'Product Differentiator ': 0.6}"
      ]
     },
     "execution_count": 130,
     "metadata": {},
     "output_type": "execute_result"
    }
   ],
   "source": [
    "gb_accuracies"
   ]
  },
  {
   "cell_type": "code",
   "execution_count": 131,
   "metadata": {
    "id": "GBZtfdaNJhmJ"
   },
   "outputs": [],
   "source": [
    "#ensemble: averaging the predictions\n",
    "ensemble_predictions = {}\n",
    "ensemble_accuracies = {}\n",
    "for col in y_train_encoded.columns:\n",
    "    rf_pred = rf_models[col].predict_proba(X_test_tfidf)\n",
    "    gb_pred = gb_models[col].predict_proba(X_test_tfidf)\n",
    "    avg_pred = (rf_pred + gb_pred) / 2\n",
    "    ensemble_predictions[col] = np.argmax(avg_pred, axis=1)\n",
    "    ensemble_accuracies[col] = accuracy_score(y_test_encoded[col], ensemble_predictions[col])\n"
   ]
  },
  {
   "cell_type": "code",
   "execution_count": 132,
   "metadata": {
    "colab": {
     "base_uri": "https://localhost:8080/"
    },
    "id": "tMSjXTbWJpE3",
    "outputId": "0ab5f6d6-64a6-40e2-c441-6f3143d7b23f"
   },
   "outputs": [
    {
     "data": {
      "text/plain": [
       "{'Identification of the problem + Understanding gravity of problem ': 0.6666666666666666,\n",
       " 'Sizing of the problem': 0.4666666666666667,\n",
       " 'Clarity on product idea/ who they are ': 0.6666666666666666,\n",
       " 'Understanding of competitors and landscape ': 0.6,\n",
       " 'GTM Strategy (how will they reach out to consumers)': 0.6,\n",
       " 'Business Model (how will they earn money)': 0.6666666666666666,\n",
       " 'Team': 0.8666666666666667,\n",
       " 'Product Differentiator ': 0.6}"
      ]
     },
     "execution_count": 132,
     "metadata": {},
     "output_type": "execute_result"
    }
   ],
   "source": [
    "ensemble_accuracies"
   ]
  },
  {
   "cell_type": "code",
   "execution_count": 133,
   "metadata": {
    "colab": {
     "base_uri": "https://localhost:8080/"
    },
    "id": "p1bds4htJuZ-",
    "outputId": "b757b579-51de-46ee-a3f7-b2529269d1cf"
   },
   "outputs": [
    {
     "name": "stdout",
     "output_type": "stream",
     "text": [
      "Overall Random Forest Accuracy: 58.33%\n",
      "Overall Gradient Boosting Accuracy: 61.67%\n",
      "Overall Ensemble Accuracy: 34.22%\n",
      "Overall Neural Network Accuracy: 22.50%\n"
     ]
    }
   ],
   "source": [
    "# accuracy for Random Forest\n",
    "overall_rf_accuracy = np.mean(list(rf_accuracies.values()))\n",
    "print(f\"Overall Random Forest Accuracy: {overall_rf_accuracy:.2%}\")\n",
    "\n",
    "# accuracy for Gradient Boosting\n",
    "overall_gb_accuracy = np.mean(list(gb_accuracies.values()))\n",
    "print(f\"Overall Gradient Boosting Accuracy: {overall_gb_accuracy:.2%}\")\n",
    "\n",
    "#accuracy for the ensemble method\n",
    "ensemble_correct_predictions = np.sum([y_test_encoded[col] == ensemble_predictions[col] for col in y_test_encoded.columns], axis=0)\n",
    "ensemble_overall_accuracy = np.mean(ensemble_correct_predictions / len(y_test_encoded))\n",
    "print(f\"Overall Ensemble Accuracy: {ensemble_overall_accuracy:.2%}\")\n",
    "\n",
    "# neural net accuracy\n",
    "overall_accuracy = np.mean(list(accuracies.values()))\n",
    "print(f\"Overall Neural Network Accuracy: {overall_accuracy * 100:.2f}%\")\n"
   ]
  },
  {
   "cell_type": "code",
   "execution_count": 134,
   "metadata": {
    "id": "jLXS8AplqlAu"
   },
   "outputs": [],
   "source": [
    "def predict_and_calculate_total(file_path, tfidf_vectorizer, model, encoders, weightages):\n",
    "    # Check file extension and extract text\n",
    "    if file_path.lower().endswith('.pdf'):\n",
    "        extracted_text = extract_text_from_pdf(file_path)\n",
    "    elif file_path.lower().endswith('.pptx'):\n",
    "        extracted_text = extract_text_from_pptx(file_path)\n",
    "    elif file_path.lower().endswith('.docx'):\n",
    "        extracted_text = extract_text_from_docx(file_path)\n",
    "    else:\n",
    "        print(\"Unsupported file format. Please provide a PDF or PPTX file.\")\n",
    "        return\n",
    "\n",
    "    # Preprocess the text\n",
    "    preprocessed_text = preprocess_text(extracted_text)\n",
    "\n",
    "    # Transform the text to TF-IDF features\n",
    "    tfidf_features = tfidf_vectorizer.transform([preprocessed_text]).toarray()\n",
    "\n",
    "    # Predict the scores\n",
    "    predictions = model.predict(tfidf_features)\n",
    "\n",
    "    # Decode predictions if necessary\n",
    "    predicted_labels = {}\n",
    "    for i, col in enumerate(encoders.keys()):\n",
    "        label_class = encoders[col].inverse_transform([np.argmax(predictions[i], axis=-1)])[0]\n",
    "        predicted_labels[col] = label_class\n",
    "\n",
    "    # Calculate the total score\n",
    "    total_score = 0\n",
    "    print(\"Predicted Parameter Scores:\")\n",
    "    for key, score in predicted_labels.items():\n",
    "        # If the scores are not already in a scaled format, you may need to scale them accordingly\n",
    "        individual_weighted_score = score * weightages[key]\n",
    "        total_score += individual_weighted_score\n",
    "        print(f\"  {key}: {score} (Weighted Score: {individual_weighted_score})\")\n",
    "    total_score_rounded = round(total_score, 2)\n",
    "    print(f\"\\nTotal Weighted Score: {total_score_rounded}\")\n",
    "    return predicted_labels, total_score_rounded"
   ]
  },
  {
   "cell_type": "markdown",
   "metadata": {
    "id": "JbbBhYswKW7J"
   },
   "source": [
    "Randon forest model: rf\n",
    "Gradient Boosting: gb\n",
    "Neural Network: model"
   ]
  },
  {
   "cell_type": "code",
   "execution_count": 135,
   "metadata": {
    "colab": {
     "base_uri": "https://localhost:8080/"
    },
    "id": "Bk5medEtsEJ_",
    "outputId": "1e8a96cc-a233-4d9c-c12c-f71cd4e54df0"
   },
   "outputs": [
    {
     "name": "stdout",
     "output_type": "stream",
     "text": [
      "1/1 [==============================] - 0s 21ms/step\n",
      "Predicted Parameter Scores:\n",
      "  Identification of the problem + Understanding gravity of problem : 3.0 (Weighted Score: 0.44999999999999996)\n",
      "  Sizing of the problem: 2 (Weighted Score: 0.2)\n",
      "  Clarity on product idea/ who they are : 2 (Weighted Score: 0.2)\n",
      "  Understanding of competitors and landscape : 1 (Weighted Score: 0.1)\n",
      "  GTM Strategy (how will they reach out to consumers): 2 (Weighted Score: 0.2)\n",
      "  Business Model (how will they earn money): 2 (Weighted Score: 0.2)\n",
      "  Team: 1 (Weighted Score: 0.2)\n",
      "  Product Differentiator : 2 (Weighted Score: 0.3)\n",
      "\n",
      "Total Weighted Score: 1.85\n"
     ]
    },
    {
     "name": "stderr",
     "output_type": "stream",
     "text": [
      "/usr/local/lib/python3.10/dist-packages/sklearn/preprocessing/_label.py:155: DataConversionWarning: A column-vector y was passed when a 1d array was expected. Please change the shape of y to (n_samples, ), for example using ravel().\n",
      "  y = column_or_1d(y, warn=True)\n",
      "/usr/local/lib/python3.10/dist-packages/sklearn/preprocessing/_label.py:155: DataConversionWarning: A column-vector y was passed when a 1d array was expected. Please change the shape of y to (n_samples, ), for example using ravel().\n",
      "  y = column_or_1d(y, warn=True)\n",
      "/usr/local/lib/python3.10/dist-packages/sklearn/preprocessing/_label.py:155: DataConversionWarning: A column-vector y was passed when a 1d array was expected. Please change the shape of y to (n_samples, ), for example using ravel().\n",
      "  y = column_or_1d(y, warn=True)\n",
      "/usr/local/lib/python3.10/dist-packages/sklearn/preprocessing/_label.py:155: DataConversionWarning: A column-vector y was passed when a 1d array was expected. Please change the shape of y to (n_samples, ), for example using ravel().\n",
      "  y = column_or_1d(y, warn=True)\n",
      "/usr/local/lib/python3.10/dist-packages/sklearn/preprocessing/_label.py:155: DataConversionWarning: A column-vector y was passed when a 1d array was expected. Please change the shape of y to (n_samples, ), for example using ravel().\n",
      "  y = column_or_1d(y, warn=True)\n",
      "/usr/local/lib/python3.10/dist-packages/sklearn/preprocessing/_label.py:155: DataConversionWarning: A column-vector y was passed when a 1d array was expected. Please change the shape of y to (n_samples, ), for example using ravel().\n",
      "  y = column_or_1d(y, warn=True)\n",
      "/usr/local/lib/python3.10/dist-packages/sklearn/preprocessing/_label.py:155: DataConversionWarning: A column-vector y was passed when a 1d array was expected. Please change the shape of y to (n_samples, ), for example using ravel().\n",
      "  y = column_or_1d(y, warn=True)\n",
      "/usr/local/lib/python3.10/dist-packages/sklearn/preprocessing/_label.py:155: DataConversionWarning: A column-vector y was passed when a 1d array was expected. Please change the shape of y to (n_samples, ), for example using ravel().\n",
      "  y = column_or_1d(y, warn=True)\n"
     ]
    },
    {
     "data": {
      "text/plain": [
       "({'Identification of the problem + Understanding gravity of problem ': 3.0,\n",
       "  'Sizing of the problem': 2,\n",
       "  'Clarity on product idea/ who they are ': 2,\n",
       "  'Understanding of competitors and landscape ': 1,\n",
       "  'GTM Strategy (how will they reach out to consumers)': 2,\n",
       "  'Business Model (how will they earn money)': 2,\n",
       "  'Team': 1,\n",
       "  'Product Differentiator ': 2},\n",
       " 1.85)"
      ]
     },
     "execution_count": 135,
     "metadata": {},
     "output_type": "execute_result"
    }
   ],
   "source": [
    "file_to_predict = 'file_path'  # Change this to the path of the file you want to predict\n",
    "predict_and_calculate_total(file_to_predict, tfidf_vectorizer, model, encoders, weightages)"
   ]
  },
  {
   "cell_type": "code",
   "execution_count": 136,
   "metadata": {
    "colab": {
     "base_uri": "https://localhost:8080/"
    },
    "id": "Pn7-Du_yuzpT",
    "outputId": "90c6baf2-df84-4935-fbc9-be023570250e"
   },
   "outputs": [
    {
     "name": "stderr",
     "output_type": "stream",
     "text": [
      "/usr/local/lib/python3.10/dist-packages/keras/src/engine/training.py:3079: UserWarning: You are saving your model as an HDF5 file via `model.save()`. This file format is considered legacy. We recommend using instead the native Keras format, e.g. `model.save('my_model.keras')`.\n",
      "  saving_api.save_model(\n"
     ]
    }
   ],
   "source": [
    "model.save('my_keras_model.h5')"
   ]
  },
  {
   "cell_type": "code",
   "execution_count": 137,
   "metadata": {
    "colab": {
     "base_uri": "https://localhost:8080/"
    },
    "id": "EzklR1U1v9io",
    "outputId": "0b745086-6b38-4022-ec26-88e0b9e08f90"
   },
   "outputs": [
    {
     "data": {
      "text/plain": [
       "['gradient_boosting_model.joblib']"
      ]
     },
     "execution_count": 137,
     "metadata": {},
     "output_type": "execute_result"
    }
   ],
   "source": [
    "import joblib\n",
    "\n",
    "# Save the model\n",
    "joblib.dump(gb, 'gradient_boosting_model.joblib')\n"
   ]
  }
 ],
 "metadata": {
  "colab": {
   "provenance": []
  },
  "kernelspec": {
   "display_name": "Python 3 (ipykernel)",
   "language": "python",
   "name": "python3"
  },
  "language_info": {
   "codemirror_mode": {
    "name": "ipython",
    "version": 3
   },
   "file_extension": ".py",
   "mimetype": "text/x-python",
   "name": "python",
   "nbconvert_exporter": "python",
   "pygments_lexer": "ipython3",
   "version": "3.10.12"
  }
 },
 "nbformat": 4,
 "nbformat_minor": 4
}
